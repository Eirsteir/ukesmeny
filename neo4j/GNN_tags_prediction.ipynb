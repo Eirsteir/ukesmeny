{
 "cells": [
  {
   "cell_type": "code",
   "execution_count": 2,
   "id": "initial_id",
   "metadata": {
    "collapsed": true,
    "ExecuteTime": {
     "end_time": "2023-10-17T11:02:18.724801300Z",
     "start_time": "2023-10-17T11:00:33.077389700Z"
    }
   },
   "outputs": [
    {
     "name": "stdout",
     "output_type": "stream",
     "text": [
      "^C\n"
     ]
    }
   ],
   "source": [
    "# Install necessary dependencies (takes a long time)\n",
    "!pip install torch torch_scatter torch_sparse torch_geometric graphdatascience"
   ]
  },
  {
   "cell_type": "code",
   "execution_count": 7,
   "outputs": [],
   "source": [
    "import os\n",
    "import pandas as pd\n",
    "from graphdatascience import GraphDataScience\n",
    "import torch\n",
    "from torch_geometric.data import Data\n",
    "import torch.nn.functional as F\n",
    "from torch_geometric.nn import GCNConv, RGCNConv\n",
    "from torch_geometric.transforms import RandomNodeSplit\n",
    "import random\n",
    "import numpy as np\n",
    "from sklearn.preprocessing import MultiLabelBinarizer\n"
   ],
   "metadata": {
    "collapsed": false,
    "ExecuteTime": {
     "end_time": "2023-10-19T11:50:02.611869100Z",
     "start_time": "2023-10-19T11:50:02.580619400Z"
    }
   },
   "id": "7433ca089de8e0b8"
  },
  {
   "cell_type": "code",
   "execution_count": 8,
   "outputs": [],
   "source": [
    "# Set seeds for consistent results\n",
    "random.seed(42)\n",
    "np.random.seed(42)\n",
    "torch.manual_seed(42)\n",
    "torch.cuda.manual_seed_all(42)"
   ],
   "metadata": {
    "collapsed": false,
    "ExecuteTime": {
     "end_time": "2023-10-19T11:50:04.072151900Z",
     "start_time": "2023-10-19T11:50:04.009651Z"
    }
   },
   "id": "558506b8a770ba8c"
  },
  {
   "cell_type": "code",
   "execution_count": 9,
   "outputs": [],
   "source": [
    "# Get Neo4j DB URI, credentials and name from environment if applicable\n",
    "NEO4J_URI = os.environ.get(\"NEO4J_URI\", \"bolt://localhost:7687\")\n",
    "NEO4J_DB = os.environ.get(\"NEO4J_DB\", \"neo4j\")\n",
    "NEO4J_AUTH = (\n",
    "    os.environ.get(\"NEO4J_USER\", \"neo4j\"),\n",
    "    os.environ.get(\"NEO4J_PASSWORD\", \"pleaseletmein\"),\n",
    ")\n",
    "\n",
    "gds = GraphDataScience(NEO4J_URI, auth=NEO4J_AUTH, database=NEO4J_DB)"
   ],
   "metadata": {
    "collapsed": false,
    "ExecuteTime": {
     "end_time": "2023-10-19T11:50:05.938302Z",
     "start_time": "2023-10-19T11:50:05.755077700Z"
    }
   },
   "id": "ddd8d22b7a587458"
  },
  {
   "cell_type": "code",
   "execution_count": 10,
   "outputs": [],
   "source": [
    "def fetch_data(query):\n",
    "    return gds.run_cypher(query)"
   ],
   "metadata": {
    "collapsed": false,
    "ExecuteTime": {
     "end_time": "2023-10-19T11:50:08.936546400Z",
     "start_time": "2023-10-19T11:50:08.920924100Z"
    }
   },
   "id": "d6939e21a13c7fa2"
  },
  {
   "cell_type": "code",
   "execution_count": 12,
   "outputs": [],
   "source": [
    "def load_node(cypher, index_col, encoders=None, target_encoders=None, **kwargs):\n",
    "    # Execute the cypher query and retrieve data from Neo4j\n",
    "    df = fetch_data(cypher)\n",
    "    df.set_index(index_col, inplace=True)\n",
    "    # Define node mapping\n",
    "    mapping = {index: i for i, index in enumerate(df.index.unique())}\n",
    "    # Define node features\n",
    "    x = None\n",
    "    if encoders is not None:\n",
    "        xs = [encoder(df[col]) for col, encoder in encoders.items()]\n",
    "        x = torch.cat(xs, dim=-1)\n",
    "        \n",
    "    y = None\n",
    "    if target_encoders is not None: \n",
    "        ys = [encoder(df[col]) for col, encoder in target_encoders.items()]\n",
    "        y = torch.cat(ys, dim=-1)\n",
    "\n",
    "    return x, mapping, y"
   ],
   "metadata": {
    "collapsed": false,
    "ExecuteTime": {
     "end_time": "2023-10-19T11:50:27.041355400Z",
     "start_time": "2023-10-19T11:50:26.588241100Z"
    }
   },
   "id": "82393231c3d732ab"
  },
  {
   "cell_type": "code",
   "execution_count": 13,
   "outputs": [],
   "source": [
    "def load_edge(cypher, src_index_col, src_mapping, dst_index_col, dst_mapping,\n",
    "                  encoders=None, **kwargs):\n",
    "    # Execute the cypher query and retrieve data from Neo4j\n",
    "    df = fetch_data(cypher)\n",
    "    # Define edge index\n",
    "    src = [src_mapping[index] for index in df[src_index_col]]\n",
    "    dst = [dst_mapping[index] for index in df[dst_index_col]]\n",
    "    edge_index = torch.tensor([src, dst])\n",
    "    # Define edge features\n",
    "    edge_attr = None\n",
    "    if encoders is not None:\n",
    "        edge_attrs = [encoder(df[col]) for col, encoder in encoders.items()]\n",
    "        edge_attr = torch.cat(edge_attrs, dim=-1)\n",
    "\n",
    "    return edge_index, edge_attr"
   ],
   "metadata": {
    "collapsed": false,
    "ExecuteTime": {
     "end_time": "2023-10-19T11:50:27.041355400Z",
     "start_time": "2023-10-19T11:50:26.619486500Z"
    }
   },
   "id": "c4859dd21eecc362"
  },
  {
   "cell_type": "code",
   "execution_count": 126,
   "outputs": [],
   "source": [
    "mlb = MultiLabelBinarizer()\n",
    "\n",
    "def tags_encoder(tags):\n",
    "    tags_mlb = mlb.fit_transform(tags)\n",
    "    return torch.Tensor(list(tags_mlb))\n",
    "\n",
    "from sentence_transformers import SentenceTransformer\n",
    "\n",
    "class SequenceEncoder:\n",
    "    def __init__(self, model_name='all-MiniLM-L6-v2', device=None):\n",
    "        self.device = device\n",
    "        self.model = SentenceTransformer(model_name, device=device)\n",
    "\n",
    "    @torch.no_grad()\n",
    "    def __call__(self, df):\n",
    "        x = self.model.encode(df.values, show_progress_bar=True,\n",
    "                              convert_to_tensor=True, device=self.device)\n",
    "        return x.cpu()\n",
    "    \n",
    "class WeekdayEncoder:\n",
    "    def __init__(self, sep='|'):\n",
    "        self.sep = sep\n",
    "\n",
    "    def __call__(self, df):\n",
    "        genres = set(col for col in df.values)\n",
    "        mapping = {genre: i for i, genre in enumerate(genres)}\n",
    "\n",
    "        x = torch.zeros(len(df), len(mapping))\n",
    "        for i, col in enumerate(df.values):\n",
    "            for genre in col.split(self.sep):\n",
    "                x[i, mapping[genre]] = 1\n",
    "        return x"
   ],
   "metadata": {
    "collapsed": false,
    "ExecuteTime": {
     "end_time": "2023-10-19T12:39:04.260268900Z",
     "start_time": "2023-10-19T12:39:04.165781900Z"
    }
   },
   "id": "5f2d78ebb62a77eb"
  },
  {
   "cell_type": "code",
   "execution_count": 127,
   "outputs": [
    {
     "name": "stderr",
     "output_type": "stream",
     "text": [
      "C:\\Users\\Eirik\\AppData\\Local\\Temp\\ipykernel_5568\\713585520.py:14: FutureWarning: Series.__getitem__ treating keys as positions is deprecated. In a future version, integer keys will always be treated as labels (consistent with DataFrame behavior). To access a value by position, use `ser.iloc[pos]`\n",
      "  \"embedding\": lambda x: torch.Tensor(x)\n"
     ]
    }
   ],
   "source": [
    "recipe_query = \"\"\"\n",
    "MATCH (a:Recipe)\n",
    "OPTIONAL MATCH (a)-[:HAS_TAG]->(tag:Tag)\n",
    "RETURN a.recipieId as recipeId,\n",
    "       a.openaiEmbeddings as embedding,\n",
    "       collect(tag.title) AS tags\n",
    "\n",
    "\"\"\"\n",
    "\n",
    "recipe_x, recipe_mapping, recipe_y = load_node(\n",
    "    recipe_query, \n",
    "    index_col='recipeId', \n",
    "    encoders={\n",
    "        \"embedding\": lambda x: torch.Tensor(x)\n",
    "    },\n",
    "    target_encoders={\n",
    "        \"tags\": tags_encoder\n",
    "    }\n",
    ")"
   ],
   "metadata": {
    "collapsed": false,
    "ExecuteTime": {
     "end_time": "2023-10-19T12:39:10.961650600Z",
     "start_time": "2023-10-19T12:39:05.933606700Z"
    }
   },
   "id": "e9e1f14a0cc1da20"
  },
  {
   "cell_type": "code",
   "execution_count": 84,
   "outputs": [
    {
     "data": {
      "text/plain": "(torch.Size([723, 1536]), 723, torch.Size([723, 262]))"
     },
     "execution_count": 84,
     "metadata": {},
     "output_type": "execute_result"
    }
   ],
   "source": [
    "recipe_x.shape, len(recipe_mapping), recipe_y.shape"
   ],
   "metadata": {
    "collapsed": false,
    "ExecuteTime": {
     "end_time": "2023-10-19T12:18:31.228343400Z",
     "start_time": "2023-10-19T12:18:31.134590400Z"
    }
   },
   "id": "7a8f888fdda9137f"
  },
  {
   "cell_type": "code",
   "execution_count": 17,
   "outputs": [
    {
     "data": {
      "text/plain": "Batches:   0%|          | 0/57 [00:00<?, ?it/s]",
      "application/vnd.jupyter.widget-view+json": {
       "version_major": 2,
       "version_minor": 0,
       "model_id": "56ff912acc7b4dcbbe918c6b10e4a5b6"
      }
     },
     "metadata": {},
     "output_type": "display_data"
    }
   ],
   "source": [
    "ingredient_query = \"\"\"\n",
    "MATCH (i:Ingredient)\n",
    "RETURN ID(i) as ingredientId, i.title as title\n",
    "\"\"\"\n",
    "ingredient_x, ingredient_mapping, y = load_node(\n",
    "    ingredient_query, \n",
    "    index_col='ingredientId', \n",
    "    encoders={\n",
    "        'title': SequenceEncoder()\n",
    "    }\n",
    ")"
   ],
   "metadata": {
    "collapsed": false,
    "ExecuteTime": {
     "end_time": "2023-10-19T11:50:47.274906Z",
     "start_time": "2023-10-19T11:50:38.324045Z"
    }
   },
   "id": "d6fdcf042951fc0"
  },
  {
   "cell_type": "code",
   "execution_count": 18,
   "outputs": [
    {
     "data": {
      "text/plain": "(torch.Size([1793, 384]), 1793)"
     },
     "execution_count": 18,
     "metadata": {},
     "output_type": "execute_result"
    }
   ],
   "source": [
    "ingredient_x.shape, len(ingredient_mapping)"
   ],
   "metadata": {
    "collapsed": false,
    "ExecuteTime": {
     "end_time": "2023-10-19T11:50:47.308285Z",
     "start_time": "2023-10-19T11:50:47.279909200Z"
    }
   },
   "id": "6dd3de1c20740129"
  },
  {
   "cell_type": "code",
   "execution_count": 19,
   "outputs": [],
   "source": [
    "menu_query = \"\"\"\n",
    "MATCH (m:Menu)\n",
    "RETURN ID(m) as menuId, m.year as year, m.week as week\n",
    "\"\"\"\n",
    "menu_x, menu_mapping, y = load_node(\n",
    "    menu_query, \n",
    "    index_col='menuId',\n",
    "    encoders={\n",
    "        \"year\": lambda x: torch.Tensor(x.tolist()).view(-1, 1),\n",
    "        \"week\": lambda x: torch.Tensor(x.tolist()).view(-1, 1),\n",
    "    }\n",
    ")"
   ],
   "metadata": {
    "collapsed": false,
    "ExecuteTime": {
     "end_time": "2023-10-19T11:50:47.484635900Z",
     "start_time": "2023-10-19T11:50:47.298915700Z"
    }
   },
   "id": "101ad49116b3994f"
  },
  {
   "cell_type": "code",
   "execution_count": 20,
   "outputs": [
    {
     "data": {
      "text/plain": "(torch.Size([142, 2]), 142)"
     },
     "execution_count": 20,
     "metadata": {},
     "output_type": "execute_result"
    }
   ],
   "source": [
    "menu_x.shape, len(menu_mapping)"
   ],
   "metadata": {
    "collapsed": false,
    "ExecuteTime": {
     "end_time": "2023-10-19T11:50:47.500808500Z",
     "start_time": "2023-10-19T11:50:47.484635900Z"
    }
   },
   "id": "40da01b9dfcfad8d"
  },
  {
   "cell_type": "code",
   "execution_count": 89,
   "outputs": [],
   "source": [
    "recipe_menu_query = \"\"\"\n",
    "MATCH (n:Recipe)-[:HAS_TAG]->(:Tag), (n)-[r:IS_PART_OF_MENU]->(m:Menu)\n",
    "RETURN DISTINCT n.recipieId AS recipeId, ID(m) AS menuId, r.weekDay AS weekDay\n",
    "\"\"\"\n",
    "\n",
    "recipe_menu_edge_index, recipe_menu_edge_label = load_edge(\n",
    "    recipe_menu_query,\n",
    "    src_index_col='recipeId',\n",
    "    src_mapping=recipe_mapping,\n",
    "    dst_index_col='menuId',\n",
    "    dst_mapping=menu_mapping,\n",
    "    encoders={'weekDay': WeekdayEncoder()},\n",
    ")"
   ],
   "metadata": {
    "collapsed": false,
    "ExecuteTime": {
     "end_time": "2023-10-19T12:21:12.333348900Z",
     "start_time": "2023-10-19T12:21:12.025057100Z"
    }
   },
   "id": "5b201cdc7df4b23f"
  },
  {
   "cell_type": "code",
   "execution_count": 90,
   "outputs": [
    {
     "data": {
      "text/plain": "(torch.Size([2, 698]), torch.Size([698, 7]))"
     },
     "execution_count": 90,
     "metadata": {},
     "output_type": "execute_result"
    }
   ],
   "source": [
    "recipe_menu_edge_index.shape, recipe_menu_edge_label.shape"
   ],
   "metadata": {
    "collapsed": false,
    "ExecuteTime": {
     "end_time": "2023-10-19T12:21:14.457994Z",
     "start_time": "2023-10-19T12:21:14.423512600Z"
    }
   },
   "id": "b3a76f187ca70691"
  },
  {
   "cell_type": "code",
   "execution_count": 91,
   "outputs": [],
   "source": [
    "recipe_ingredient_query = \"\"\"\n",
    "MATCH (n:Recipe)-[:HAS_TAG]->(:Tag), (n)-[r:HAS_INGREDIENT]->(i:Ingredient) \n",
    "RETURN DISTINCT n.recipieId AS recipeId, ID(i) AS ingredientId\n",
    "\"\"\"\n",
    "\n",
    "recipe_ingredient_edge_index, recipe_ingredient_edge_label = load_edge(\n",
    "    recipe_ingredient_query,\n",
    "    src_index_col='recipeId',\n",
    "    src_mapping=recipe_mapping,\n",
    "    dst_index_col='ingredientId',\n",
    "    dst_mapping=ingredient_mapping,\n",
    ")"
   ],
   "metadata": {
    "collapsed": false,
    "ExecuteTime": {
     "end_time": "2023-10-19T12:21:54.731633700Z",
     "start_time": "2023-10-19T12:21:53.844050100Z"
    }
   },
   "id": "e63569124aef7cec"
  },
  {
   "cell_type": "code",
   "execution_count": 92,
   "outputs": [
    {
     "data": {
      "text/plain": "(torch.Size([2, 5921]), None)"
     },
     "execution_count": 92,
     "metadata": {},
     "output_type": "execute_result"
    }
   ],
   "source": [
    "recipe_ingredient_edge_index.shape, recipe_ingredient_edge_label"
   ],
   "metadata": {
    "collapsed": false,
    "ExecuteTime": {
     "end_time": "2023-10-19T12:21:55.683743200Z",
     "start_time": "2023-10-19T12:21:55.652499600Z"
    }
   },
   "id": "7bf086b1809709f5"
  },
  {
   "cell_type": "code",
   "execution_count": 93,
   "outputs": [
    {
     "data": {
      "text/plain": "HeteroData(\n  num_relations=2,\n  num_classes=262,\n  num_nodes=2658,\n  recipe={\n    x=[723, 1536],\n    y=[723, 262],\n  },\n  menu={ x=[142, 2] },\n  ingredient={ x=[1793, 384] },\n  (recipe, has_ingredient, ingredient)={ edge_index=[2, 5921] },\n  (recipe, is_part_of_menu, menu)={\n    edge_index=[2, 698],\n    edge_attr=[698, 7],\n  }\n)"
     },
     "execution_count": 93,
     "metadata": {},
     "output_type": "execute_result"
    }
   ],
   "source": [
    "from torch_geometric.data import HeteroData\n",
    "\n",
    "data = HeteroData()\n",
    "\n",
    "data['recipe'].x = recipe_x\n",
    "data['recipe'].y = recipe_y\n",
    "data[\"menu\"].x = menu_x\n",
    "data[\"ingredient\"].x = ingredient_x\n",
    "data[\"recipe\", \"has_ingredient\", \"ingredient\"].edge_index = recipe_ingredient_edge_index\n",
    "data[\"recipe\", \"is_part_of_menu\", \"menu\"].edge_index = recipe_menu_edge_index\n",
    "data[\"recipe\", \"is_part_of_menu\", \"menu\"].edge_attr = recipe_menu_edge_label\n",
    "data.num_relations = 2\n",
    "data.num_classes = recipe_y.shape[-1]\n",
    "data.num_nodes = len(recipe_mapping) + len(ingredient_mapping) + len(menu_mapping)\n",
    "data"
   ],
   "metadata": {
    "collapsed": false,
    "ExecuteTime": {
     "end_time": "2023-10-19T12:21:58.353683300Z",
     "start_time": "2023-10-19T12:21:58.294284900Z"
    }
   },
   "id": "7ed42e63f442ae0f"
  },
  {
   "cell_type": "code",
   "execution_count": 94,
   "outputs": [
    {
     "data": {
      "text/plain": "HeteroData(\n  num_relations=2,\n  num_classes=262,\n  num_nodes=2658,\n  recipe={\n    x=[723, 1536],\n    y=[723, 262],\n  },\n  menu={ x=[142, 2] },\n  ingredient={ x=[1793, 384] },\n  (recipe, has_ingredient, ingredient)={ edge_index=[2, 5921] },\n  (recipe, is_part_of_menu, menu)={\n    edge_index=[2, 698],\n    edge_attr=[698, 7],\n  },\n  (ingredient, rev_has_ingredient, recipe)={ edge_index=[2, 5921] },\n  (menu, rev_is_part_of_menu, recipe)={\n    edge_index=[2, 698],\n    edge_attr=[698, 7],\n  }\n)"
     },
     "execution_count": 94,
     "metadata": {},
     "output_type": "execute_result"
    }
   ],
   "source": [
    "from torch_geometric.transforms import ToUndirected\n",
    "\n",
    "data = ToUndirected()(data)\n",
    "data"
   ],
   "metadata": {
    "collapsed": false,
    "ExecuteTime": {
     "end_time": "2023-10-19T12:22:00.621449600Z",
     "start_time": "2023-10-19T12:22:00.590199200Z"
    }
   },
   "id": "b92685477f3427aa"
  },
  {
   "cell_type": "code",
   "execution_count": 170,
   "outputs": [],
   "source": [
    "from torch_geometric.transforms import RandomLinkSplit\n",
    "\n",
    "# 2. Perform a link-level split into training, validation, and test edges.\n",
    "transform = RandomLinkSplit(\n",
    "    num_val=0.1,\n",
    "    num_test=0.1,\n",
    "    neg_sampling_ratio=0.0,\n",
    "    edge_types=[(\"recipe\", \"is_part_of_menu\", \"menu\"), (\"recipe\", \"has_ingredient\", \"ingredient\")],\n",
    "    # rev_edge_types=[('movie', 'rev_rates', 'user')],\n",
    ")\n",
    "train_data, val_data, test_data = transform(data)"
   ],
   "metadata": {
    "collapsed": false,
    "ExecuteTime": {
     "end_time": "2023-10-19T13:06:37.741992100Z",
     "start_time": "2023-10-19T13:06:35.550022100Z"
    }
   },
   "id": "40fbc3b48bf3660d"
  },
  {
   "cell_type": "code",
   "execution_count": 96,
   "outputs": [
    {
     "data": {
      "text/plain": "[('recipe', 'has_ingredient', 'ingredient'),\n ('recipe', 'is_part_of_menu', 'menu'),\n ('ingredient', 'rev_has_ingredient', 'recipe'),\n ('menu', 'rev_is_part_of_menu', 'recipe')]"
     },
     "execution_count": 96,
     "metadata": {},
     "output_type": "execute_result"
    }
   ],
   "source": [
    "data.metadata()[1]"
   ],
   "metadata": {
    "collapsed": false,
    "ExecuteTime": {
     "end_time": "2023-10-19T12:22:07.644050700Z",
     "start_time": "2023-10-19T12:22:07.612805Z"
    }
   },
   "id": "27ca4cc406072ed3"
  },
  {
   "cell_type": "code",
   "execution_count": 97,
   "outputs": [],
   "source": [
    "from torch_geometric.nn import GATConv, Linear, to_hetero\n",
    "\n",
    "class GAT(torch.nn.Module):\n",
    "    def __init__(self, hidden_channels, out_channels):\n",
    "        super().__init__()\n",
    "        self.conv1 = GATConv((-1, -1), hidden_channels, add_self_loops=False)\n",
    "        self.lin1 = Linear(-1, hidden_channels)\n",
    "        self.conv2 = GATConv((-1, -1), out_channels, add_self_loops=False)\n",
    "        self.lin2 = Linear(-1, out_channels)\n",
    "\n",
    "    def forward(self, x, edge_index):\n",
    "        x = self.conv1(x, edge_index) + self.lin1(x)\n",
    "        x = x.relu()\n",
    "        x = self.conv2(x, edge_index) + self.lin2(x)\n",
    "        return x\n"
   ],
   "metadata": {
    "collapsed": false,
    "ExecuteTime": {
     "end_time": "2023-10-19T12:22:13.210672600Z",
     "start_time": "2023-10-19T12:22:13.190166400Z"
    }
   },
   "id": "3aa6fd54bef8a3ef"
  },
  {
   "cell_type": "code",
   "execution_count": 171,
   "outputs": [],
   "source": [
    "model = GAT(hidden_channels=64, out_channels=data.num_classes)\n",
    "model = to_hetero(model, data.metadata(), aggr='sum')\n",
    "\n",
    "device = torch.device('cuda' if torch.cuda.is_available() else 'cpu')\n",
    "data, model = data.to(device), model.to(device)"
   ],
   "metadata": {
    "collapsed": false,
    "ExecuteTime": {
     "end_time": "2023-10-19T13:06:44.537115700Z",
     "start_time": "2023-10-19T13:06:43.830499100Z"
    }
   },
   "id": "4882d5703529724"
  },
  {
   "cell_type": "code",
   "execution_count": 61,
   "outputs": [],
   "source": [
    "with torch.no_grad():  # Initialize lazy modules.\n",
    "    out = model(data.x_dict, data.edge_index_dict)"
   ],
   "metadata": {
    "collapsed": false,
    "ExecuteTime": {
     "end_time": "2023-10-19T12:03:09.931743300Z",
     "start_time": "2023-10-19T12:03:09.851754900Z"
    }
   },
   "id": "5156a1b9be873093"
  },
  {
   "cell_type": "code",
   "execution_count": 172,
   "outputs": [
    {
     "name": "stdout",
     "output_type": "stream",
     "text": [
      "Epoch 1, Loss: 70.7812728881836\n",
      "Validation Loss: 43.405303955078125\n",
      "Epoch 2, Loss: 43.405303955078125\n",
      "Validation Loss: 22.590410232543945\n",
      "Epoch 3, Loss: 22.590410232543945\n",
      "Validation Loss: 10.738277435302734\n",
      "Epoch 4, Loss: 10.738277435302734\n",
      "Validation Loss: 5.408465385437012\n",
      "Epoch 5, Loss: 5.408465385437012\n",
      "Validation Loss: 4.1466498374938965\n",
      "Epoch 6, Loss: 4.1466498374938965\n",
      "Validation Loss: 4.240091800689697\n",
      "Epoch 7, Loss: 4.240091800689697\n",
      "Validation Loss: 4.144588947296143\n",
      "Epoch 8, Loss: 4.144588947296143\n",
      "Validation Loss: 4.111286163330078\n",
      "Epoch 9, Loss: 4.111286163330078\n",
      "Validation Loss: 4.207366466522217\n",
      "Epoch 10, Loss: 4.207366466522217\n",
      "Validation Loss: 4.344906330108643\n",
      "Epoch 11, Loss: 4.344906330108643\n",
      "Validation Loss: 4.450405597686768\n",
      "Epoch 12, Loss: 4.450405597686768\n",
      "Validation Loss: 4.409655570983887\n",
      "Epoch 13, Loss: 4.409655570983887\n",
      "Validation Loss: 4.371861457824707\n",
      "Epoch 14, Loss: 4.371861457824707\n",
      "Validation Loss: 4.288656234741211\n",
      "Epoch 15, Loss: 4.288656234741211\n",
      "Validation Loss: 4.197451114654541\n",
      "Epoch 16, Loss: 4.197451114654541\n",
      "Validation Loss: 4.303506851196289\n",
      "Epoch 17, Loss: 4.303506851196289\n",
      "Validation Loss: 4.231961250305176\n",
      "Epoch 18, Loss: 4.231961250305176\n",
      "Validation Loss: 4.083527565002441\n",
      "Epoch 19, Loss: 4.083527565002441\n",
      "Validation Loss: 4.071445941925049\n",
      "Epoch 20, Loss: 4.071445941925049\n",
      "Validation Loss: 3.939304828643799\n",
      "Epoch 21, Loss: 3.939304828643799\n",
      "Validation Loss: 3.918269634246826\n",
      "Epoch 22, Loss: 3.918269634246826\n",
      "Validation Loss: 3.807244300842285\n",
      "Epoch 23, Loss: 3.807244300842285\n",
      "Validation Loss: 3.7725510597229004\n",
      "Epoch 24, Loss: 3.7725510597229004\n",
      "Validation Loss: 3.6319851875305176\n",
      "Epoch 25, Loss: 3.6319851875305176\n",
      "Validation Loss: 3.551217555999756\n",
      "Epoch 26, Loss: 3.551217555999756\n",
      "Validation Loss: 3.4606997966766357\n",
      "Epoch 27, Loss: 3.4606997966766357\n",
      "Validation Loss: 3.3159801959991455\n",
      "Epoch 28, Loss: 3.3159801959991455\n",
      "Validation Loss: 3.1371631622314453\n",
      "Epoch 29, Loss: 3.1371631622314453\n",
      "Validation Loss: 2.9671623706817627\n",
      "Epoch 30, Loss: 2.9671623706817627\n",
      "Validation Loss: 2.9777464866638184\n",
      "Epoch 31, Loss: 2.9777464866638184\n",
      "Validation Loss: 2.978559970855713\n",
      "Epoch 32, Loss: 2.978559970855713\n",
      "Validation Loss: 2.895869016647339\n",
      "Epoch 33, Loss: 2.895869016647339\n",
      "Validation Loss: 2.755906820297241\n",
      "Epoch 34, Loss: 2.755906820297241\n",
      "Validation Loss: 2.7496869564056396\n",
      "Epoch 35, Loss: 2.7496869564056396\n",
      "Validation Loss: 2.628649950027466\n",
      "Epoch 36, Loss: 2.628649950027466\n",
      "Validation Loss: 2.5501043796539307\n",
      "Epoch 37, Loss: 2.5501043796539307\n",
      "Validation Loss: 2.499920129776001\n",
      "Epoch 38, Loss: 2.499920129776001\n",
      "Validation Loss: 2.420807361602783\n",
      "Epoch 39, Loss: 2.420807361602783\n",
      "Validation Loss: 2.329345226287842\n",
      "Epoch 40, Loss: 2.329345226287842\n",
      "Validation Loss: 2.2515835762023926\n",
      "Epoch 41, Loss: 2.2515835762023926\n",
      "Validation Loss: 2.1866841316223145\n",
      "Epoch 42, Loss: 2.1866841316223145\n",
      "Validation Loss: 2.031599998474121\n",
      "Epoch 43, Loss: 2.031599998474121\n",
      "Validation Loss: 1.9752885103225708\n",
      "Epoch 44, Loss: 1.9752885103225708\n",
      "Validation Loss: 1.9701294898986816\n",
      "Epoch 45, Loss: 1.9701294898986816\n",
      "Validation Loss: 1.9596389532089233\n",
      "Epoch 46, Loss: 1.9596389532089233\n",
      "Validation Loss: 1.8750838041305542\n",
      "Epoch 47, Loss: 1.8750838041305542\n",
      "Validation Loss: 1.7209209203720093\n",
      "Epoch 48, Loss: 1.7209209203720093\n",
      "Validation Loss: 1.7067224979400635\n",
      "Epoch 49, Loss: 1.7067224979400635\n",
      "Validation Loss: 1.6768287420272827\n",
      "Epoch 50, Loss: 1.6768287420272827\n",
      "Validation Loss: 1.6587598323822021\n",
      "Epoch 51, Loss: 1.6587598323822021\n",
      "Validation Loss: 1.586602807044983\n",
      "Epoch 52, Loss: 1.586602807044983\n",
      "Validation Loss: 1.5374025106430054\n",
      "Epoch 53, Loss: 1.5374025106430054\n",
      "Validation Loss: 1.4587305784225464\n",
      "Epoch 54, Loss: 1.4587305784225464\n",
      "Validation Loss: 1.5169551372528076\n",
      "Epoch 55, Loss: 1.5169551372528076\n",
      "Validation Loss: 1.3866276741027832\n",
      "Epoch 56, Loss: 1.3866276741027832\n",
      "Validation Loss: 1.3723808526992798\n",
      "Epoch 57, Loss: 1.3723808526992798\n",
      "Validation Loss: 1.3245748281478882\n",
      "Epoch 58, Loss: 1.3245748281478882\n",
      "Validation Loss: 1.330544114112854\n",
      "Epoch 59, Loss: 1.330544114112854\n",
      "Validation Loss: 1.27182137966156\n",
      "Epoch 60, Loss: 1.27182137966156\n",
      "Validation Loss: 1.2687469720840454\n",
      "Epoch 61, Loss: 1.2687469720840454\n",
      "Validation Loss: 1.2211229801177979\n",
      "Epoch 62, Loss: 1.2211229801177979\n",
      "Validation Loss: 1.3007887601852417\n",
      "Epoch 63, Loss: 1.3007887601852417\n",
      "Validation Loss: 1.1972367763519287\n",
      "Epoch 64, Loss: 1.1972367763519287\n",
      "Validation Loss: 1.2636549472808838\n",
      "Epoch 65, Loss: 1.2636549472808838\n",
      "Validation Loss: 1.2326993942260742\n",
      "Epoch 66, Loss: 1.2326993942260742\n",
      "Validation Loss: 1.2737271785736084\n",
      "Epoch 67, Loss: 1.2737271785736084\n",
      "Validation Loss: 1.1862131357192993\n",
      "Epoch 68, Loss: 1.1862131357192993\n",
      "Validation Loss: 1.1823647022247314\n",
      "Epoch 69, Loss: 1.1823647022247314\n",
      "Validation Loss: 1.1648523807525635\n",
      "Epoch 70, Loss: 1.1648523807525635\n",
      "Validation Loss: 1.22898530960083\n",
      "Epoch 71, Loss: 1.22898530960083\n",
      "Validation Loss: 1.1355788707733154\n",
      "Epoch 72, Loss: 1.1355788707733154\n",
      "Validation Loss: 1.0593336820602417\n",
      "Epoch 73, Loss: 1.0593336820602417\n",
      "Validation Loss: 1.0578970909118652\n",
      "Epoch 74, Loss: 1.0578970909118652\n",
      "Validation Loss: 1.1085487604141235\n",
      "Epoch 75, Loss: 1.1085487604141235\n",
      "Validation Loss: 1.032020926475525\n",
      "Epoch 76, Loss: 1.032020926475525\n",
      "Validation Loss: 1.044724464416504\n",
      "Epoch 77, Loss: 1.044724464416504\n",
      "Validation Loss: 1.0642335414886475\n",
      "Epoch 78, Loss: 1.0642335414886475\n",
      "Validation Loss: 1.0118389129638672\n",
      "Epoch 79, Loss: 1.0118389129638672\n",
      "Validation Loss: 1.0723179578781128\n",
      "Epoch 80, Loss: 1.0723179578781128\n",
      "Validation Loss: 0.9955869913101196\n",
      "Epoch 81, Loss: 0.9955869913101196\n",
      "Validation Loss: 1.0119597911834717\n",
      "Epoch 82, Loss: 1.0119597911834717\n",
      "Validation Loss: 0.9885959625244141\n",
      "Epoch 83, Loss: 0.9885959625244141\n",
      "Validation Loss: 0.9678792953491211\n",
      "Epoch 84, Loss: 0.9678792953491211\n",
      "Validation Loss: 0.9092769026756287\n",
      "Epoch 85, Loss: 0.9092769026756287\n",
      "Validation Loss: 1.0102514028549194\n",
      "Epoch 86, Loss: 1.0102514028549194\n",
      "Validation Loss: 0.9603444933891296\n",
      "Epoch 87, Loss: 0.9603444933891296\n",
      "Validation Loss: 0.966261625289917\n",
      "Epoch 88, Loss: 0.966261625289917\n",
      "Validation Loss: 0.9811692833900452\n",
      "Epoch 89, Loss: 0.9811692833900452\n",
      "Validation Loss: 0.9635936617851257\n",
      "Epoch 90, Loss: 0.9635936617851257\n",
      "Validation Loss: 0.9729385375976562\n",
      "Epoch 91, Loss: 0.9729385375976562\n",
      "Validation Loss: 1.0009053945541382\n",
      "Epoch 92, Loss: 1.0009053945541382\n",
      "Validation Loss: 0.919133722782135\n",
      "Epoch 93, Loss: 0.919133722782135\n",
      "Validation Loss: 0.89658123254776\n",
      "Epoch 94, Loss: 0.89658123254776\n",
      "Validation Loss: 0.877204954624176\n",
      "Epoch 95, Loss: 0.877204954624176\n",
      "Validation Loss: 0.8935586214065552\n",
      "Epoch 96, Loss: 0.8935586214065552\n",
      "Validation Loss: 0.8815146684646606\n",
      "Epoch 97, Loss: 0.8815146684646606\n",
      "Validation Loss: 0.945793628692627\n",
      "Epoch 98, Loss: 0.945793628692627\n",
      "Validation Loss: 0.8957620859146118\n",
      "Epoch 99, Loss: 0.8957620859146118\n",
      "Validation Loss: 0.8899507522583008\n",
      "Epoch 100, Loss: 0.8899507522583008\n",
      "Validation Loss: 0.8728811740875244\n",
      "Epoch 101, Loss: 0.8728811740875244\n",
      "Validation Loss: 0.8988736271858215\n",
      "Epoch 102, Loss: 0.8988736271858215\n",
      "Validation Loss: 0.9010399580001831\n",
      "Epoch 103, Loss: 0.9010399580001831\n",
      "Validation Loss: 0.9147524237632751\n",
      "Epoch 104, Loss: 0.9147524237632751\n",
      "Validation Loss: 0.8759174942970276\n",
      "Epoch 105, Loss: 0.8759174942970276\n",
      "Validation Loss: 0.8675673604011536\n",
      "Epoch 106, Loss: 0.8675673604011536\n",
      "Validation Loss: 0.8647130131721497\n",
      "Epoch 107, Loss: 0.8647130131721497\n",
      "Validation Loss: 0.8520349860191345\n",
      "Epoch 108, Loss: 0.8520349860191345\n",
      "Validation Loss: 0.8548298478126526\n",
      "Epoch 109, Loss: 0.8548298478126526\n",
      "Validation Loss: 0.8119398355484009\n",
      "Epoch 110, Loss: 0.8119398355484009\n",
      "Validation Loss: 0.7823483943939209\n",
      "Epoch 111, Loss: 0.7823483943939209\n",
      "Validation Loss: 0.8016479015350342\n",
      "Epoch 112, Loss: 0.8016479015350342\n",
      "Validation Loss: 0.7901575565338135\n",
      "Epoch 113, Loss: 0.7901575565338135\n",
      "Validation Loss: 0.8047970533370972\n",
      "Epoch 114, Loss: 0.8047970533370972\n",
      "Validation Loss: 0.7567011713981628\n",
      "Epoch 115, Loss: 0.7567011713981628\n",
      "Validation Loss: 0.7914209961891174\n",
      "Epoch 116, Loss: 0.7914209961891174\n",
      "Validation Loss: 0.7892017960548401\n",
      "Epoch 117, Loss: 0.7892017960548401\n",
      "Validation Loss: 0.803534746170044\n",
      "Epoch 118, Loss: 0.803534746170044\n",
      "Validation Loss: 0.7729483842849731\n",
      "Epoch 119, Loss: 0.7729483842849731\n",
      "Validation Loss: 0.9381794929504395\n",
      "Epoch 120, Loss: 0.9381794929504395\n",
      "Validation Loss: 0.8597157597541809\n",
      "Epoch 121, Loss: 0.8597157597541809\n",
      "Validation Loss: 0.8089344501495361\n",
      "Epoch 122, Loss: 0.8089344501495361\n",
      "Validation Loss: 0.8402076959609985\n",
      "Epoch 123, Loss: 0.8402076959609985\n",
      "Validation Loss: 0.7618901133537292\n",
      "Epoch 124, Loss: 0.7618901133537292\n",
      "Validation Loss: 0.7538836002349854\n",
      "Epoch 125, Loss: 0.7538836002349854\n",
      "Validation Loss: 0.7820158004760742\n",
      "Epoch 126, Loss: 0.7820158004760742\n",
      "Validation Loss: 0.7639821171760559\n",
      "Epoch 127, Loss: 0.7639821171760559\n",
      "Validation Loss: 0.7826619744300842\n",
      "Epoch 128, Loss: 0.7826619744300842\n",
      "Validation Loss: 0.7638340592384338\n",
      "Epoch 129, Loss: 0.7638340592384338\n",
      "Validation Loss: 0.7853556871414185\n",
      "Epoch 130, Loss: 0.7853556871414185\n",
      "Validation Loss: 0.7708280682563782\n",
      "Epoch 131, Loss: 0.7708280682563782\n",
      "Validation Loss: 0.7807886600494385\n",
      "Epoch 132, Loss: 0.7807886600494385\n",
      "Validation Loss: 0.7910799980163574\n",
      "Epoch 133, Loss: 0.7910799980163574\n",
      "Validation Loss: 0.77420973777771\n",
      "Epoch 134, Loss: 0.77420973777771\n",
      "Validation Loss: 0.7723674178123474\n",
      "Epoch 135, Loss: 0.7723674178123474\n",
      "Validation Loss: 0.772168755531311\n",
      "Epoch 136, Loss: 0.772168755531311\n",
      "Validation Loss: 0.8204841613769531\n",
      "Epoch 137, Loss: 0.8204841613769531\n",
      "Validation Loss: 0.7784410119056702\n",
      "Epoch 138, Loss: 0.7784410119056702\n",
      "Validation Loss: 0.7659021615982056\n",
      "Epoch 139, Loss: 0.7659021615982056\n",
      "Validation Loss: 0.7865898013114929\n",
      "Epoch 140, Loss: 0.7865898013114929\n",
      "Validation Loss: 0.7645167708396912\n",
      "Epoch 141, Loss: 0.7645167708396912\n",
      "Validation Loss: 0.787346601486206\n",
      "Epoch 142, Loss: 0.787346601486206\n",
      "Validation Loss: 0.7592443823814392\n",
      "Epoch 143, Loss: 0.7592443823814392\n",
      "Validation Loss: 0.7804000377655029\n",
      "Epoch 144, Loss: 0.7804000377655029\n",
      "Validation Loss: 0.7527655959129333\n",
      "Epoch 145, Loss: 0.7527655959129333\n",
      "Validation Loss: 0.7728816270828247\n",
      "Epoch 146, Loss: 0.7728816270828247\n",
      "Validation Loss: 0.7385432720184326\n",
      "Epoch 147, Loss: 0.7385432720184326\n",
      "Validation Loss: 0.7637934684753418\n",
      "Epoch 148, Loss: 0.7637934684753418\n",
      "Validation Loss: 0.7420697808265686\n",
      "Epoch 149, Loss: 0.7420697808265686\n",
      "Validation Loss: 0.7508535385131836\n",
      "Epoch 150, Loss: 0.7508535385131836\n",
      "Validation Loss: 0.778005063533783\n",
      "Epoch 151, Loss: 0.778005063533783\n",
      "Validation Loss: 0.7822644114494324\n",
      "Epoch 152, Loss: 0.7822644114494324\n",
      "Validation Loss: 0.7975050210952759\n",
      "Epoch 153, Loss: 0.7975050210952759\n",
      "Validation Loss: 0.7616691589355469\n",
      "Epoch 154, Loss: 0.7616691589355469\n",
      "Validation Loss: 0.7790989875793457\n",
      "Epoch 155, Loss: 0.7790989875793457\n",
      "Validation Loss: 0.7550447583198547\n",
      "Epoch 156, Loss: 0.7550447583198547\n",
      "Validation Loss: 0.7721565961837769\n",
      "Epoch 157, Loss: 0.7721565961837769\n",
      "Validation Loss: 0.7413447499275208\n",
      "Epoch 158, Loss: 0.7413447499275208\n",
      "Validation Loss: 0.7218091487884521\n",
      "Epoch 159, Loss: 0.7218091487884521\n",
      "Validation Loss: 0.7408060431480408\n",
      "Epoch 160, Loss: 0.7408060431480408\n",
      "Validation Loss: 0.717199444770813\n",
      "Epoch 161, Loss: 0.717199444770813\n",
      "Validation Loss: 0.7525606751441956\n",
      "Epoch 162, Loss: 0.7525606751441956\n",
      "Validation Loss: 0.7367360591888428\n",
      "Epoch 163, Loss: 0.7367360591888428\n",
      "Validation Loss: 0.7105373740196228\n",
      "Epoch 164, Loss: 0.7105373740196228\n",
      "Validation Loss: 0.7531521320343018\n",
      "Epoch 165, Loss: 0.7531521320343018\n",
      "Validation Loss: 0.7113755941390991\n",
      "Epoch 166, Loss: 0.7113755941390991\n",
      "Validation Loss: 0.6986649632453918\n",
      "Epoch 167, Loss: 0.6986649632453918\n",
      "Validation Loss: 0.7202263474464417\n",
      "Epoch 168, Loss: 0.7202263474464417\n",
      "Validation Loss: 0.7062258124351501\n",
      "Epoch 169, Loss: 0.7062258124351501\n"
     ]
    },
    {
     "ename": "KeyboardInterrupt",
     "evalue": "",
     "output_type": "error",
     "traceback": [
      "\u001B[1;31m---------------------------------------------------------------------------\u001B[0m",
      "\u001B[1;31mKeyboardInterrupt\u001B[0m                         Traceback (most recent call last)",
      "Cell \u001B[1;32mIn[172], line 26\u001B[0m\n\u001B[0;32m     23\u001B[0m \u001B[38;5;28;01mwith\u001B[39;00m torch\u001B[38;5;241m.\u001B[39mno_grad():\n\u001B[0;32m     24\u001B[0m     val_loss \u001B[38;5;241m=\u001B[39m \u001B[38;5;241m0\u001B[39m\n\u001B[1;32m---> 26\u001B[0m     out \u001B[38;5;241m=\u001B[39m \u001B[43mmodel\u001B[49m\u001B[43m(\u001B[49m\u001B[43mval_data\u001B[49m\u001B[38;5;241;43m.\u001B[39;49m\u001B[43mx_dict\u001B[49m\u001B[43m,\u001B[49m\u001B[43m \u001B[49m\u001B[43mval_data\u001B[49m\u001B[38;5;241;43m.\u001B[39;49m\u001B[43medge_index_dict\u001B[49m\u001B[43m)\u001B[49m\n\u001B[0;32m     27\u001B[0m     loss \u001B[38;5;241m=\u001B[39m criterion(out[\u001B[38;5;124m\"\u001B[39m\u001B[38;5;124mrecipe\u001B[39m\u001B[38;5;124m\"\u001B[39m], val_data[\u001B[38;5;124m\"\u001B[39m\u001B[38;5;124mrecipe\u001B[39m\u001B[38;5;124m\"\u001B[39m]\u001B[38;5;241m.\u001B[39my)\n\u001B[0;32m     28\u001B[0m     val_loss \u001B[38;5;241m+\u001B[39m\u001B[38;5;241m=\u001B[39m loss\u001B[38;5;241m.\u001B[39mitem()\n",
      "File \u001B[1;32m~\\Projects\\scripts\\lib\\site-packages\\torch\\fx\\graph_module.py:678\u001B[0m, in \u001B[0;36mGraphModule.recompile.<locals>.call_wrapped\u001B[1;34m(self, *args, **kwargs)\u001B[0m\n\u001B[0;32m    677\u001B[0m \u001B[38;5;28;01mdef\u001B[39;00m \u001B[38;5;21mcall_wrapped\u001B[39m(\u001B[38;5;28mself\u001B[39m, \u001B[38;5;241m*\u001B[39margs, \u001B[38;5;241m*\u001B[39m\u001B[38;5;241m*\u001B[39mkwargs):\n\u001B[1;32m--> 678\u001B[0m     \u001B[38;5;28;01mreturn\u001B[39;00m \u001B[38;5;28mself\u001B[39m\u001B[38;5;241m.\u001B[39m_wrapped_call(\u001B[38;5;28mself\u001B[39m, \u001B[38;5;241m*\u001B[39margs, \u001B[38;5;241m*\u001B[39m\u001B[38;5;241m*\u001B[39mkwargs)\n",
      "File \u001B[1;32m~\\Projects\\scripts\\lib\\site-packages\\torch\\fx\\graph_module.py:274\u001B[0m, in \u001B[0;36m_WrappedCall.__call__\u001B[1;34m(self, obj, *args, **kwargs)\u001B[0m\n\u001B[0;32m    272\u001B[0m         \u001B[38;5;28;01mreturn\u001B[39;00m \u001B[38;5;28mself\u001B[39m\u001B[38;5;241m.\u001B[39mcls_call(obj, \u001B[38;5;241m*\u001B[39margs, \u001B[38;5;241m*\u001B[39m\u001B[38;5;241m*\u001B[39mkwargs)\n\u001B[0;32m    273\u001B[0m     \u001B[38;5;28;01melse\u001B[39;00m:\n\u001B[1;32m--> 274\u001B[0m         \u001B[38;5;28;01mreturn\u001B[39;00m \u001B[38;5;28msuper\u001B[39m(\u001B[38;5;28mself\u001B[39m\u001B[38;5;241m.\u001B[39mcls, obj)\u001B[38;5;241m.\u001B[39m\u001B[38;5;21m__call__\u001B[39m(\u001B[38;5;241m*\u001B[39margs, \u001B[38;5;241m*\u001B[39m\u001B[38;5;241m*\u001B[39mkwargs)  \u001B[38;5;66;03m# type: ignore[misc]\u001B[39;00m\n\u001B[0;32m    275\u001B[0m \u001B[38;5;28;01mexcept\u001B[39;00m \u001B[38;5;167;01mException\u001B[39;00m \u001B[38;5;28;01mas\u001B[39;00m e:\n\u001B[0;32m    276\u001B[0m     \u001B[38;5;28;01massert\u001B[39;00m e\u001B[38;5;241m.\u001B[39m__traceback__\n",
      "File \u001B[1;32m~\\Projects\\scripts\\lib\\site-packages\\torch\\nn\\modules\\module.py:1518\u001B[0m, in \u001B[0;36mModule._wrapped_call_impl\u001B[1;34m(self, *args, **kwargs)\u001B[0m\n\u001B[0;32m   1516\u001B[0m     \u001B[38;5;28;01mreturn\u001B[39;00m \u001B[38;5;28mself\u001B[39m\u001B[38;5;241m.\u001B[39m_compiled_call_impl(\u001B[38;5;241m*\u001B[39margs, \u001B[38;5;241m*\u001B[39m\u001B[38;5;241m*\u001B[39mkwargs)  \u001B[38;5;66;03m# type: ignore[misc]\u001B[39;00m\n\u001B[0;32m   1517\u001B[0m \u001B[38;5;28;01melse\u001B[39;00m:\n\u001B[1;32m-> 1518\u001B[0m     \u001B[38;5;28;01mreturn\u001B[39;00m \u001B[38;5;28mself\u001B[39m\u001B[38;5;241m.\u001B[39m_call_impl(\u001B[38;5;241m*\u001B[39margs, \u001B[38;5;241m*\u001B[39m\u001B[38;5;241m*\u001B[39mkwargs)\n",
      "File \u001B[1;32m~\\Projects\\scripts\\lib\\site-packages\\torch\\nn\\modules\\module.py:1527\u001B[0m, in \u001B[0;36mModule._call_impl\u001B[1;34m(self, *args, **kwargs)\u001B[0m\n\u001B[0;32m   1522\u001B[0m \u001B[38;5;66;03m# If we don't have any hooks, we want to skip the rest of the logic in\u001B[39;00m\n\u001B[0;32m   1523\u001B[0m \u001B[38;5;66;03m# this function, and just call forward.\u001B[39;00m\n\u001B[0;32m   1524\u001B[0m \u001B[38;5;28;01mif\u001B[39;00m \u001B[38;5;129;01mnot\u001B[39;00m (\u001B[38;5;28mself\u001B[39m\u001B[38;5;241m.\u001B[39m_backward_hooks \u001B[38;5;129;01mor\u001B[39;00m \u001B[38;5;28mself\u001B[39m\u001B[38;5;241m.\u001B[39m_backward_pre_hooks \u001B[38;5;129;01mor\u001B[39;00m \u001B[38;5;28mself\u001B[39m\u001B[38;5;241m.\u001B[39m_forward_hooks \u001B[38;5;129;01mor\u001B[39;00m \u001B[38;5;28mself\u001B[39m\u001B[38;5;241m.\u001B[39m_forward_pre_hooks\n\u001B[0;32m   1525\u001B[0m         \u001B[38;5;129;01mor\u001B[39;00m _global_backward_pre_hooks \u001B[38;5;129;01mor\u001B[39;00m _global_backward_hooks\n\u001B[0;32m   1526\u001B[0m         \u001B[38;5;129;01mor\u001B[39;00m _global_forward_hooks \u001B[38;5;129;01mor\u001B[39;00m _global_forward_pre_hooks):\n\u001B[1;32m-> 1527\u001B[0m     \u001B[38;5;28;01mreturn\u001B[39;00m forward_call(\u001B[38;5;241m*\u001B[39margs, \u001B[38;5;241m*\u001B[39m\u001B[38;5;241m*\u001B[39mkwargs)\n\u001B[0;32m   1529\u001B[0m \u001B[38;5;28;01mtry\u001B[39;00m:\n\u001B[0;32m   1530\u001B[0m     result \u001B[38;5;241m=\u001B[39m \u001B[38;5;28;01mNone\u001B[39;00m\n",
      "File \u001B[1;32m<eval_with_key>.9:31\u001B[0m, in \u001B[0;36mforward\u001B[1;34m(self, x, edge_index)\u001B[0m\n\u001B[0;32m     29\u001B[0m conv2__menu \u001B[38;5;241m=\u001B[39m \u001B[38;5;28mself\u001B[39m\u001B[38;5;241m.\u001B[39mconv2\u001B[38;5;241m.\u001B[39mrecipe__is_part_of_menu__menu((relu__recipe, relu__menu), edge_index__recipe__is_part_of_menu__menu);  edge_index__recipe__is_part_of_menu__menu \u001B[38;5;241m=\u001B[39m \u001B[38;5;28;01mNone\u001B[39;00m\n\u001B[0;32m     30\u001B[0m conv2__recipe1 \u001B[38;5;241m=\u001B[39m \u001B[38;5;28mself\u001B[39m\u001B[38;5;241m.\u001B[39mconv2\u001B[38;5;241m.\u001B[39mingredient__rev_has_ingredient__recipe((relu__ingredient, relu__recipe), edge_index__ingredient__rev_has_ingredient__recipe);  edge_index__ingredient__rev_has_ingredient__recipe \u001B[38;5;241m=\u001B[39m \u001B[38;5;28;01mNone\u001B[39;00m\n\u001B[1;32m---> 31\u001B[0m conv2__recipe2 \u001B[38;5;241m=\u001B[39m \u001B[38;5;28;43mself\u001B[39;49m\u001B[38;5;241;43m.\u001B[39;49m\u001B[43mconv2\u001B[49m\u001B[38;5;241;43m.\u001B[39;49m\u001B[43mmenu__rev_is_part_of_menu__recipe\u001B[49m\u001B[43m(\u001B[49m\u001B[43m(\u001B[49m\u001B[43mrelu__menu\u001B[49m\u001B[43m,\u001B[49m\u001B[43m \u001B[49m\u001B[43mrelu__recipe\u001B[49m\u001B[43m)\u001B[49m\u001B[43m,\u001B[49m\u001B[43m \u001B[49m\u001B[43medge_index__menu__rev_is_part_of_menu__recipe\u001B[49m\u001B[43m)\u001B[49m;  edge_index__menu__rev_is_part_of_menu__recipe \u001B[38;5;241m=\u001B[39m \u001B[38;5;28;01mNone\u001B[39;00m\n\u001B[0;32m     32\u001B[0m conv2__recipe \u001B[38;5;241m=\u001B[39m torch\u001B[38;5;241m.\u001B[39madd(conv2__recipe1, conv2__recipe2);  conv2__recipe1 \u001B[38;5;241m=\u001B[39m conv2__recipe2 \u001B[38;5;241m=\u001B[39m \u001B[38;5;28;01mNone\u001B[39;00m\n\u001B[0;32m     33\u001B[0m lin2__recipe \u001B[38;5;241m=\u001B[39m \u001B[38;5;28mself\u001B[39m\u001B[38;5;241m.\u001B[39mlin2\u001B[38;5;241m.\u001B[39mrecipe(relu__recipe);  relu__recipe \u001B[38;5;241m=\u001B[39m \u001B[38;5;28;01mNone\u001B[39;00m\n",
      "File \u001B[1;32m~\\Projects\\scripts\\lib\\site-packages\\torch\\nn\\modules\\module.py:1518\u001B[0m, in \u001B[0;36mModule._wrapped_call_impl\u001B[1;34m(self, *args, **kwargs)\u001B[0m\n\u001B[0;32m   1516\u001B[0m     \u001B[38;5;28;01mreturn\u001B[39;00m \u001B[38;5;28mself\u001B[39m\u001B[38;5;241m.\u001B[39m_compiled_call_impl(\u001B[38;5;241m*\u001B[39margs, \u001B[38;5;241m*\u001B[39m\u001B[38;5;241m*\u001B[39mkwargs)  \u001B[38;5;66;03m# type: ignore[misc]\u001B[39;00m\n\u001B[0;32m   1517\u001B[0m \u001B[38;5;28;01melse\u001B[39;00m:\n\u001B[1;32m-> 1518\u001B[0m     \u001B[38;5;28;01mreturn\u001B[39;00m \u001B[38;5;28mself\u001B[39m\u001B[38;5;241m.\u001B[39m_call_impl(\u001B[38;5;241m*\u001B[39margs, \u001B[38;5;241m*\u001B[39m\u001B[38;5;241m*\u001B[39mkwargs)\n",
      "File \u001B[1;32m~\\Projects\\scripts\\lib\\site-packages\\torch\\nn\\modules\\module.py:1527\u001B[0m, in \u001B[0;36mModule._call_impl\u001B[1;34m(self, *args, **kwargs)\u001B[0m\n\u001B[0;32m   1522\u001B[0m \u001B[38;5;66;03m# If we don't have any hooks, we want to skip the rest of the logic in\u001B[39;00m\n\u001B[0;32m   1523\u001B[0m \u001B[38;5;66;03m# this function, and just call forward.\u001B[39;00m\n\u001B[0;32m   1524\u001B[0m \u001B[38;5;28;01mif\u001B[39;00m \u001B[38;5;129;01mnot\u001B[39;00m (\u001B[38;5;28mself\u001B[39m\u001B[38;5;241m.\u001B[39m_backward_hooks \u001B[38;5;129;01mor\u001B[39;00m \u001B[38;5;28mself\u001B[39m\u001B[38;5;241m.\u001B[39m_backward_pre_hooks \u001B[38;5;129;01mor\u001B[39;00m \u001B[38;5;28mself\u001B[39m\u001B[38;5;241m.\u001B[39m_forward_hooks \u001B[38;5;129;01mor\u001B[39;00m \u001B[38;5;28mself\u001B[39m\u001B[38;5;241m.\u001B[39m_forward_pre_hooks\n\u001B[0;32m   1525\u001B[0m         \u001B[38;5;129;01mor\u001B[39;00m _global_backward_pre_hooks \u001B[38;5;129;01mor\u001B[39;00m _global_backward_hooks\n\u001B[0;32m   1526\u001B[0m         \u001B[38;5;129;01mor\u001B[39;00m _global_forward_hooks \u001B[38;5;129;01mor\u001B[39;00m _global_forward_pre_hooks):\n\u001B[1;32m-> 1527\u001B[0m     \u001B[38;5;28;01mreturn\u001B[39;00m forward_call(\u001B[38;5;241m*\u001B[39margs, \u001B[38;5;241m*\u001B[39m\u001B[38;5;241m*\u001B[39mkwargs)\n\u001B[0;32m   1529\u001B[0m \u001B[38;5;28;01mtry\u001B[39;00m:\n\u001B[0;32m   1530\u001B[0m     result \u001B[38;5;241m=\u001B[39m \u001B[38;5;28;01mNone\u001B[39;00m\n",
      "File \u001B[1;32m~\\Projects\\scripts\\lib\\site-packages\\torch_geometric\\nn\\conv\\gat_conv.py:255\u001B[0m, in \u001B[0;36mGATConv.forward\u001B[1;34m(self, x, edge_index, edge_attr, size, return_attention_weights)\u001B[0m\n\u001B[0;32m    252\u001B[0m alpha \u001B[38;5;241m=\u001B[39m \u001B[38;5;28mself\u001B[39m\u001B[38;5;241m.\u001B[39medge_updater(edge_index, alpha\u001B[38;5;241m=\u001B[39malpha, edge_attr\u001B[38;5;241m=\u001B[39medge_attr)\n\u001B[0;32m    254\u001B[0m \u001B[38;5;66;03m# propagate_type: (x: OptPairTensor, alpha: Tensor)\u001B[39;00m\n\u001B[1;32m--> 255\u001B[0m out \u001B[38;5;241m=\u001B[39m \u001B[38;5;28;43mself\u001B[39;49m\u001B[38;5;241;43m.\u001B[39;49m\u001B[43mpropagate\u001B[49m\u001B[43m(\u001B[49m\u001B[43medge_index\u001B[49m\u001B[43m,\u001B[49m\u001B[43m \u001B[49m\u001B[43mx\u001B[49m\u001B[38;5;241;43m=\u001B[39;49m\u001B[43mx\u001B[49m\u001B[43m,\u001B[49m\u001B[43m \u001B[49m\u001B[43malpha\u001B[49m\u001B[38;5;241;43m=\u001B[39;49m\u001B[43malpha\u001B[49m\u001B[43m,\u001B[49m\u001B[43m \u001B[49m\u001B[43msize\u001B[49m\u001B[38;5;241;43m=\u001B[39;49m\u001B[43msize\u001B[49m\u001B[43m)\u001B[49m\n\u001B[0;32m    257\u001B[0m \u001B[38;5;28;01mif\u001B[39;00m \u001B[38;5;28mself\u001B[39m\u001B[38;5;241m.\u001B[39mconcat:\n\u001B[0;32m    258\u001B[0m     out \u001B[38;5;241m=\u001B[39m out\u001B[38;5;241m.\u001B[39mview(\u001B[38;5;241m-\u001B[39m\u001B[38;5;241m1\u001B[39m, \u001B[38;5;28mself\u001B[39m\u001B[38;5;241m.\u001B[39mheads \u001B[38;5;241m*\u001B[39m \u001B[38;5;28mself\u001B[39m\u001B[38;5;241m.\u001B[39mout_channels)\n",
      "File \u001B[1;32m~\\Projects\\scripts\\lib\\site-packages\\torch_geometric\\nn\\conv\\message_passing.py:480\u001B[0m, in \u001B[0;36mMessagePassing.propagate\u001B[1;34m(self, edge_index, size, **kwargs)\u001B[0m\n\u001B[0;32m    477\u001B[0m     \u001B[38;5;28;01mif\u001B[39;00m res \u001B[38;5;129;01mis\u001B[39;00m \u001B[38;5;129;01mnot\u001B[39;00m \u001B[38;5;28;01mNone\u001B[39;00m:\n\u001B[0;32m    478\u001B[0m         aggr_kwargs \u001B[38;5;241m=\u001B[39m res[\u001B[38;5;241m0\u001B[39m] \u001B[38;5;28;01mif\u001B[39;00m \u001B[38;5;28misinstance\u001B[39m(res, \u001B[38;5;28mtuple\u001B[39m) \u001B[38;5;28;01melse\u001B[39;00m res\n\u001B[1;32m--> 480\u001B[0m out \u001B[38;5;241m=\u001B[39m \u001B[38;5;28mself\u001B[39m\u001B[38;5;241m.\u001B[39maggregate(out, \u001B[38;5;241m*\u001B[39m\u001B[38;5;241m*\u001B[39maggr_kwargs)\n\u001B[0;32m    482\u001B[0m \u001B[38;5;28;01mfor\u001B[39;00m hook \u001B[38;5;129;01min\u001B[39;00m \u001B[38;5;28mself\u001B[39m\u001B[38;5;241m.\u001B[39m_aggregate_forward_hooks\u001B[38;5;241m.\u001B[39mvalues():\n\u001B[0;32m    483\u001B[0m     res \u001B[38;5;241m=\u001B[39m hook(\u001B[38;5;28mself\u001B[39m, (aggr_kwargs, ), out)\n",
      "File \u001B[1;32m~\\Projects\\scripts\\lib\\site-packages\\torch_geometric\\nn\\conv\\message_passing.py:604\u001B[0m, in \u001B[0;36mMessagePassing.aggregate\u001B[1;34m(self, inputs, index, ptr, dim_size)\u001B[0m\n\u001B[0;32m    591\u001B[0m \u001B[38;5;28;01mdef\u001B[39;00m \u001B[38;5;21maggregate\u001B[39m(\u001B[38;5;28mself\u001B[39m, inputs: Tensor, index: Tensor,\n\u001B[0;32m    592\u001B[0m               ptr: Optional[Tensor] \u001B[38;5;241m=\u001B[39m \u001B[38;5;28;01mNone\u001B[39;00m,\n\u001B[0;32m    593\u001B[0m               dim_size: Optional[\u001B[38;5;28mint\u001B[39m] \u001B[38;5;241m=\u001B[39m \u001B[38;5;28;01mNone\u001B[39;00m) \u001B[38;5;241m-\u001B[39m\u001B[38;5;241m>\u001B[39m Tensor:\n\u001B[0;32m    594\u001B[0m \u001B[38;5;250m    \u001B[39m\u001B[38;5;124mr\u001B[39m\u001B[38;5;124;03m\"\"\"Aggregates messages from neighbors as\u001B[39;00m\n\u001B[0;32m    595\u001B[0m \u001B[38;5;124;03m    :math:`\\bigoplus_{j \\in \\mathcal{N}(i)}`.\u001B[39;00m\n\u001B[0;32m    596\u001B[0m \n\u001B[1;32m   (...)\u001B[0m\n\u001B[0;32m    602\u001B[0m \u001B[38;5;124;03m    as specified in :meth:`__init__` by the :obj:`aggr` argument.\u001B[39;00m\n\u001B[0;32m    603\u001B[0m \u001B[38;5;124;03m    \"\"\"\u001B[39;00m\n\u001B[1;32m--> 604\u001B[0m     \u001B[38;5;28;01mreturn\u001B[39;00m \u001B[38;5;28;43mself\u001B[39;49m\u001B[38;5;241;43m.\u001B[39;49m\u001B[43maggr_module\u001B[49m\u001B[43m(\u001B[49m\u001B[43minputs\u001B[49m\u001B[43m,\u001B[49m\u001B[43m \u001B[49m\u001B[43mindex\u001B[49m\u001B[43m,\u001B[49m\u001B[43m \u001B[49m\u001B[43mptr\u001B[49m\u001B[38;5;241;43m=\u001B[39;49m\u001B[43mptr\u001B[49m\u001B[43m,\u001B[49m\u001B[43m \u001B[49m\u001B[43mdim_size\u001B[49m\u001B[38;5;241;43m=\u001B[39;49m\u001B[43mdim_size\u001B[49m\u001B[43m,\u001B[49m\n\u001B[0;32m    605\u001B[0m \u001B[43m                            \u001B[49m\u001B[43mdim\u001B[49m\u001B[38;5;241;43m=\u001B[39;49m\u001B[38;5;28;43mself\u001B[39;49m\u001B[38;5;241;43m.\u001B[39;49m\u001B[43mnode_dim\u001B[49m\u001B[43m)\u001B[49m\n",
      "File \u001B[1;32m~\\Projects\\scripts\\lib\\site-packages\\torch_geometric\\experimental.py:115\u001B[0m, in \u001B[0;36mdisable_dynamic_shapes.<locals>.decorator.<locals>.wrapper\u001B[1;34m(*args, **kwargs)\u001B[0m\n\u001B[0;32m    112\u001B[0m \u001B[38;5;129m@functools\u001B[39m\u001B[38;5;241m.\u001B[39mwraps(func)\n\u001B[0;32m    113\u001B[0m \u001B[38;5;28;01mdef\u001B[39;00m \u001B[38;5;21mwrapper\u001B[39m(\u001B[38;5;241m*\u001B[39margs, \u001B[38;5;241m*\u001B[39m\u001B[38;5;241m*\u001B[39mkwargs):\n\u001B[0;32m    114\u001B[0m     \u001B[38;5;28;01mif\u001B[39;00m \u001B[38;5;129;01mnot\u001B[39;00m is_experimental_mode_enabled(\u001B[38;5;124m'\u001B[39m\u001B[38;5;124mdisable_dynamic_shapes\u001B[39m\u001B[38;5;124m'\u001B[39m):\n\u001B[1;32m--> 115\u001B[0m         \u001B[38;5;28;01mreturn\u001B[39;00m func(\u001B[38;5;241m*\u001B[39margs, \u001B[38;5;241m*\u001B[39m\u001B[38;5;241m*\u001B[39mkwargs)\n\u001B[0;32m    117\u001B[0m     \u001B[38;5;28;01mfor\u001B[39;00m required_arg \u001B[38;5;129;01min\u001B[39;00m required_args:\n\u001B[0;32m    118\u001B[0m         index \u001B[38;5;241m=\u001B[39m required_args_pos[required_arg]\n",
      "File \u001B[1;32m~\\Projects\\scripts\\lib\\site-packages\\torch_geometric\\nn\\aggr\\base.py:125\u001B[0m, in \u001B[0;36mAggregation.__call__\u001B[1;34m(self, x, index, ptr, dim_size, dim, **kwargs)\u001B[0m\n\u001B[0;32m    122\u001B[0m     dim_size \u001B[38;5;241m=\u001B[39m \u001B[38;5;28mint\u001B[39m(index\u001B[38;5;241m.\u001B[39mmax()) \u001B[38;5;241m+\u001B[39m \u001B[38;5;241m1\u001B[39m \u001B[38;5;28;01mif\u001B[39;00m index\u001B[38;5;241m.\u001B[39mnumel() \u001B[38;5;241m>\u001B[39m \u001B[38;5;241m0\u001B[39m \u001B[38;5;28;01melse\u001B[39;00m \u001B[38;5;241m0\u001B[39m\n\u001B[0;32m    124\u001B[0m \u001B[38;5;28;01mtry\u001B[39;00m:\n\u001B[1;32m--> 125\u001B[0m     \u001B[38;5;28;01mreturn\u001B[39;00m \u001B[38;5;28msuper\u001B[39m()\u001B[38;5;241m.\u001B[39m\u001B[38;5;21m__call__\u001B[39m(x, index\u001B[38;5;241m=\u001B[39mindex, ptr\u001B[38;5;241m=\u001B[39mptr, dim_size\u001B[38;5;241m=\u001B[39mdim_size,\n\u001B[0;32m    126\u001B[0m                             dim\u001B[38;5;241m=\u001B[39mdim, \u001B[38;5;241m*\u001B[39m\u001B[38;5;241m*\u001B[39mkwargs)\n\u001B[0;32m    127\u001B[0m \u001B[38;5;28;01mexcept\u001B[39;00m (\u001B[38;5;167;01mIndexError\u001B[39;00m, \u001B[38;5;167;01mRuntimeError\u001B[39;00m) \u001B[38;5;28;01mas\u001B[39;00m e:\n\u001B[0;32m    128\u001B[0m     \u001B[38;5;28;01mif\u001B[39;00m index \u001B[38;5;129;01mis\u001B[39;00m \u001B[38;5;129;01mnot\u001B[39;00m \u001B[38;5;28;01mNone\u001B[39;00m:\n",
      "File \u001B[1;32m~\\Projects\\scripts\\lib\\site-packages\\torch\\nn\\modules\\module.py:1518\u001B[0m, in \u001B[0;36mModule._wrapped_call_impl\u001B[1;34m(self, *args, **kwargs)\u001B[0m\n\u001B[0;32m   1516\u001B[0m     \u001B[38;5;28;01mreturn\u001B[39;00m \u001B[38;5;28mself\u001B[39m\u001B[38;5;241m.\u001B[39m_compiled_call_impl(\u001B[38;5;241m*\u001B[39margs, \u001B[38;5;241m*\u001B[39m\u001B[38;5;241m*\u001B[39mkwargs)  \u001B[38;5;66;03m# type: ignore[misc]\u001B[39;00m\n\u001B[0;32m   1517\u001B[0m \u001B[38;5;28;01melse\u001B[39;00m:\n\u001B[1;32m-> 1518\u001B[0m     \u001B[38;5;28;01mreturn\u001B[39;00m \u001B[38;5;28mself\u001B[39m\u001B[38;5;241m.\u001B[39m_call_impl(\u001B[38;5;241m*\u001B[39margs, \u001B[38;5;241m*\u001B[39m\u001B[38;5;241m*\u001B[39mkwargs)\n",
      "File \u001B[1;32m~\\Projects\\scripts\\lib\\site-packages\\torch\\nn\\modules\\module.py:1527\u001B[0m, in \u001B[0;36mModule._call_impl\u001B[1;34m(self, *args, **kwargs)\u001B[0m\n\u001B[0;32m   1522\u001B[0m \u001B[38;5;66;03m# If we don't have any hooks, we want to skip the rest of the logic in\u001B[39;00m\n\u001B[0;32m   1523\u001B[0m \u001B[38;5;66;03m# this function, and just call forward.\u001B[39;00m\n\u001B[0;32m   1524\u001B[0m \u001B[38;5;28;01mif\u001B[39;00m \u001B[38;5;129;01mnot\u001B[39;00m (\u001B[38;5;28mself\u001B[39m\u001B[38;5;241m.\u001B[39m_backward_hooks \u001B[38;5;129;01mor\u001B[39;00m \u001B[38;5;28mself\u001B[39m\u001B[38;5;241m.\u001B[39m_backward_pre_hooks \u001B[38;5;129;01mor\u001B[39;00m \u001B[38;5;28mself\u001B[39m\u001B[38;5;241m.\u001B[39m_forward_hooks \u001B[38;5;129;01mor\u001B[39;00m \u001B[38;5;28mself\u001B[39m\u001B[38;5;241m.\u001B[39m_forward_pre_hooks\n\u001B[0;32m   1525\u001B[0m         \u001B[38;5;129;01mor\u001B[39;00m _global_backward_pre_hooks \u001B[38;5;129;01mor\u001B[39;00m _global_backward_hooks\n\u001B[0;32m   1526\u001B[0m         \u001B[38;5;129;01mor\u001B[39;00m _global_forward_hooks \u001B[38;5;129;01mor\u001B[39;00m _global_forward_pre_hooks):\n\u001B[1;32m-> 1527\u001B[0m     \u001B[38;5;28;01mreturn\u001B[39;00m forward_call(\u001B[38;5;241m*\u001B[39margs, \u001B[38;5;241m*\u001B[39m\u001B[38;5;241m*\u001B[39mkwargs)\n\u001B[0;32m   1529\u001B[0m \u001B[38;5;28;01mtry\u001B[39;00m:\n\u001B[0;32m   1530\u001B[0m     result \u001B[38;5;241m=\u001B[39m \u001B[38;5;28;01mNone\u001B[39;00m\n",
      "File \u001B[1;32m~\\Projects\\scripts\\lib\\site-packages\\torch_geometric\\nn\\aggr\\basic.py:22\u001B[0m, in \u001B[0;36mSumAggregation.forward\u001B[1;34m(self, x, index, ptr, dim_size, dim)\u001B[0m\n\u001B[0;32m     19\u001B[0m \u001B[38;5;28;01mdef\u001B[39;00m \u001B[38;5;21mforward\u001B[39m(\u001B[38;5;28mself\u001B[39m, x: Tensor, index: Optional[Tensor] \u001B[38;5;241m=\u001B[39m \u001B[38;5;28;01mNone\u001B[39;00m,\n\u001B[0;32m     20\u001B[0m             ptr: Optional[Tensor] \u001B[38;5;241m=\u001B[39m \u001B[38;5;28;01mNone\u001B[39;00m, dim_size: Optional[\u001B[38;5;28mint\u001B[39m] \u001B[38;5;241m=\u001B[39m \u001B[38;5;28;01mNone\u001B[39;00m,\n\u001B[0;32m     21\u001B[0m             dim: \u001B[38;5;28mint\u001B[39m \u001B[38;5;241m=\u001B[39m \u001B[38;5;241m-\u001B[39m\u001B[38;5;241m2\u001B[39m) \u001B[38;5;241m-\u001B[39m\u001B[38;5;241m>\u001B[39m Tensor:\n\u001B[1;32m---> 22\u001B[0m     \u001B[38;5;28;01mreturn\u001B[39;00m \u001B[38;5;28;43mself\u001B[39;49m\u001B[38;5;241;43m.\u001B[39;49m\u001B[43mreduce\u001B[49m\u001B[43m(\u001B[49m\u001B[43mx\u001B[49m\u001B[43m,\u001B[49m\u001B[43m \u001B[49m\u001B[43mindex\u001B[49m\u001B[43m,\u001B[49m\u001B[43m \u001B[49m\u001B[43mptr\u001B[49m\u001B[43m,\u001B[49m\u001B[43m \u001B[49m\u001B[43mdim_size\u001B[49m\u001B[43m,\u001B[49m\u001B[43m \u001B[49m\u001B[43mdim\u001B[49m\u001B[43m,\u001B[49m\u001B[43m \u001B[49m\u001B[43mreduce\u001B[49m\u001B[38;5;241;43m=\u001B[39;49m\u001B[38;5;124;43m'\u001B[39;49m\u001B[38;5;124;43msum\u001B[39;49m\u001B[38;5;124;43m'\u001B[39;49m\u001B[43m)\u001B[49m\n",
      "File \u001B[1;32m~\\Projects\\scripts\\lib\\site-packages\\torch_geometric\\nn\\aggr\\base.py:176\u001B[0m, in \u001B[0;36mAggregation.reduce\u001B[1;34m(self, x, index, ptr, dim_size, dim, reduce)\u001B[0m\n\u001B[0;32m    173\u001B[0m     \u001B[38;5;28;01mreturn\u001B[39;00m segment(x, ptr, reduce\u001B[38;5;241m=\u001B[39mreduce)\n\u001B[0;32m    175\u001B[0m \u001B[38;5;28;01massert\u001B[39;00m index \u001B[38;5;129;01mis\u001B[39;00m \u001B[38;5;129;01mnot\u001B[39;00m \u001B[38;5;28;01mNone\u001B[39;00m\n\u001B[1;32m--> 176\u001B[0m \u001B[38;5;28;01mreturn\u001B[39;00m \u001B[43mscatter\u001B[49m\u001B[43m(\u001B[49m\u001B[43mx\u001B[49m\u001B[43m,\u001B[49m\u001B[43m \u001B[49m\u001B[43mindex\u001B[49m\u001B[43m,\u001B[49m\u001B[43m \u001B[49m\u001B[43mdim\u001B[49m\u001B[43m,\u001B[49m\u001B[43m \u001B[49m\u001B[43mdim_size\u001B[49m\u001B[43m,\u001B[49m\u001B[43m \u001B[49m\u001B[43mreduce\u001B[49m\u001B[43m)\u001B[49m\n",
      "File \u001B[1;32m~\\Projects\\scripts\\lib\\site-packages\\torch_geometric\\utils\\scatter.py:70\u001B[0m, in \u001B[0;36mscatter\u001B[1;34m(src, index, dim, dim_size, reduce)\u001B[0m\n\u001B[0;32m     68\u001B[0m \u001B[38;5;28;01mif\u001B[39;00m reduce \u001B[38;5;241m==\u001B[39m \u001B[38;5;124m'\u001B[39m\u001B[38;5;124msum\u001B[39m\u001B[38;5;124m'\u001B[39m \u001B[38;5;129;01mor\u001B[39;00m reduce \u001B[38;5;241m==\u001B[39m \u001B[38;5;124m'\u001B[39m\u001B[38;5;124madd\u001B[39m\u001B[38;5;124m'\u001B[39m:\n\u001B[0;32m     69\u001B[0m     index \u001B[38;5;241m=\u001B[39m broadcast(index, src, dim)\n\u001B[1;32m---> 70\u001B[0m     \u001B[38;5;28;01mreturn\u001B[39;00m \u001B[43msrc\u001B[49m\u001B[38;5;241;43m.\u001B[39;49m\u001B[43mnew_zeros\u001B[49m\u001B[43m(\u001B[49m\u001B[43msize\u001B[49m\u001B[43m)\u001B[49m\u001B[38;5;241;43m.\u001B[39;49m\u001B[43mscatter_add_\u001B[49m\u001B[43m(\u001B[49m\u001B[43mdim\u001B[49m\u001B[43m,\u001B[49m\u001B[43m \u001B[49m\u001B[43mindex\u001B[49m\u001B[43m,\u001B[49m\u001B[43m \u001B[49m\u001B[43msrc\u001B[49m\u001B[43m)\u001B[49m\n\u001B[0;32m     72\u001B[0m \u001B[38;5;28;01mif\u001B[39;00m reduce \u001B[38;5;241m==\u001B[39m \u001B[38;5;124m'\u001B[39m\u001B[38;5;124mmean\u001B[39m\u001B[38;5;124m'\u001B[39m:\n\u001B[0;32m     73\u001B[0m     count \u001B[38;5;241m=\u001B[39m src\u001B[38;5;241m.\u001B[39mnew_zeros(dim_size)\n",
      "\u001B[1;31mKeyboardInterrupt\u001B[0m: "
     ]
    }
   ],
   "source": [
    "import torch\n",
    "import torch.nn.functional as F\n",
    "from torch_geometric.nn import RGCNConv\n",
    "\n",
    "optimizer = torch.optim.Adam(model.parameters(), lr=0.005, weight_decay=0.001)\n",
    "# optimizer = torch.optim.Adam(model.parameters(), lr=0.01)\n",
    "criterion = torch.nn.BCEWithLogitsLoss()\n",
    "\n",
    "# Training loop\n",
    "for epoch in range(500):\n",
    "    model.train()\n",
    "    optimizer.zero_grad()\n",
    "    \n",
    "    out = model(train_data.x_dict, train_data.edge_index_dict)\n",
    "    loss = criterion(out['recipe'], train_data['recipe'].y.float())\n",
    "    loss.backward()\n",
    "    optimizer.step()\n",
    "\n",
    "    print(f\"Epoch {epoch + 1}, Loss: {loss.item()}\")\n",
    "    \n",
    "        # Validation\n",
    "    model.eval()\n",
    "    with torch.no_grad():\n",
    "        val_loss = 0\n",
    "    \n",
    "        out = model(val_data.x_dict, val_data.edge_index_dict)\n",
    "        loss = criterion(out[\"recipe\"], val_data[\"recipe\"].y)\n",
    "        val_loss += loss.item()\n",
    "        print(f\"Validation Loss: {val_loss}\")\n"
   ],
   "metadata": {
    "collapsed": false,
    "ExecuteTime": {
     "end_time": "2023-10-19T13:09:43.115657200Z",
     "start_time": "2023-10-19T13:06:46.481400300Z"
    }
   },
   "id": "f332b1ab2bdecc74"
  },
  {
   "cell_type": "code",
   "execution_count": 173,
   "outputs": [
    {
     "name": "stdout",
     "output_type": "stream",
     "text": [
      "Test Loss: 0.7068083882331848\n",
      "F1 Score: 0.20590868397493284\n",
      "Precision: 0.28726061615320564\n",
      "Recall: 0.16046511627906976\n",
      "Accuracy: 0.25311203319502074\n"
     ]
    }
   ],
   "source": [
    "\n",
    "# For evaluation metrics, you can use sklearn's metrics\n",
    "from sklearn.metrics import f1_score, precision_score, recall_score, accuracy_score\n",
    "\n",
    "# Convert the model's output to binary labels\n",
    "def to_binary_labels(output):\n",
    "    return (torch.sigmoid(output) > 0.5).int()\n",
    "\n",
    "# Evaluate on validation set\n",
    "model.eval()\n",
    "with torch.no_grad():\n",
    "  # Assuming val_data is your validation data\n",
    "    out = model(test_data.x_dict, test_data.edge_index_dict)\n",
    "    test_loss = criterion(out['recipe'], test_data['recipe'].y.float())\n",
    "    print(f\"Test Loss: {test_loss.item()}\")\n",
    "\n",
    "    # Convert outputs to binary labels for metric calculation\n",
    "    preds = to_binary_labels(out['recipe'])\n",
    "    labels = test_data['recipe'].y.int()\n",
    "\n",
    "    f1 = f1_score(labels.numpy(), preds.numpy(), average='micro')\n",
    "    precision = precision_score(labels.numpy(), preds.numpy(), average='micro')\n",
    "    recall = recall_score(labels.numpy(), preds.numpy(), average='micro')\n",
    "    accuracy = accuracy_score(labels.numpy(), preds.numpy())\n",
    "\n",
    "    print(f\"F1 Score: {f1}\")\n",
    "    print(f\"Precision: {precision}\")\n",
    "    print(f\"Recall: {recall}\")\n",
    "    print(f\"Accuracy: {accuracy}\")"
   ],
   "metadata": {
    "collapsed": false,
    "ExecuteTime": {
     "end_time": "2023-10-19T13:09:49.216345600Z",
     "start_time": "2023-10-19T13:09:48.838124500Z"
    }
   },
   "id": "887039b8df14d594"
  },
  {
   "cell_type": "code",
   "execution_count": 174,
   "outputs": [
    {
     "data": {
      "text/plain": "                               recipeId  \\\n0  a220a04a-c211-461d-bad8-d73ed2d29ea3   \n1  cbf082fa-38b1-4395-b3a7-0a0546333861   \n2  1dd265fa-d7d0-408f-9ab3-bcf42d66211d   \n3  42aaa6ff-eaf8-4c1b-8925-55e245a56678   \n4  67902641-b348-45f2-b8dd-bee9a3070c9e   \n\n                                   title  \\\n0                       Baked feta pasta   \n1  Blomkålsuppe med kikerter og grønnkål   \n2       Blomkålsalat med syrlig dressing   \n3                       Steinsopprisotto   \n4               Klassisk pasta carbonara   \n\n                                           embedding  \n0  [-0.0077616022899746895, -0.007513688877224922...  \n1  [-0.005160760134458542, -0.020936481654644012,...  \n2  [-0.017495296895503998, -0.019598836079239845,...  \n3  [0.0018266895785927773, -0.029227033257484436,...  \n4  [0.0034193696919828653, -0.01366486120969057, ...  ",
      "text/html": "<div>\n<style scoped>\n    .dataframe tbody tr th:only-of-type {\n        vertical-align: middle;\n    }\n\n    .dataframe tbody tr th {\n        vertical-align: top;\n    }\n\n    .dataframe thead th {\n        text-align: right;\n    }\n</style>\n<table border=\"1\" class=\"dataframe\">\n  <thead>\n    <tr style=\"text-align: right;\">\n      <th></th>\n      <th>recipeId</th>\n      <th>title</th>\n      <th>embedding</th>\n    </tr>\n  </thead>\n  <tbody>\n    <tr>\n      <th>0</th>\n      <td>a220a04a-c211-461d-bad8-d73ed2d29ea3</td>\n      <td>Baked feta pasta</td>\n      <td>[-0.0077616022899746895, -0.007513688877224922...</td>\n    </tr>\n    <tr>\n      <th>1</th>\n      <td>cbf082fa-38b1-4395-b3a7-0a0546333861</td>\n      <td>Blomkålsuppe med kikerter og grønnkål</td>\n      <td>[-0.005160760134458542, -0.020936481654644012,...</td>\n    </tr>\n    <tr>\n      <th>2</th>\n      <td>1dd265fa-d7d0-408f-9ab3-bcf42d66211d</td>\n      <td>Blomkålsalat med syrlig dressing</td>\n      <td>[-0.017495296895503998, -0.019598836079239845,...</td>\n    </tr>\n    <tr>\n      <th>3</th>\n      <td>42aaa6ff-eaf8-4c1b-8925-55e245a56678</td>\n      <td>Steinsopprisotto</td>\n      <td>[0.0018266895785927773, -0.029227033257484436,...</td>\n    </tr>\n    <tr>\n      <th>4</th>\n      <td>67902641-b348-45f2-b8dd-bee9a3070c9e</td>\n      <td>Klassisk pasta carbonara</td>\n      <td>[0.0034193696919828653, -0.01366486120969057, ...</td>\n    </tr>\n  </tbody>\n</table>\n</div>"
     },
     "execution_count": 174,
     "metadata": {},
     "output_type": "execute_result"
    }
   ],
   "source": [
    "no_tag_query = \"\"\"\n",
    "MATCH (n:Recipe)\n",
    "WHERE NOT (n)-[:HAS_TAG]->(:Tag)\n",
    "return n.recipieId as recipeId, n.title as title, n.openaiEmbeddings as embedding\n",
    "\"\"\" \n",
    "\n",
    "df = fetch_data(no_tag_query)\n",
    "df.head()"
   ],
   "metadata": {
    "collapsed": false,
    "ExecuteTime": {
     "end_time": "2023-10-19T13:09:57.882261100Z",
     "start_time": "2023-10-19T13:09:55.856496Z"
    }
   },
   "id": "6d2f2f91d3d48b47"
  },
  {
   "cell_type": "code",
   "execution_count": 175,
   "outputs": [
    {
     "name": "stderr",
     "output_type": "stream",
     "text": [
      "C:\\Users\\Eirik\\AppData\\Local\\Temp\\ipykernel_5568\\2765002589.py:5: FutureWarning: Series.__getitem__ treating keys as positions is deprecated. In a future version, integer keys will always be treated as labels (consistent with DataFrame behavior). To access a value by position, use `ser.iloc[pos]`\n",
      "  \"embedding\": lambda x: torch.Tensor(x)\n"
     ]
    }
   ],
   "source": [
    "recipe_x, recipe_mapping, _ = load_node(\n",
    "    no_tag_query, \n",
    "    index_col='recipeId', \n",
    "    encoders={\n",
    "        \"embedding\": lambda x: torch.Tensor(x)\n",
    "    }\n",
    ")"
   ],
   "metadata": {
    "collapsed": false,
    "ExecuteTime": {
     "end_time": "2023-10-19T13:10:00.858842900Z",
     "start_time": "2023-10-19T13:09:59.394022Z"
    }
   },
   "id": "659541949b2acb08"
  },
  {
   "cell_type": "code",
   "execution_count": 154,
   "outputs": [
    {
     "data": {
      "text/plain": "(torch.Size([183, 1536]), 183)"
     },
     "execution_count": 154,
     "metadata": {},
     "output_type": "execute_result"
    }
   ],
   "source": [
    "recipe_x.shape, len(recipe_mapping)"
   ],
   "metadata": {
    "collapsed": false,
    "ExecuteTime": {
     "end_time": "2023-10-19T12:58:06.964995800Z",
     "start_time": "2023-10-19T12:58:06.790687600Z"
    }
   },
   "id": "65149e3fad1cdf50"
  },
  {
   "cell_type": "code",
   "execution_count": 176,
   "outputs": [],
   "source": [
    "recipe_menu_query = \"\"\"\n",
    "MATCH (n:Recipe)-[r:IS_PART_OF_MENU]->(m:Menu)\n",
    "WHERE NOT (n)-[:HAS_TAG]->(:Tag)\n",
    "RETURN DISTINCT n.recipieId AS recipeId, ID(m) AS menuId, r.weekDay AS weekDay\n",
    "\"\"\"\n",
    "\n",
    "recipe_menu_edge_index, recipe_menu_edge_label = load_edge(\n",
    "    recipe_menu_query,\n",
    "    src_index_col='recipeId',\n",
    "    src_mapping=recipe_mapping,\n",
    "    dst_index_col='menuId',\n",
    "    dst_mapping=menu_mapping,\n",
    "    encoders={'weekDay': WeekdayEncoder()},\n",
    ")"
   ],
   "metadata": {
    "collapsed": false,
    "ExecuteTime": {
     "end_time": "2023-10-19T13:10:04.018824200Z",
     "start_time": "2023-10-19T13:10:03.917840900Z"
    }
   },
   "id": "23b63b1ecc9f21ed"
  },
  {
   "cell_type": "code",
   "execution_count": 156,
   "outputs": [
    {
     "data": {
      "text/plain": "(torch.Size([2, 295]), torch.Size([295, 7]))"
     },
     "execution_count": 156,
     "metadata": {},
     "output_type": "execute_result"
    }
   ],
   "source": [
    "recipe_menu_edge_index.shape, recipe_menu_edge_label.shape"
   ],
   "metadata": {
    "collapsed": false,
    "ExecuteTime": {
     "end_time": "2023-10-19T12:58:10.805520200Z",
     "start_time": "2023-10-19T12:58:10.693006700Z"
    }
   },
   "id": "fcf719fd06f8cbfc"
  },
  {
   "cell_type": "code",
   "execution_count": 177,
   "outputs": [],
   "source": [
    "recipe_ingredient_query = \"\"\"\n",
    "MATCH (n)-[r:HAS_INGREDIENT]->(i:Ingredient)\n",
    "WHERE NOT (n)-[:HAS_TAG]->(:Tag)\n",
    "RETURN DISTINCT n.recipieId AS recipeId, ID(i) AS ingredientId\n",
    "\"\"\"\n",
    "\n",
    "recipe_ingredient_edge_index, recipe_ingredient_edge_label = load_edge(\n",
    "    recipe_ingredient_query,\n",
    "    src_index_col='recipeId',\n",
    "    src_mapping=recipe_mapping,\n",
    "    dst_index_col='ingredientId',\n",
    "    dst_mapping=ingredient_mapping,\n",
    ")"
   ],
   "metadata": {
    "collapsed": false,
    "ExecuteTime": {
     "end_time": "2023-10-19T13:10:06.360613200Z",
     "start_time": "2023-10-19T13:10:06.177645900Z"
    }
   },
   "id": "70c9f894136ef3f7"
  },
  {
   "cell_type": "code",
   "execution_count": 158,
   "outputs": [
    {
     "data": {
      "text/plain": "(torch.Size([2, 1986]), None)"
     },
     "execution_count": 158,
     "metadata": {},
     "output_type": "execute_result"
    }
   ],
   "source": [
    "recipe_ingredient_edge_index.shape, recipe_ingredient_edge_label"
   ],
   "metadata": {
    "collapsed": false,
    "ExecuteTime": {
     "end_time": "2023-10-19T12:58:14.673814300Z",
     "start_time": "2023-10-19T12:58:14.589239100Z"
    }
   },
   "id": "1e7206d4a30ee227"
  },
  {
   "cell_type": "code",
   "execution_count": 178,
   "outputs": [
    {
     "data": {
      "text/plain": "HeteroData(\n  num_relations=2,\n  num_nodes=2118,\n  recipe={ x=[183, 1536] },\n  menu={ x=[142, 2] },\n  ingredient={ x=[1793, 384] },\n  (recipe, has_ingredient, ingredient)={ edge_index=[2, 1986] },\n  (recipe, is_part_of_menu, menu)={\n    edge_index=[2, 295],\n    edge_attr=[295, 7],\n  }\n)"
     },
     "execution_count": 178,
     "metadata": {},
     "output_type": "execute_result"
    }
   ],
   "source": [
    "from torch_geometric.data import HeteroData\n",
    "\n",
    "no_tag_data = HeteroData()\n",
    "\n",
    "no_tag_data['recipe'].x = recipe_x\n",
    "no_tag_data[\"menu\"].x = menu_x\n",
    "no_tag_data[\"ingredient\"].x = ingredient_x\n",
    "no_tag_data[\"recipe\", \"has_ingredient\", \"ingredient\"].edge_index = recipe_ingredient_edge_index\n",
    "no_tag_data[\"recipe\", \"is_part_of_menu\", \"menu\"].edge_index = recipe_menu_edge_index\n",
    "no_tag_data[\"recipe\", \"is_part_of_menu\", \"menu\"].edge_attr = recipe_menu_edge_label\n",
    "no_tag_data.num_relations = 2\n",
    "no_tag_data.num_nodes = len(recipe_mapping) + len(ingredient_mapping) + len(menu_mapping)\n",
    "no_tag_data"
   ],
   "metadata": {
    "collapsed": false,
    "ExecuteTime": {
     "end_time": "2023-10-19T13:10:08.643588300Z",
     "start_time": "2023-10-19T13:10:08.532710600Z"
    }
   },
   "id": "9022541273d4e587"
  },
  {
   "cell_type": "code",
   "execution_count": 179,
   "outputs": [
    {
     "data": {
      "text/plain": "HeteroData(\n  num_relations=2,\n  num_nodes=2118,\n  recipe={ x=[183, 1536] },\n  menu={ x=[142, 2] },\n  ingredient={ x=[1793, 384] },\n  (recipe, has_ingredient, ingredient)={ edge_index=[2, 1986] },\n  (recipe, is_part_of_menu, menu)={\n    edge_index=[2, 295],\n    edge_attr=[295, 7],\n  },\n  (ingredient, rev_has_ingredient, recipe)={ edge_index=[2, 1986] },\n  (menu, rev_is_part_of_menu, recipe)={\n    edge_index=[2, 295],\n    edge_attr=[295, 7],\n  }\n)"
     },
     "execution_count": 179,
     "metadata": {},
     "output_type": "execute_result"
    }
   ],
   "source": [
    "from torch_geometric.transforms import ToUndirected\n",
    "\n",
    "no_tag_data = ToUndirected()(no_tag_data)\n",
    "no_tag_data"
   ],
   "metadata": {
    "collapsed": false,
    "ExecuteTime": {
     "end_time": "2023-10-19T13:10:11.095018200Z",
     "start_time": "2023-10-19T13:10:11.014335400Z"
    }
   },
   "id": "22b8de7036ee695e"
  },
  {
   "cell_type": "code",
   "execution_count": 180,
   "outputs": [],
   "source": [
    "model.eval()\n",
    "with torch.no_grad():\n",
    "    # Assuming test_data is your filtered data without tags\n",
    "    out = model(no_tag_data.x_dict, no_tag_data.edge_index_dict)\n",
    "    \n",
    "    # Convert outputs to probabilities\n",
    "    probs = torch.sigmoid(out['recipe'])\n",
    "    \n",
    "    # Convert probabilities to binary labels (if needed)\n",
    "    preds = (probs > 0.5).int()"
   ],
   "metadata": {
    "collapsed": false,
    "ExecuteTime": {
     "end_time": "2023-10-19T13:10:12.950431700Z",
     "start_time": "2023-10-19T13:10:12.808415900Z"
    }
   },
   "id": "ac2574b47720c5e2"
  },
  {
   "cell_type": "code",
   "execution_count": 181,
   "outputs": [],
   "source": [
    "df = fetch_data(no_tag_query)"
   ],
   "metadata": {
    "collapsed": false,
    "ExecuteTime": {
     "end_time": "2023-10-19T13:10:16.947959200Z",
     "start_time": "2023-10-19T13:10:16.036137200Z"
    }
   },
   "id": "126e89d2e3574fa3"
  },
  {
   "cell_type": "code",
   "execution_count": 163,
   "outputs": [
    {
     "name": "stdout",
     "output_type": "stream",
     "text": [
      "262\n",
      "262\n",
      "183\n"
     ]
    }
   ],
   "source": [
    "print(len(mlb.classes_))\n",
    "print(len(preds[0]))\n",
    "print(len(df))"
   ],
   "metadata": {
    "collapsed": false,
    "ExecuteTime": {
     "end_time": "2023-10-19T12:58:31.781417800Z",
     "start_time": "2023-10-19T12:58:31.652160700Z"
    }
   },
   "id": "46951f77e84d4709"
  },
  {
   "cell_type": "code",
   "execution_count": 182,
   "outputs": [
    {
     "data": {
      "text/plain": "                                     title  \\\n0                         Baked feta pasta   \n1    Blomkålsuppe med kikerter og grønnkål   \n2         Blomkålsalat med syrlig dressing   \n3                         Steinsopprisotto   \n4                 Klassisk pasta carbonara   \n..                                     ...   \n178                             Lam i pita   \n179               Quinoasalat med gresskar   \n180                   Enkel grønnsakssuppe   \n181      Middagssalat med kikerter og feta   \n182       Enkel middelhavspasta med oliven   \n\n                                                  tags  \n0    (Grill, Hovedrett, Hverdag, Løk, Middagstips, ...  \n1    (Grill, Hovedrett, Hverdag, Løk, Middagstips, ...  \n2    (Grill, Hovedrett, Hverdag, Løk, Middagstips, ...  \n3    (Grill, Hovedrett, Hverdag, Løk, Middag under ...  \n4    (Bryllup, Fiken, Forrett, Grill, Hovedrett, Hv...  \n..                                                 ...  \n178                                     (Middagstips,)  \n179  (Grill, Hovedrett, Hverdag, Løk, Middagstips, ...  \n180  (Bryllup, Fiken, Forrett, Grill, Hovedrett, Hv...  \n181  (Grill, Hovedrett, Hverdag, Løk, Middagstips, ...  \n182  (Grill, Hovedrett, Hverdag, Løk, Middagstips, ...  \n\n[183 rows x 2 columns]",
      "text/html": "<div>\n<style scoped>\n    .dataframe tbody tr th:only-of-type {\n        vertical-align: middle;\n    }\n\n    .dataframe tbody tr th {\n        vertical-align: top;\n    }\n\n    .dataframe thead th {\n        text-align: right;\n    }\n</style>\n<table border=\"1\" class=\"dataframe\">\n  <thead>\n    <tr style=\"text-align: right;\">\n      <th></th>\n      <th>title</th>\n      <th>tags</th>\n    </tr>\n  </thead>\n  <tbody>\n    <tr>\n      <th>0</th>\n      <td>Baked feta pasta</td>\n      <td>(Grill, Hovedrett, Hverdag, Løk, Middagstips, ...</td>\n    </tr>\n    <tr>\n      <th>1</th>\n      <td>Blomkålsuppe med kikerter og grønnkål</td>\n      <td>(Grill, Hovedrett, Hverdag, Løk, Middagstips, ...</td>\n    </tr>\n    <tr>\n      <th>2</th>\n      <td>Blomkålsalat med syrlig dressing</td>\n      <td>(Grill, Hovedrett, Hverdag, Løk, Middagstips, ...</td>\n    </tr>\n    <tr>\n      <th>3</th>\n      <td>Steinsopprisotto</td>\n      <td>(Grill, Hovedrett, Hverdag, Løk, Middag under ...</td>\n    </tr>\n    <tr>\n      <th>4</th>\n      <td>Klassisk pasta carbonara</td>\n      <td>(Bryllup, Fiken, Forrett, Grill, Hovedrett, Hv...</td>\n    </tr>\n    <tr>\n      <th>...</th>\n      <td>...</td>\n      <td>...</td>\n    </tr>\n    <tr>\n      <th>178</th>\n      <td>Lam i pita</td>\n      <td>(Middagstips,)</td>\n    </tr>\n    <tr>\n      <th>179</th>\n      <td>Quinoasalat med gresskar</td>\n      <td>(Grill, Hovedrett, Hverdag, Løk, Middagstips, ...</td>\n    </tr>\n    <tr>\n      <th>180</th>\n      <td>Enkel grønnsakssuppe</td>\n      <td>(Bryllup, Fiken, Forrett, Grill, Hovedrett, Hv...</td>\n    </tr>\n    <tr>\n      <th>181</th>\n      <td>Middagssalat med kikerter og feta</td>\n      <td>(Grill, Hovedrett, Hverdag, Løk, Middagstips, ...</td>\n    </tr>\n    <tr>\n      <th>182</th>\n      <td>Enkel middelhavspasta med oliven</td>\n      <td>(Grill, Hovedrett, Hverdag, Løk, Middagstips, ...</td>\n    </tr>\n  </tbody>\n</table>\n<p>183 rows × 2 columns</p>\n</div>"
     },
     "execution_count": 182,
     "metadata": {},
     "output_type": "execute_result"
    }
   ],
   "source": [
    "df[\"tags\"] = mlb.inverse_transform(preds.numpy())\n",
    "df[[\"title\", \"tags\"]]"
   ],
   "metadata": {
    "collapsed": false,
    "ExecuteTime": {
     "end_time": "2023-10-19T13:10:17.731657300Z",
     "start_time": "2023-10-19T13:10:17.630515900Z"
    }
   },
   "id": "8b601b980dccc3bd"
  },
  {
   "cell_type": "code",
   "execution_count": 183,
   "outputs": [
    {
     "data": {
      "text/plain": "{'Bryllup',\n 'Entrecote',\n 'Fiken',\n 'Forrett',\n 'Grill',\n 'Hovedrett',\n 'Hverdag',\n 'Løk',\n 'Middag under 20 minutter',\n 'Middagstips',\n 'Pai',\n 'Sushi',\n 'Tapas'}"
     },
     "execution_count": 183,
     "metadata": {},
     "output_type": "execute_result"
    }
   ],
   "source": [
    "set(i for x in df[\"tags\"].tolist() for i in x )"
   ],
   "metadata": {
    "collapsed": false,
    "ExecuteTime": {
     "end_time": "2023-10-19T13:10:21.594203900Z",
     "start_time": "2023-10-19T13:10:21.523553800Z"
    }
   },
   "id": "dc6b59caf01c93c7"
  }
 ],
 "metadata": {
  "kernelspec": {
   "display_name": "Python 3",
   "language": "python",
   "name": "python3"
  },
  "language_info": {
   "codemirror_mode": {
    "name": "ipython",
    "version": 2
   },
   "file_extension": ".py",
   "mimetype": "text/x-python",
   "name": "python",
   "nbconvert_exporter": "python",
   "pygments_lexer": "ipython2",
   "version": "2.7.6"
  }
 },
 "nbformat": 4,
 "nbformat_minor": 5
}
