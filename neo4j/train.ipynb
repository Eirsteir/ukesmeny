{
 "cells": [
  {
   "cell_type": "code",
   "execution_count": 11,
   "id": "initial_id",
   "metadata": {
    "collapsed": true,
    "ExecuteTime": {
     "end_time": "2023-10-13T12:46:09.556810200Z",
     "start_time": "2023-10-13T12:46:09.372006100Z"
    }
   },
   "outputs": [],
   "source": [
    "import pandas as pd \n",
    "\n",
    "df = pd.read_pickle(\"../data/preprocessed/labeled_data.pkl\")"
   ]
  },
  {
   "cell_type": "code",
   "execution_count": null,
   "outputs": [],
   "source": [],
   "metadata": {
    "collapsed": false
   },
   "id": "4bc50ef472b5a2ee"
  },
  {
   "cell_type": "code",
   "execution_count": 12,
   "outputs": [
    {
     "data": {
      "text/plain": "                                     id  \\\n0  7d9a6e4e-9d34-4715-bf08-5b65f709d664   \n1  d1ba9cfb-d048-9475-ddb9-1f1aa3cf33f1   \n2  9f4eac12-2edf-ad9c-14d9-90bb92bcc3d8   \n3  8bec3976-7837-420d-b94f-d078b2ac6ae3   \n4  328e4786-f496-4dde-a5f5-8675668a1c89   \n\n                                         title  \\\n0                     Klassisk minestronesuppe   \n1                        Kremet pasta med laks   \n2                    Kyllingfilet med soppsaus   \n3                             Klassisk risotto   \n4  Lammeburger med kantareller og tyttebærkrem   \n\n                                         description  \\\n0  Oppskrift på italiensk minestronesuppe, med go...   \n1  Pasta med kremet saus, stekt laks og erter er ...   \n2  Oppskrift på god og enkel hverdagsmiddag med k...   \n3  Slik lager du klassisk italiensk risotto, med ...   \n4  Oppskrift på en saftig høstburger med sesongen...   \n\n                                         ingredients  year  week week_day  \\\n0  rødløk, hvitløk, stangselleri, gulrøtter, chil...    -1    -1     None   \n1    pasta, frosne grønne erter, smør, creme fraiche    -1    -1     None   \n2  løk, sjampinjong, crême fraiche, soyasaus, kyl...    -1    -1     None   \n3  risottoris, olivenolje, gul løk, hvitvin, kyll...    -1    -1     None   \n4  MENY lammeburgere, smør, burgerbrød, ferske ka...    -1    -1     None   \n\n                                                text  n_tokens  \\\n0  Tittel: Klassisk minestronesuppe. beskrivelse:...       136   \n1  Tittel: Kremet pasta med laks. beskrivelse: Pa...        98   \n2  Tittel: Kyllingfilet med soppsaus. beskrivelse...       132   \n3  Tittel: Klassisk risotto. beskrivelse: Slik la...        94   \n4  Tittel: Lammeburger med kantareller og tyttebæ...       170   \n\n                                              vector menu_recipes  \\\n0  [0.019411299377679825, -0.018027549609541893, ...          NaN   \n1  [0.02167445234954357, 0.006041108630597591, 0....          NaN   \n2  [0.004851077683269978, -0.0032519602682441473,...          NaN   \n3  [0.016937578096985817, -0.03410421311855316, -...          NaN   \n4  [-0.011342213489115238, -0.019271956756711006,...          NaN   \n\n            menu_id  label  \n0  No_Menu_Assigned      0  \n1  No_Menu_Assigned      0  \n2  No_Menu_Assigned      0  \n3  No_Menu_Assigned      0  \n4  No_Menu_Assigned      0  ",
      "text/html": "<div>\n<style scoped>\n    .dataframe tbody tr th:only-of-type {\n        vertical-align: middle;\n    }\n\n    .dataframe tbody tr th {\n        vertical-align: top;\n    }\n\n    .dataframe thead th {\n        text-align: right;\n    }\n</style>\n<table border=\"1\" class=\"dataframe\">\n  <thead>\n    <tr style=\"text-align: right;\">\n      <th></th>\n      <th>id</th>\n      <th>title</th>\n      <th>description</th>\n      <th>ingredients</th>\n      <th>year</th>\n      <th>week</th>\n      <th>week_day</th>\n      <th>text</th>\n      <th>n_tokens</th>\n      <th>vector</th>\n      <th>menu_recipes</th>\n      <th>menu_id</th>\n      <th>label</th>\n    </tr>\n  </thead>\n  <tbody>\n    <tr>\n      <th>0</th>\n      <td>7d9a6e4e-9d34-4715-bf08-5b65f709d664</td>\n      <td>Klassisk minestronesuppe</td>\n      <td>Oppskrift på italiensk minestronesuppe, med go...</td>\n      <td>rødløk, hvitløk, stangselleri, gulrøtter, chil...</td>\n      <td>-1</td>\n      <td>-1</td>\n      <td>None</td>\n      <td>Tittel: Klassisk minestronesuppe. beskrivelse:...</td>\n      <td>136</td>\n      <td>[0.019411299377679825, -0.018027549609541893, ...</td>\n      <td>NaN</td>\n      <td>No_Menu_Assigned</td>\n      <td>0</td>\n    </tr>\n    <tr>\n      <th>1</th>\n      <td>d1ba9cfb-d048-9475-ddb9-1f1aa3cf33f1</td>\n      <td>Kremet pasta med laks</td>\n      <td>Pasta med kremet saus, stekt laks og erter er ...</td>\n      <td>pasta, frosne grønne erter, smør, creme fraiche</td>\n      <td>-1</td>\n      <td>-1</td>\n      <td>None</td>\n      <td>Tittel: Kremet pasta med laks. beskrivelse: Pa...</td>\n      <td>98</td>\n      <td>[0.02167445234954357, 0.006041108630597591, 0....</td>\n      <td>NaN</td>\n      <td>No_Menu_Assigned</td>\n      <td>0</td>\n    </tr>\n    <tr>\n      <th>2</th>\n      <td>9f4eac12-2edf-ad9c-14d9-90bb92bcc3d8</td>\n      <td>Kyllingfilet med soppsaus</td>\n      <td>Oppskrift på god og enkel hverdagsmiddag med k...</td>\n      <td>løk, sjampinjong, crême fraiche, soyasaus, kyl...</td>\n      <td>-1</td>\n      <td>-1</td>\n      <td>None</td>\n      <td>Tittel: Kyllingfilet med soppsaus. beskrivelse...</td>\n      <td>132</td>\n      <td>[0.004851077683269978, -0.0032519602682441473,...</td>\n      <td>NaN</td>\n      <td>No_Menu_Assigned</td>\n      <td>0</td>\n    </tr>\n    <tr>\n      <th>3</th>\n      <td>8bec3976-7837-420d-b94f-d078b2ac6ae3</td>\n      <td>Klassisk risotto</td>\n      <td>Slik lager du klassisk italiensk risotto, med ...</td>\n      <td>risottoris, olivenolje, gul løk, hvitvin, kyll...</td>\n      <td>-1</td>\n      <td>-1</td>\n      <td>None</td>\n      <td>Tittel: Klassisk risotto. beskrivelse: Slik la...</td>\n      <td>94</td>\n      <td>[0.016937578096985817, -0.03410421311855316, -...</td>\n      <td>NaN</td>\n      <td>No_Menu_Assigned</td>\n      <td>0</td>\n    </tr>\n    <tr>\n      <th>4</th>\n      <td>328e4786-f496-4dde-a5f5-8675668a1c89</td>\n      <td>Lammeburger med kantareller og tyttebærkrem</td>\n      <td>Oppskrift på en saftig høstburger med sesongen...</td>\n      <td>MENY lammeburgere, smør, burgerbrød, ferske ka...</td>\n      <td>-1</td>\n      <td>-1</td>\n      <td>None</td>\n      <td>Tittel: Lammeburger med kantareller og tyttebæ...</td>\n      <td>170</td>\n      <td>[-0.011342213489115238, -0.019271956756711006,...</td>\n      <td>NaN</td>\n      <td>No_Menu_Assigned</td>\n      <td>0</td>\n    </tr>\n  </tbody>\n</table>\n</div>"
     },
     "execution_count": 12,
     "metadata": {},
     "output_type": "execute_result"
    }
   ],
   "source": [
    "df['label'] = df['menu_id'].apply(lambda x: 0 if x == 'No_Menu_Assigned' else 1)\n",
    "df.head()"
   ],
   "metadata": {
    "collapsed": false,
    "ExecuteTime": {
     "end_time": "2023-10-13T12:46:13.866812700Z",
     "start_time": "2023-10-13T12:46:13.831898600Z"
    }
   },
   "id": "236724bffbcafc2d"
  },
  {
   "cell_type": "code",
   "execution_count": 17,
   "outputs": [],
   "source": [
    "features = df[\"vector\"].tolist()"
   ],
   "metadata": {
    "collapsed": false,
    "ExecuteTime": {
     "end_time": "2023-10-13T12:46:37.878650100Z",
     "start_time": "2023-10-13T12:46:37.847404300Z"
    }
   },
   "id": "44c213e8025f12fb"
  },
  {
   "cell_type": "code",
   "execution_count": 18,
   "outputs": [],
   "source": [
    "from sklearn.model_selection import train_test_split\n",
    "\n",
    "X_train, X_test, y_train, y_test = train_test_split(features, df['label'], test_size=0.2, random_state=42)"
   ],
   "metadata": {
    "collapsed": false,
    "ExecuteTime": {
     "end_time": "2023-10-13T12:46:39.497423400Z",
     "start_time": "2023-10-13T12:46:39.481640400Z"
    }
   },
   "id": "9a92dbe6c425c5b6"
  },
  {
   "cell_type": "code",
   "execution_count": 19,
   "outputs": [
    {
     "name": "stderr",
     "output_type": "stream",
     "text": [
      "C:\\Users\\Eirik\\Projects\\scripts\\lib\\site-packages\\sklearn\\utils\\validation.py:605: FutureWarning: is_sparse is deprecated and will be removed in a future version. Check `isinstance(dtype, pd.SparseDtype)` instead.\n",
      "  if is_sparse(pd_dtype):\n",
      "C:\\Users\\Eirik\\Projects\\scripts\\lib\\site-packages\\sklearn\\utils\\validation.py:614: FutureWarning: is_sparse is deprecated and will be removed in a future version. Check `isinstance(dtype, pd.SparseDtype)` instead.\n",
      "  if is_sparse(pd_dtype) or not is_extension_array_dtype(pd_dtype):\n"
     ]
    },
    {
     "data": {
      "text/plain": "LogisticRegression(max_iter=1000)",
      "text/html": "<style>#sk-container-id-1 {color: black;background-color: white;}#sk-container-id-1 pre{padding: 0;}#sk-container-id-1 div.sk-toggleable {background-color: white;}#sk-container-id-1 label.sk-toggleable__label {cursor: pointer;display: block;width: 100%;margin-bottom: 0;padding: 0.3em;box-sizing: border-box;text-align: center;}#sk-container-id-1 label.sk-toggleable__label-arrow:before {content: \"▸\";float: left;margin-right: 0.25em;color: #696969;}#sk-container-id-1 label.sk-toggleable__label-arrow:hover:before {color: black;}#sk-container-id-1 div.sk-estimator:hover label.sk-toggleable__label-arrow:before {color: black;}#sk-container-id-1 div.sk-toggleable__content {max-height: 0;max-width: 0;overflow: hidden;text-align: left;background-color: #f0f8ff;}#sk-container-id-1 div.sk-toggleable__content pre {margin: 0.2em;color: black;border-radius: 0.25em;background-color: #f0f8ff;}#sk-container-id-1 input.sk-toggleable__control:checked~div.sk-toggleable__content {max-height: 200px;max-width: 100%;overflow: auto;}#sk-container-id-1 input.sk-toggleable__control:checked~label.sk-toggleable__label-arrow:before {content: \"▾\";}#sk-container-id-1 div.sk-estimator input.sk-toggleable__control:checked~label.sk-toggleable__label {background-color: #d4ebff;}#sk-container-id-1 div.sk-label input.sk-toggleable__control:checked~label.sk-toggleable__label {background-color: #d4ebff;}#sk-container-id-1 input.sk-hidden--visually {border: 0;clip: rect(1px 1px 1px 1px);clip: rect(1px, 1px, 1px, 1px);height: 1px;margin: -1px;overflow: hidden;padding: 0;position: absolute;width: 1px;}#sk-container-id-1 div.sk-estimator {font-family: monospace;background-color: #f0f8ff;border: 1px dotted black;border-radius: 0.25em;box-sizing: border-box;margin-bottom: 0.5em;}#sk-container-id-1 div.sk-estimator:hover {background-color: #d4ebff;}#sk-container-id-1 div.sk-parallel-item::after {content: \"\";width: 100%;border-bottom: 1px solid gray;flex-grow: 1;}#sk-container-id-1 div.sk-label:hover label.sk-toggleable__label {background-color: #d4ebff;}#sk-container-id-1 div.sk-serial::before {content: \"\";position: absolute;border-left: 1px solid gray;box-sizing: border-box;top: 0;bottom: 0;left: 50%;z-index: 0;}#sk-container-id-1 div.sk-serial {display: flex;flex-direction: column;align-items: center;background-color: white;padding-right: 0.2em;padding-left: 0.2em;position: relative;}#sk-container-id-1 div.sk-item {position: relative;z-index: 1;}#sk-container-id-1 div.sk-parallel {display: flex;align-items: stretch;justify-content: center;background-color: white;position: relative;}#sk-container-id-1 div.sk-item::before, #sk-container-id-1 div.sk-parallel-item::before {content: \"\";position: absolute;border-left: 1px solid gray;box-sizing: border-box;top: 0;bottom: 0;left: 50%;z-index: -1;}#sk-container-id-1 div.sk-parallel-item {display: flex;flex-direction: column;z-index: 1;position: relative;background-color: white;}#sk-container-id-1 div.sk-parallel-item:first-child::after {align-self: flex-end;width: 50%;}#sk-container-id-1 div.sk-parallel-item:last-child::after {align-self: flex-start;width: 50%;}#sk-container-id-1 div.sk-parallel-item:only-child::after {width: 0;}#sk-container-id-1 div.sk-dashed-wrapped {border: 1px dashed gray;margin: 0 0.4em 0.5em 0.4em;box-sizing: border-box;padding-bottom: 0.4em;background-color: white;}#sk-container-id-1 div.sk-label label {font-family: monospace;font-weight: bold;display: inline-block;line-height: 1.2em;}#sk-container-id-1 div.sk-label-container {text-align: center;}#sk-container-id-1 div.sk-container {/* jupyter's `normalize.less` sets `[hidden] { display: none; }` but bootstrap.min.css set `[hidden] { display: none !important; }` so we also need the `!important` here to be able to override the default hidden behavior on the sphinx rendered scikit-learn.org. See: https://github.com/scikit-learn/scikit-learn/issues/21755 */display: inline-block !important;position: relative;}#sk-container-id-1 div.sk-text-repr-fallback {display: none;}</style><div id=\"sk-container-id-1\" class=\"sk-top-container\"><div class=\"sk-text-repr-fallback\"><pre>LogisticRegression(max_iter=1000)</pre><b>In a Jupyter environment, please rerun this cell to show the HTML representation or trust the notebook. <br />On GitHub, the HTML representation is unable to render, please try loading this page with nbviewer.org.</b></div><div class=\"sk-container\" hidden><div class=\"sk-item\"><div class=\"sk-estimator sk-toggleable\"><input class=\"sk-toggleable__control sk-hidden--visually\" id=\"sk-estimator-id-1\" type=\"checkbox\" checked><label for=\"sk-estimator-id-1\" class=\"sk-toggleable__label sk-toggleable__label-arrow\">LogisticRegression</label><div class=\"sk-toggleable__content\"><pre>LogisticRegression(max_iter=1000)</pre></div></div></div></div></div>"
     },
     "execution_count": 19,
     "metadata": {},
     "output_type": "execute_result"
    }
   ],
   "source": [
    "from sklearn.linear_model import LogisticRegression\n",
    "\n",
    "clf = LogisticRegression(max_iter=1000)\n",
    "clf.fit(X_train, y_train)"
   ],
   "metadata": {
    "collapsed": false,
    "ExecuteTime": {
     "end_time": "2023-10-13T12:46:41.032392Z",
     "start_time": "2023-10-13T12:46:40.778352700Z"
    }
   },
   "id": "636be60c63e323f5"
  },
  {
   "cell_type": "code",
   "execution_count": 20,
   "outputs": [
    {
     "name": "stdout",
     "output_type": "stream",
     "text": [
      "Accuracy: 0.9518900343642611\n",
      "              precision    recall  f1-score   support\n",
      "\n",
      "           0       1.00      0.85      0.92        91\n",
      "           1       0.93      1.00      0.97       200\n",
      "\n",
      "    accuracy                           0.95       291\n",
      "   macro avg       0.97      0.92      0.94       291\n",
      "weighted avg       0.96      0.95      0.95       291\n"
     ]
    },
    {
     "name": "stderr",
     "output_type": "stream",
     "text": [
      "C:\\Users\\Eirik\\Projects\\scripts\\lib\\site-packages\\sklearn\\utils\\validation.py:605: FutureWarning: is_sparse is deprecated and will be removed in a future version. Check `isinstance(dtype, pd.SparseDtype)` instead.\n",
      "  if is_sparse(pd_dtype):\n",
      "C:\\Users\\Eirik\\Projects\\scripts\\lib\\site-packages\\sklearn\\utils\\validation.py:614: FutureWarning: is_sparse is deprecated and will be removed in a future version. Check `isinstance(dtype, pd.SparseDtype)` instead.\n",
      "  if is_sparse(pd_dtype) or not is_extension_array_dtype(pd_dtype):\n",
      "C:\\Users\\Eirik\\Projects\\scripts\\lib\\site-packages\\sklearn\\utils\\validation.py:605: FutureWarning: is_sparse is deprecated and will be removed in a future version. Check `isinstance(dtype, pd.SparseDtype)` instead.\n",
      "  if is_sparse(pd_dtype):\n",
      "C:\\Users\\Eirik\\Projects\\scripts\\lib\\site-packages\\sklearn\\utils\\validation.py:614: FutureWarning: is_sparse is deprecated and will be removed in a future version. Check `isinstance(dtype, pd.SparseDtype)` instead.\n",
      "  if is_sparse(pd_dtype) or not is_extension_array_dtype(pd_dtype):\n"
     ]
    }
   ],
   "source": [
    "from sklearn.metrics import accuracy_score, classification_report\n",
    "\n",
    "y_pred = clf.predict(X_test)\n",
    "\n",
    "print(\"Accuracy:\", accuracy_score(y_test, y_pred))\n",
    "print(classification_report(y_test, y_pred))\n"
   ],
   "metadata": {
    "collapsed": false,
    "ExecuteTime": {
     "end_time": "2023-10-13T12:49:11.882848500Z",
     "start_time": "2023-10-13T12:49:11.731094800Z"
    }
   },
   "id": "cbe40872bc5c97a3"
  }
 ],
 "metadata": {
  "kernelspec": {
   "display_name": "Python 3",
   "language": "python",
   "name": "python3"
  },
  "language_info": {
   "codemirror_mode": {
    "name": "ipython",
    "version": 2
   },
   "file_extension": ".py",
   "mimetype": "text/x-python",
   "name": "python",
   "nbconvert_exporter": "python",
   "pygments_lexer": "ipython2",
   "version": "2.7.6"
  }
 },
 "nbformat": 4,
 "nbformat_minor": 5
}
