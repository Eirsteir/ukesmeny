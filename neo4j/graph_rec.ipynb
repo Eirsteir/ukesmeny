{
 "cells": [
  {
   "cell_type": "code",
   "execution_count": 1,
   "outputs": [],
   "source": [
    "import os\n",
    "os.environ[\"OPENAI_API_KEY\"] = \"\""
   ],
   "metadata": {
    "collapsed": false,
    "ExecuteTime": {
     "end_time": "2023-10-16T15:50:03.692094300Z",
     "start_time": "2023-10-16T15:50:03.665549300Z"
    }
   },
   "id": "dd360a3c9701e24c"
  },
  {
   "cell_type": "code",
   "execution_count": 2,
   "outputs": [],
   "source": [
    "from langchain.chat_models import ChatOpenAI\n",
    "from langchain.chains import GraphCypherQAChain\n",
    "from langchain.graphs import Neo4jGraph\n",
    "from langchain.chat_models import ChatOpenAI\n",
    "from langchain.chains import GraphCypherQAChain\n",
    "from langchain.graphs import Neo4jGraph"
   ],
   "metadata": {
    "collapsed": false,
    "ExecuteTime": {
     "end_time": "2023-10-16T15:50:25.609111700Z",
     "start_time": "2023-10-16T15:50:21.406436800Z"
    }
   },
   "id": "668a8f81ea5d778c"
  },
  {
   "cell_type": "code",
   "execution_count": 3,
   "outputs": [],
   "source": [
    "graph = Neo4jGraph(\n",
    "    url=\"bolt://localhost:7687\", username=\"neo4j\", password=\"pleaseletmein\"\n",
    ")"
   ],
   "metadata": {
    "collapsed": false,
    "ExecuteTime": {
     "end_time": "2023-10-16T15:50:33.979493800Z",
     "start_time": "2023-10-16T15:50:26.416274200Z"
    }
   },
   "id": "7f461a74a810290a"
  },
  {
   "cell_type": "code",
   "execution_count": 6,
   "outputs": [],
   "source": [
    "chain = GraphCypherQAChain.from_llm(\n",
    "    ChatOpenAI(temperature=0), graph=graph, verbose=True,\n",
    ")"
   ],
   "metadata": {
    "collapsed": false,
    "ExecuteTime": {
     "end_time": "2023-10-15T10:57:31.700757900Z",
     "start_time": "2023-10-15T10:57:31.575305500Z"
    }
   },
   "id": "33cae0bfa6f2c94a"
  },
  {
   "cell_type": "code",
   "execution_count": 7,
   "outputs": [
    {
     "name": "stdout",
     "output_type": "stream",
     "text": [
      "\n",
      "\n",
      "\u001B[1m> Entering new GraphCypherQAChain chain...\u001B[0m\n",
      "Generated Cypher:\n",
      "\u001B[32;1m\u001B[1;3mMATCH (r:Recipie)-[:HAS_INGREDIENT]->(i:Ingredient)\n",
      "RETURN r.title, COUNT(i) AS ingredientCount\n",
      "ORDER BY ingredientCount DESC\n",
      "LIMIT 1\u001B[0m\n",
      "Full Context:\n",
      "\u001B[32;1m\u001B[1;3m[{'r.title': 'Enchiladas med kylling', 'ingredientCount': 99}]\u001B[0m\n",
      "\n",
      "\u001B[1m> Finished chain.\u001B[0m\n"
     ]
    },
    {
     "data": {
      "text/plain": "'The recipe with the most ingredients is \"Enchiladas med kylling\" with a total of 99 ingredients.'"
     },
     "execution_count": 7,
     "metadata": {},
     "output_type": "execute_result"
    }
   ],
   "source": [
    "chain.run(\"What recipe has the most ingredients?\")"
   ],
   "metadata": {
    "collapsed": false,
    "ExecuteTime": {
     "end_time": "2023-10-15T10:57:45.177886500Z",
     "start_time": "2023-10-15T10:57:33.719768100Z"
    }
   },
   "id": "83d9db403ccb9882"
  },
  {
   "cell_type": "code",
   "execution_count": 7,
   "outputs": [],
   "source": [
    "from langchain.prompts.prompt import PromptTemplate\n",
    "\n",
    "\n",
    "CYPHER_GENERATION_TEMPLATE = \"\"\"\n",
    "Task:Generate Cypher statement to query a graph database.\n",
    "Instructions:\n",
    "You are a recipe recommender system that help users to find weekly dinner menus that match their preferences. The user can ask you about single recipes or about weekly menus that match their preferences. \n",
    "Use only the provided relationship types and properties in the schema.\n",
    "All properties are in Norwegian.\n",
    "Do not use any other relationship types or properties that are not provided.\n",
    "Schema:\n",
    "{schema}\n",
    "Cypher examples:\n",
    "# What days are included in a Menu?\n",
    "MATCH (r:Recipie)-[f:IS_PART_OF_MENU]->(:menu)\n",
    "RETURN DISTINCT f.weekDay\n",
    "# How many recipes has been a part of a weekly menu on a Monday?\n",
    "MATCH (:Recipie)-[f:IS_PART_OF_MENU {{weekDay: 'Mandag'}}]->(:Menu)\n",
    "RETURN COUNT(f)\n",
    "# For giving menu recommendations, use KNN on the graphSAGE embeddings of the recipes.\n",
    "CALL gds.knn.stream('recipe-graph', {{\n",
    "    topK: 6,\n",
    "    nodeProperties: ['graphSAGE'],\n",
    "    // The following parameters are set to produce a deterministic result\n",
    "    randomSeed: 1337,\n",
    "    concurrency: 1,\n",
    "    sampleRate: 1.0,\n",
    "    deltaThreshold: 0.0\n",
    "}})\n",
    "YIELD node1, node2, similarity\n",
    "RETURN gds.util.asNode(node1).title AS Recipe1, gds.util.asNode(node2).title AS Recipe2, similarity\n",
    "ORDER BY similarity DESCENDING, Recipe1, Recipe2\n",
    "\n",
    "Note: Do not include any explanations or apologies in your responses.\n",
    "Do not respond to any questions that might ask anything else than for you to construct a Cypher statement.\n",
    "Do not include any text except the generated Cypher statement.\n",
    "\n",
    "The question is:\n",
    "{question}\"\"\"\n",
    "CYPHER_GENERATION_PROMPT = PromptTemplate(\n",
    "    input_variables=[\"schema\", \"question\"], template=CYPHER_GENERATION_TEMPLATE\n",
    ")"
   ],
   "metadata": {
    "collapsed": false,
    "ExecuteTime": {
     "end_time": "2023-10-16T16:03:30.135479700Z",
     "start_time": "2023-10-16T16:03:30.019509300Z"
    }
   },
   "id": "3fa3c6605309df1f"
  },
  {
   "cell_type": "code",
   "execution_count": 8,
   "outputs": [],
   "source": [
    "chain_language_example = GraphCypherQAChain.from_llm(\n",
    "    ChatOpenAI(temperature=0), graph=graph, verbose=True,\n",
    "    cypher_prompt=CYPHER_GENERATION_PROMPT\n",
    ")"
   ],
   "metadata": {
    "collapsed": false,
    "ExecuteTime": {
     "end_time": "2023-10-16T16:03:35.446434800Z",
     "start_time": "2023-10-16T16:03:34.861077900Z"
    }
   },
   "id": "68a964606afc9e7e"
  },
  {
   "cell_type": "code",
   "execution_count": 9,
   "outputs": [
    {
     "name": "stdout",
     "output_type": "stream",
     "text": [
      "\n",
      "\n",
      "\u001B[1m> Entering new GraphCypherQAChain chain...\u001B[0m\n",
      "Generated Cypher:\n",
      "\u001B[32;1m\u001B[1;3mMATCH (:Recipe)-[f:IS_PART_OF_MENU {weekDay: 'Mandag'}]->(:Menu)\n",
      "RETURN COUNT(f)\u001B[0m\n",
      "Full Context:\n",
      "\u001B[32;1m\u001B[1;3m[{'COUNT(f)': 141}]\u001B[0m\n",
      "\n",
      "\u001B[1m> Finished chain.\u001B[0m\n"
     ]
    },
    {
     "data": {
      "text/plain": "'There have been 141 recipes that have been a part of a weekly menu on a Monday.'"
     },
     "execution_count": 9,
     "metadata": {},
     "output_type": "execute_result"
    }
   ],
   "source": [
    "chain_language_example.run(\"\"\"\n",
    "How many recipes has been a part of a weekly menu on a Monday?\n",
    "\"\"\")"
   ],
   "metadata": {
    "collapsed": false,
    "ExecuteTime": {
     "end_time": "2023-10-16T16:03:51.889530900Z",
     "start_time": "2023-10-16T16:03:41.257142400Z"
    }
   },
   "id": "4d57d1f88044191e"
  },
  {
   "cell_type": "code",
   "execution_count": 14,
   "outputs": [
    {
     "name": "stdout",
     "output_type": "stream",
     "text": [
      "\n",
      "\n",
      "\u001B[1m> Entering new GraphCypherQAChain chain...\u001B[0m\n",
      "Generated Cypher:\n",
      "\u001B[32;1m\u001B[1;3mMATCH (r:Recipe)-[:HAS_INGREDIENT]->(i:Ingredient {title: 'lasagne'})\n",
      "MATCH (r)-[:IS_PART_OF_MENU]->(m:Menu)\n",
      "WITH m, COUNT(DISTINCT r) AS recipeCount\n",
      "WHERE recipeCount >= 3\n",
      "RETURN m.week, m.year\u001B[0m\n",
      "Full Context:\n",
      "\u001B[32;1m\u001B[1;3m[]\u001B[0m\n",
      "\n",
      "\u001B[1m> Finished chain.\u001B[0m\n"
     ]
    },
    {
     "data": {
      "text/plain": "\"I'm sorry, but I don't have any information to provide a menu recommendation with lasagne.\""
     },
     "execution_count": 14,
     "metadata": {},
     "output_type": "execute_result"
    }
   ],
   "source": [
    "chain_language_example.run(\"\"\"\n",
    "    Give me a menu recommendation with lasagne. \n",
    "\"\"\")"
   ],
   "metadata": {
    "collapsed": false,
    "ExecuteTime": {
     "end_time": "2023-10-16T16:15:37.348206900Z",
     "start_time": "2023-10-16T16:15:21.534824300Z"
    }
   },
   "id": "bd2f5bacf62472a8"
  },
  {
   "cell_type": "code",
   "execution_count": 13,
   "outputs": [
    {
     "name": "stdout",
     "output_type": "stream",
     "text": [
      "Based on the provided information, here is a menu recommendation using the KNN algorithm:\n",
      "\n",
      "1. Nakkekoteletter med middelhavsgrønnsaker (Pork neck chops with Mediterranean vegetables)\n",
      "2. Spicy tacosalat (Spicy taco salad)\n",
      "3. Kyllingtaco med granateple og mango (Chicken taco with pomegranate and mango)\n",
      "4. Red curry med ørret (Red curry with trout)\n",
      "5. Pasta med avokadokrem (Pasta with avocado cream)\n",
      "6. Tradisjonell fårikål (Traditional lamb and cabbage stew)\n",
      "7. Grønnsakslasagne med paprika og spinat (Vegetable lasagna with bell pepper and spinach)\n",
      "8. Kjøttfri juleburger (Meat-free Christmas burger)\n",
      "9. Kyllingfilet med ratatouille (Chicken fillet with ratatouille)\n",
      "10. Pasta med pesto og ricotta (Pasta with pesto and ricotta)\n",
      "\n",
      "Please note that the menu recommendation is based on the similarity scores calculated by the KNN algorithm. Enjoy your meal!\n"
     ]
    }
   ],
   "source": [
    "print('Based on the provided information, here is a menu recommendation using the KNN algorithm:\\n\\n1. Nakkekoteletter med middelhavsgrønnsaker (Pork neck chops with Mediterranean vegetables)\\n2. Spicy tacosalat (Spicy taco salad)\\n3. Kyllingtaco med granateple og mango (Chicken taco with pomegranate and mango)\\n4. Red curry med ørret (Red curry with trout)\\n5. Pasta med avokadokrem (Pasta with avocado cream)\\n6. Tradisjonell fårikål (Traditional lamb and cabbage stew)\\n7. Grønnsakslasagne med paprika og spinat (Vegetable lasagna with bell pepper and spinach)\\n8. Kjøttfri juleburger (Meat-free Christmas burger)\\n9. Kyllingfilet med ratatouille (Chicken fillet with ratatouille)\\n10. Pasta med pesto og ricotta (Pasta with pesto and ricotta)\\n\\nPlease note that the menu recommendation is based on the similarity scores calculated by the KNN algorithm. Enjoy your meal!')"
   ],
   "metadata": {
    "collapsed": false,
    "ExecuteTime": {
     "end_time": "2023-10-16T16:08:45.106543200Z",
     "start_time": "2023-10-16T16:08:45.074947300Z"
    }
   },
   "id": "8279d4f9a7cf5ad0"
  },
  {
   "cell_type": "markdown",
   "source": [
    "## Project the graph to a homogeneous Recipe graph"
   ],
   "metadata": {
    "collapsed": false
   },
   "id": "852f5938e84a4f58"
  },
  {
   "cell_type": "code",
   "execution_count": 25,
   "outputs": [
    {
     "name": "stderr",
     "output_type": "stream",
     "text": [
      "WARNING: Ignoring invalid distribution -illow (c:\\users\\eirik\\projects\\scripts\\lib\\site-packages)\n",
      "WARNING: Ignoring invalid distribution -illow (c:\\users\\eirik\\projects\\scripts\\lib\\site-packages)\n"
     ]
    },
    {
     "name": "stdout",
     "output_type": "stream",
     "text": [
      "Requirement already satisfied: graphdatascience in c:\\users\\eirik\\projects\\scripts\\lib\\site-packages (1.8)\n",
      "Requirement already satisfied: multimethod<2.0,>=1.0 in c:\\users\\eirik\\projects\\scripts\\lib\\site-packages (from graphdatascience) (1.10)\n",
      "Requirement already satisfied: neo4j<6.0,>=4.4.2 in c:\\users\\eirik\\projects\\scripts\\lib\\site-packages (from graphdatascience) (5.13.0)\n",
      "Requirement already satisfied: pandas<3.0,>=1.0 in c:\\users\\eirik\\projects\\scripts\\lib\\site-packages (from graphdatascience) (2.1.1)\n",
      "Requirement already satisfied: pyarrow<14.0,>=4.0 in c:\\users\\eirik\\projects\\scripts\\lib\\site-packages (from graphdatascience) (13.0.0)\n",
      "Requirement already satisfied: textdistance<5.0,>=4.0 in c:\\users\\eirik\\projects\\scripts\\lib\\site-packages (from graphdatascience) (4.6.0)\n",
      "Requirement already satisfied: tqdm<5.0,>=4.0 in c:\\users\\eirik\\projects\\scripts\\lib\\site-packages (from graphdatascience) (4.66.1)\n",
      "Requirement already satisfied: typing-extensions<5.0,>=4.0 in c:\\users\\eirik\\projects\\scripts\\lib\\site-packages (from graphdatascience) (4.8.0)\n",
      "Requirement already satisfied: pytz in c:\\users\\eirik\\projects\\scripts\\lib\\site-packages (from neo4j<6.0,>=4.4.2->graphdatascience) (2023.3.post1)\n",
      "Requirement already satisfied: numpy>=1.22.4 in c:\\users\\eirik\\projects\\scripts\\lib\\site-packages (from pandas<3.0,>=1.0->graphdatascience) (1.26.0)\n",
      "Requirement already satisfied: python-dateutil>=2.8.2 in c:\\users\\eirik\\projects\\scripts\\lib\\site-packages (from pandas<3.0,>=1.0->graphdatascience) (2.8.2)\n",
      "Requirement already satisfied: tzdata>=2022.1 in c:\\users\\eirik\\projects\\scripts\\lib\\site-packages (from pandas<3.0,>=1.0->graphdatascience) (2023.3)\n",
      "Requirement already satisfied: colorama in c:\\users\\eirik\\projects\\scripts\\lib\\site-packages (from tqdm<5.0,>=4.0->graphdatascience) (0.4.6)\n",
      "Requirement already satisfied: six>=1.5 in c:\\users\\eirik\\projects\\scripts\\lib\\site-packages (from python-dateutil>=2.8.2->pandas<3.0,>=1.0->graphdatascience) (1.16.0)\n"
     ]
    }
   ],
   "source": [
    "!pip install -q graphdatascience"
   ],
   "metadata": {
    "collapsed": false,
    "ExecuteTime": {
     "end_time": "2023-10-15T13:00:25.640922600Z",
     "start_time": "2023-10-15T13:00:16.326294300Z"
    }
   },
   "id": "7b6e4635c28e86b3"
  },
  {
   "cell_type": "code",
   "execution_count": 3,
   "outputs": [],
   "source": [
    "from graphdatascience import GraphDataScience\n",
    "\n",
    "host = \"bolt://localhost:7687\"\n",
    "user = \"neo4j\"\n",
    "password = \"pleaseletmein\"\n",
    "\n",
    "gds = GraphDataScience(host, auth=(user, password))"
   ],
   "metadata": {
    "collapsed": false,
    "ExecuteTime": {
     "end_time": "2023-10-16T13:08:58.061264300Z",
     "start_time": "2023-10-16T13:08:56.875066600Z"
    }
   },
   "id": "4f6daebebc2a5266"
  },
  {
   "cell_type": "code",
   "execution_count": 63,
   "outputs": [
    {
     "data": {
      "text/plain": "Loading:   0%|          | 0/100 [00:00<?, ?%/s]",
      "application/vnd.jupyter.widget-view+json": {
       "version_major": 2,
       "version_minor": 0,
       "model_id": "2072285cdb884e8d83c194e5151fa582"
      }
     },
     "metadata": {},
     "output_type": "display_data"
    }
   ],
   "source": [
    "G, metadata = gds.graph.project(\n",
    "    \"recipes\", \"Recipe\", [\"IS_IN_SAME_MENU\", \"SHARE_INGREDIENTS\"], nodeProperties=[\"openaiEmbeddings\"]\n",
    ")"
   ],
   "metadata": {
    "collapsed": false,
    "ExecuteTime": {
     "end_time": "2023-10-15T14:03:01.269614500Z",
     "start_time": "2023-10-15T14:03:00.002600Z"
    }
   },
   "id": "ca0a91f09600c80"
  },
  {
   "cell_type": "code",
   "execution_count": 64,
   "outputs": [
    {
     "data": {
      "text/plain": "nodeProjection            {'Recipe': {'label': 'Recipe', 'properties': {...\nrelationshipProjection    {'SHARE_INGREDIENTS': {'aggregation': 'DEFAULT...\ngraphName                                                           recipes\nnodeCount                                                               721\nrelationshipCount                                                    292242\nprojectMillis                                                          1186\nName: 0, dtype: object"
     },
     "execution_count": 64,
     "metadata": {},
     "output_type": "execute_result"
    }
   ],
   "source": [
    "metadata"
   ],
   "metadata": {
    "collapsed": false,
    "ExecuteTime": {
     "end_time": "2023-10-15T14:03:03.483037700Z",
     "start_time": "2023-10-15T14:03:03.451660500Z"
    }
   },
   "id": "2281e80b4a18811f"
  },
  {
   "cell_type": "code",
   "execution_count": 47,
   "outputs": [
    {
     "data": {
      "text/plain": "graphName                                                          recipes\ndatabase                                                             neo4j\nmemoryUsage                                                               \nsizeInBytes                                                             -1\nnodeCount                                                             2649\nrelationshipCount                                                     8872\nconfiguration            {'relationshipProjection': {'HAS_INGREDIENT': ...\ndensity                                                           0.001265\ncreationTime                           2023-10-15T13:39:59.548608000+00:00\nmodificationTime                       2023-10-15T13:40:05.791276900+00:00\nschema                   {'graphProperties': {}, 'nodes': {'Menu': {}, ...\nschemaWithOrientation    {'graphProperties': {}, 'nodes': {'Menu': {}, ...\nName: 0, dtype: object"
     },
     "execution_count": 47,
     "metadata": {},
     "output_type": "execute_result"
    }
   ],
   "source": [
    "gds.graph.drop(G)"
   ],
   "metadata": {
    "collapsed": false,
    "ExecuteTime": {
     "end_time": "2023-10-15T13:40:34.224299100Z",
     "start_time": "2023-10-15T13:40:34.146182300Z"
    }
   },
   "id": "2c67716e0591ba5"
  },
  {
   "cell_type": "code",
   "execution_count": 65,
   "outputs": [
    {
     "data": {
      "text/plain": "NodeSimilarity:   0%|          | 0/100 [00:00<?, ?%/s]",
      "application/vnd.jupyter.widget-view+json": {
       "version_major": 2,
       "version_minor": 0,
       "model_id": "3f7a073ea6fd4c8fb27a1020ffecca38"
      }
     },
     "metadata": {},
     "output_type": "display_data"
    },
    {
     "data": {
      "text/plain": "preProcessingMillis                                                       0\ncomputeMillis                                                           843\nmutateMillis                                                           1154\npostProcessingMillis                                                     -1\nnodesCompared                                                           721\nrelationshipsWritten                                                 516782\nsimilarityDistribution    {'min': 0.0019685029983520508, 'p5': 0.0259259...\nconfiguration             {'mutateProperty': 'score', 'jobId': '04cee4a6...\nName: 0, dtype: object"
     },
     "execution_count": 65,
     "metadata": {},
     "output_type": "execute_result"
    }
   ],
   "source": [
    "gds.nodeSimilarity.mutate(\n",
    "    G, topK=2000, mutateProperty=\"score\", mutateRelationshipType=\"IS_SIMILAR\"\n",
    ")"
   ],
   "metadata": {
    "collapsed": false,
    "ExecuteTime": {
     "end_time": "2023-10-15T14:03:15.021811Z",
     "start_time": "2023-10-15T14:03:12.844148400Z"
    }
   },
   "id": "c5780899c3292fe8"
  },
  {
   "cell_type": "code",
   "execution_count": 66,
   "outputs": [
    {
     "name": "stdout",
     "output_type": "stream",
     "text": [
      "computeMillis     84\n",
      "componentCount     1\n",
      "Name: 0, dtype: object\n"
     ]
    }
   ],
   "source": [
    "# We use the WCC algorithm to see how many components we have\n",
    "wcc_result = gds.wcc.mutate(G, mutateProperty=\"wcc_component\")\n",
    "\n",
    "print(wcc_result[[\"computeMillis\", \"componentCount\"]])"
   ],
   "metadata": {
    "collapsed": false,
    "ExecuteTime": {
     "end_time": "2023-10-15T14:03:21.077598500Z",
     "start_time": "2023-10-15T14:03:20.872700300Z"
    }
   },
   "id": "4182deef199e6ec2"
  },
  {
   "cell_type": "markdown",
   "source": [
    "## GraphSAGE on projected Recipe graph\n",
    "We can project the graph to a homogeneous Recipe graph and run GraphSAGE on it to get embeddings. \n",
    "To achieve this we can use the meta-paths IN_SAME_MENU and SHARE_RECIPES."
   ],
   "metadata": {
    "collapsed": false
   },
   "id": "7fcc8a024be0d228"
  },
  {
   "cell_type": "code",
   "execution_count": 67,
   "outputs": [
    {
     "data": {
      "text/plain": "GraphSageTrain:   0%|          | 0/100 [00:00<?, ?%/s]",
      "application/vnd.jupyter.widget-view+json": {
       "version_major": 2,
       "version_minor": 0,
       "model_id": "93e695953b3a4efc928051e78153d356"
      }
     },
     "metadata": {},
     "output_type": "display_data"
    },
    {
     "name": "stdout",
     "output_type": "stream",
     "text": [
      "CPU times: total: 11.2 s\n",
      "Wall time: 3min 27s\n"
     ]
    },
    {
     "data": {
      "text/plain": "(GraphSageModel({'modelInfo': {0: {'modelName': 'RecipeModel', 'modelType': 'graphSage', 'metrics': {'didConverge': False, 'ranIterationsPerEpoch': [10, 10, 10, 10, 10, 10, 10, 10, 10, 10, 10, 10, 10, 10, 10, 10, 10, 10, 10, 10], 'iterationLossesPerEpoch': [[26.56099679621341, 26.554933417058617, 26.54626162283551, 26.540211814659337, 26.52392837100735, 26.508419674260267, 26.490737726871327, 26.453854335717985, 26.416578565689413, 26.36893115624394], [26.340361609196645, 26.300589833324956, 26.1924555850667, 26.00708860974105, 25.83041175455737, 25.621888528981867, 25.282709144224196, 24.9013981902724, 24.20320533679919, 23.868979443766342], [22.963648428302648, 25.61097010799164, 25.741427164388437, 25.749780056608973, 25.663545700693277, 25.460840731181158, 25.02845502843713, 24.53278213352048, 23.56662029547729, 22.32015684418157], [21.92539280055446, 25.360212042697718, 25.74368368755441, 25.920671737539912, 25.99183599593142, 25.973142647938182, 25.979541415857945, 26.013143506924518, 25.960465246049893, 25.856042543676022], [25.698534036131758, 24.93026717224512, 24.40232635253077, 23.03004500006008, 22.703189341936906, 21.103771825638812, 20.818030302895774, 19.552867742439286, 20.346346293357108, 20.38426311706777], [20.300342971147728, 24.367930101190993, 24.602100071018974, 24.761240502632994, 24.730593081014696, 24.46498851473644, 24.250299648943603, 23.644694142113924, 22.786885849824657, 22.098399930209524], [21.03528216711369, 24.972053839032572, 24.832812101844706, 24.434044217124235, 24.07900041609819, 23.297605276036194, 21.803537148181512, 20.744857005916423, 20.373180994507337, 19.580684262834847], [19.494329811916945, 24.433048785788152, 24.892336007452464, 25.110022875482727, 25.24510689121563, 25.121674281034775, 25.001369151917963, 24.86539864343657, 24.291977742528445, 23.626038393020732], [23.15483322551042, 25.0183755693812, 24.971003659240946, 24.492790145646783, 23.22731847058098, 22.24265610015634, 21.075993163118476, 20.248507097377402, 19.83585943749441, 20.49634768523438], [19.955748817330477, 24.157013288755223, 24.806050784463658, 24.781457206049406, 24.762180566933953, 24.751790459110588, 24.55578940924508, 23.979048847297133, 23.579748306572984, 22.95863785281447], [21.914649112812448, 24.934197094294284, 24.724963894566994, 24.089489570792992, 22.74756945720349, 21.66450346886952, 20.821253156919383, 20.021745639254284, 19.95737631123405, 19.329393296463884], [20.036849608060628, 25.104685726593708, 25.3305454387179, 25.52359818907376, 25.533889150925155, 25.54136268289334, 25.45505318871731, 25.42445468864891, 25.175947253656602, 24.857535391627053], [24.709107965378454, 24.485956003770738, 23.224008560883895, 23.06240471448814, 21.999532449254446, 20.927676436566948, 20.054176798155954, 19.765244001794752, 19.048479741931512, 19.01576541946281], [18.628029011906158, 24.67207186746453, 24.954096081071707, 24.956890931515296, 25.107020785028908, 25.185570495284644, 25.09660877675141, 24.985351009356304, 24.568413329931158, 24.176401025435332], [23.453705215902392, 24.71518717843278, 23.335432302997628, 22.434415063800493, 22.10691066983053, 20.9315989115327, 20.122323637520317, 19.46311703628377, 19.42394886943005, 19.26427695430169], [18.549636346148, 24.58237754167299, 24.852153396066893, 24.964477207072093, 24.8207327629009, 24.50773101580871, 23.95568887367048, 23.32208080803077, 22.48407267166141, 21.495087503694368], [21.03404043499142, 24.89096118732848, 25.286470372811507, 25.085375462777126, 24.98709098474427, 24.752381320636747, 24.109877467785026, 22.94179348206182, 21.546611735944843, 20.017601706440526], [20.003830020615506, 24.61652235123666, 24.897479610844787, 25.05274452690418, 24.91727085606501, 24.92571798204583, 24.62739553955357, 23.867611621128763, 23.11080842398409, 22.16641376171242], [21.113988379111095, 25.050075495768553, 25.071660054033913, 24.757365241110914, 24.314173879657485, 23.776734570532078, 22.949173091910673, 21.924751788576202, 20.25298916005472, 19.24522869899053], [19.506333716935888, 24.44733114216873, 24.76399461803448, 25.118179140659414, 24.91796214460292, 24.89983599710551, 24.651647435508664, 24.469582631642908, 24.067181059712592, 23.271733695057844]], 'ranEpochs': 20, 'epochLosses': [26.36893115624394, 23.868979443766342, 22.32015684418157, 25.856042543676022, 20.38426311706777, 22.098399930209524, 19.580684262834847, 23.626038393020732, 20.49634768523438, 22.95863785281447, 19.329393296463884, 24.857535391627053, 19.01576541946281, 24.176401025435332, 19.26427695430169, 21.495087503694368, 20.017601706440526, 22.16641376171242, 19.24522869899053, 23.271733695057844]}}}, 'trainConfig': {0: {'aggregator': 'MEAN', 'jobId': 'ec81dbea-c6a0-433a-90bc-3798daa09196', 'epochs': 20, 'negativeSampleWeight': 20, 'searchDepth': 15, 'penaltyL2': 0.0, 'learningRate': 0.0001, 'batchSize': 10, 'sudo': False, 'maxIterations': 10, 'sampleSizes': [10, 10], 'storeModelToDisk': False, 'modelName': 'RecipeModel', 'featureProperties': ['openaiEmbeddings'], 'activationFunction': 'RELU', 'logProgress': True, 'nodeLabels': ['*'], 'concurrency': 4, 'relationshipTypes': ['*'], 'tolerance': 0.0001, 'embeddingDimension': 256}}, 'graphSchema': {0: {'graphProperties': {}, 'nodes': {'Recipe': {'openaiEmbeddings': 'List of Float (DefaultValue(null), PERSISTENT)', 'wcc_component': 'Integer (DefaultValue(-9223372036854775808), TRANSIENT)'}}, 'relationships': {'SHARE_INGREDIENTS': {}, 'IS_IN_SAME_MENU': {}, 'IS_SIMILAR': {'score': 'Float (DefaultValue(NaN), TRANSIENT, Aggregation.NONE)'}}}}, 'loaded': {0: True}, 'stored': {0: False}, 'creationTime': {0: neo4j.time.DateTime(2023, 10, 15, 14, 6, 55, 470737800, tzinfo=<StaticTzInfo 'Etc/UTC'>)}, 'shared': {0: False}}),\n modelInfo        {'modelName': 'RecipeModel', 'modelType': 'gra...\n configuration    {'aggregator': 'MEAN', 'jobId': 'ec81dbea-c6a0...\n trainMillis                                                 206964\n Name: 0, dtype: object)"
     },
     "execution_count": 67,
     "metadata": {},
     "output_type": "execute_result"
    }
   ],
   "source": [
    "%%time\n",
    "gds.beta.graphSage.train(\n",
    "    G,\n",
    "    modelName=\"RecipeModel\",\n",
    "    embeddingDimension=256,\n",
    "    sampleSizes=[10, 10],\n",
    "    searchDepth=15,\n",
    "    epochs=20,\n",
    "    learningRate=0.0001,\n",
    "    activationFunction=\"RELU\",\n",
    "    aggregator=\"MEAN\",\n",
    "    featureProperties=[\"openaiEmbeddings\"],\n",
    "    batchSize=10,\n",
    ")"
   ],
   "metadata": {
    "collapsed": false,
    "ExecuteTime": {
     "end_time": "2023-10-15T14:06:55.832584100Z",
     "start_time": "2023-10-15T14:03:28.316827900Z"
    }
   },
   "id": "8d13a3f5d37cf1d8"
  },
  {
   "cell_type": "code",
   "execution_count": 69,
   "outputs": [
    {
     "data": {
      "text/plain": "GraphSage:   0%|          | 0/100 [00:00<?, ?%/s]",
      "application/vnd.jupyter.widget-view+json": {
       "version_major": 2,
       "version_minor": 0,
       "model_id": "3b827f8c7fd84d6db7c6cde059bde0fa"
      }
     },
     "metadata": {},
     "output_type": "display_data"
    },
    {
     "data": {
      "text/plain": "nodeCount                                                              721\nnodePropertiesWritten                                                  721\npreProcessingMillis                                                      2\ncomputeMillis                                                         1978\nwriteMillis                                                           1055\nconfiguration            {'writeProperty': 'graphSAGE', 'modelName': 'R...\nName: 0, dtype: object"
     },
     "execution_count": 69,
     "metadata": {},
     "output_type": "execute_result"
    }
   ],
   "source": [
    "gds.beta.graphSage.write(\n",
    "    G,\n",
    "    modelName=\"RecipeModel\",\n",
    "    nodeLabels=[\"Recipe\"],\n",
    "    writeProperty=\"graphSAGE\",\n",
    "    relationshipTypes=[\"IS_SIMILAR\"],\n",
    ")"
   ],
   "metadata": {
    "collapsed": false,
    "ExecuteTime": {
     "end_time": "2023-10-15T14:08:02.124640700Z",
     "start_time": "2023-10-15T14:07:58.973179500Z"
    }
   },
   "id": "5f0d90a6a9581a43"
  },
  {
   "cell_type": "code",
   "execution_count": 70,
   "outputs": [
    {
     "data": {
      "text/plain": "graphName                                                          recipes\ndatabase                                                             neo4j\nmemoryUsage                                                               \nsizeInBytes                                                             -1\nnodeCount                                                              721\nrelationshipCount                                                   809024\nconfiguration                                                           {}\ndensity                                                           1.558453\ncreationTime                           2023-10-15T14:03:00.025549500+00:00\nmodificationTime                       2023-10-15T14:03:20.989098300+00:00\nschema                   {'graphProperties': {}, 'nodes': {'Recipe': {'...\nschemaWithOrientation    {'graphProperties': {}, 'nodes': {'Recipe': {'...\nName: 0, dtype: object"
     },
     "execution_count": 70,
     "metadata": {},
     "output_type": "execute_result"
    }
   ],
   "source": [
    "G.drop()"
   ],
   "metadata": {
    "collapsed": false,
    "ExecuteTime": {
     "end_time": "2023-10-15T14:08:44.638039900Z",
     "start_time": "2023-10-15T14:08:43.823454900Z"
    }
   },
   "id": "c2cdafa707350f5d"
  },
  {
   "cell_type": "markdown",
   "source": [
    "## KNN"
   ],
   "metadata": {
    "collapsed": false
   },
   "id": "458f138c106bfa52"
  },
  {
   "cell_type": "code",
   "execution_count": 9,
   "outputs": [
    {
     "data": {
      "text/plain": "Loading:   0%|          | 0/100 [00:00<?, ?%/s]",
      "application/vnd.jupyter.widget-view+json": {
       "version_major": 2,
       "version_minor": 0,
       "model_id": "45a364c388ae4466b820be8f9eae2e14"
      }
     },
     "metadata": {},
     "output_type": "display_data"
    },
    {
     "data": {
      "text/plain": "nodeProjection            {'Recipe': {'label': 'Recipe', 'properties': {...\nrelationshipProjection    {'__ALL__': {'aggregation': 'DEFAULT', 'orient...\ngraphName                                                    cf-projection2\nnodeCount                                                               721\nrelationshipCount                                                    292242\nprojectMillis                                                          1055\nName: 0, dtype: object"
     },
     "execution_count": 9,
     "metadata": {},
     "output_type": "execute_result"
    }
   ],
   "source": [
    "g1, res = gds.graph.project('cf-projection2', \n",
    "        {'Recipe':{'properties':['graphSAGE']}},['*'])\n",
    "res"
   ],
   "metadata": {
    "collapsed": false,
    "ExecuteTime": {
     "end_time": "2023-10-16T13:10:18.260758200Z",
     "start_time": "2023-10-16T13:10:16.779542600Z"
    }
   },
   "id": "75902072fb254e40"
  },
  {
   "cell_type": "code",
   "execution_count": 10,
   "outputs": [
    {
     "data": {
      "text/plain": "      node1  node2  similarity\n0         0      1    0.934446\n1         0     86    0.933699\n2         0    168    0.931350\n3         0    356    0.930229\n4         0     41    0.929180\n...     ...    ...         ...\n7205    720    572    0.931083\n7206    720    211    0.930957\n7207    720    324    0.930563\n7208    720    638    0.930088\n7209    720     37    0.929301\n\n[7210 rows x 3 columns]",
      "text/html": "<div>\n<style scoped>\n    .dataframe tbody tr th:only-of-type {\n        vertical-align: middle;\n    }\n\n    .dataframe tbody tr th {\n        vertical-align: top;\n    }\n\n    .dataframe thead th {\n        text-align: right;\n    }\n</style>\n<table border=\"1\" class=\"dataframe\">\n  <thead>\n    <tr style=\"text-align: right;\">\n      <th></th>\n      <th>node1</th>\n      <th>node2</th>\n      <th>similarity</th>\n    </tr>\n  </thead>\n  <tbody>\n    <tr>\n      <th>0</th>\n      <td>0</td>\n      <td>1</td>\n      <td>0.934446</td>\n    </tr>\n    <tr>\n      <th>1</th>\n      <td>0</td>\n      <td>86</td>\n      <td>0.933699</td>\n    </tr>\n    <tr>\n      <th>2</th>\n      <td>0</td>\n      <td>168</td>\n      <td>0.931350</td>\n    </tr>\n    <tr>\n      <th>3</th>\n      <td>0</td>\n      <td>356</td>\n      <td>0.930229</td>\n    </tr>\n    <tr>\n      <th>4</th>\n      <td>0</td>\n      <td>41</td>\n      <td>0.929180</td>\n    </tr>\n    <tr>\n      <th>...</th>\n      <td>...</td>\n      <td>...</td>\n      <td>...</td>\n    </tr>\n    <tr>\n      <th>7205</th>\n      <td>720</td>\n      <td>572</td>\n      <td>0.931083</td>\n    </tr>\n    <tr>\n      <th>7206</th>\n      <td>720</td>\n      <td>211</td>\n      <td>0.930957</td>\n    </tr>\n    <tr>\n      <th>7207</th>\n      <td>720</td>\n      <td>324</td>\n      <td>0.930563</td>\n    </tr>\n    <tr>\n      <th>7208</th>\n      <td>720</td>\n      <td>638</td>\n      <td>0.930088</td>\n    </tr>\n    <tr>\n      <th>7209</th>\n      <td>720</td>\n      <td>37</td>\n      <td>0.929301</td>\n    </tr>\n  </tbody>\n</table>\n<p>7210 rows × 3 columns</p>\n</div>"
     },
     "execution_count": 10,
     "metadata": {},
     "output_type": "execute_result"
    }
   ],
   "source": [
    "knn_stats_df = gds.knn.stream(g1, nodeProperties=['graphSAGE'],\n",
    "    topK=10,\n",
    "    sampleRate=1.0,\n",
    "    maxIterations=1000)\n",
    "knn_stats_df"
   ],
   "metadata": {
    "collapsed": false,
    "ExecuteTime": {
     "end_time": "2023-10-16T13:10:23.033965900Z",
     "start_time": "2023-10-16T13:10:21.443564800Z"
    }
   },
   "id": "8dedab988a7cdfe"
  },
  {
   "cell_type": "code",
   "execution_count": 11,
   "outputs": [
    {
     "data": {
      "text/plain": "             node1        node2   similarity\ncount  7210.000000  7210.000000  7210.000000\nmean    360.000000   359.841748     0.925266\nstd     208.149007   205.665672     0.009627\nmin       0.000000     0.000000     0.893044\n25%     180.000000   184.000000     0.918933\n50%     360.000000   357.000000     0.925167\n75%     540.000000   534.000000     0.931617\nmax     720.000000   720.000000     0.959084",
      "text/html": "<div>\n<style scoped>\n    .dataframe tbody tr th:only-of-type {\n        vertical-align: middle;\n    }\n\n    .dataframe tbody tr th {\n        vertical-align: top;\n    }\n\n    .dataframe thead th {\n        text-align: right;\n    }\n</style>\n<table border=\"1\" class=\"dataframe\">\n  <thead>\n    <tr style=\"text-align: right;\">\n      <th></th>\n      <th>node1</th>\n      <th>node2</th>\n      <th>similarity</th>\n    </tr>\n  </thead>\n  <tbody>\n    <tr>\n      <th>count</th>\n      <td>7210.000000</td>\n      <td>7210.000000</td>\n      <td>7210.000000</td>\n    </tr>\n    <tr>\n      <th>mean</th>\n      <td>360.000000</td>\n      <td>359.841748</td>\n      <td>0.925266</td>\n    </tr>\n    <tr>\n      <th>std</th>\n      <td>208.149007</td>\n      <td>205.665672</td>\n      <td>0.009627</td>\n    </tr>\n    <tr>\n      <th>min</th>\n      <td>0.000000</td>\n      <td>0.000000</td>\n      <td>0.893044</td>\n    </tr>\n    <tr>\n      <th>25%</th>\n      <td>180.000000</td>\n      <td>184.000000</td>\n      <td>0.918933</td>\n    </tr>\n    <tr>\n      <th>50%</th>\n      <td>360.000000</td>\n      <td>357.000000</td>\n      <td>0.925167</td>\n    </tr>\n    <tr>\n      <th>75%</th>\n      <td>540.000000</td>\n      <td>534.000000</td>\n      <td>0.931617</td>\n    </tr>\n    <tr>\n      <th>max</th>\n      <td>720.000000</td>\n      <td>720.000000</td>\n      <td>0.959084</td>\n    </tr>\n  </tbody>\n</table>\n</div>"
     },
     "execution_count": 11,
     "metadata": {},
     "output_type": "execute_result"
    }
   ],
   "source": [
    "knn_stats_df.describe()"
   ],
   "metadata": {
    "collapsed": false,
    "ExecuteTime": {
     "end_time": "2023-10-16T13:10:26.702189600Z",
     "start_time": "2023-10-16T13:10:26.633156200Z"
    }
   },
   "id": "c150f19e5149ebe0"
  },
  {
   "cell_type": "code",
   "execution_count": 12,
   "outputs": [
    {
     "data": {
      "text/plain": "          r.title                                  r1.title\n0  Pizza di Parma                      Stroganoff med pølse\n1  Pizza di Parma  Kremet fiskesuppe med blåskjell og reker\n2  Pizza di Parma                Ovnsbakt middelhavskylling\n3  Pizza di Parma                      Tradisjonell fårikål\n4  Pizza di Parma           Vegetarpølser med godt tilbehør\n5  Pizza di Parma                         Innbakt nøttestek\n6  Pizza di Parma                Nakkekoteletter med rødkål\n7  Pizza di Parma                  Enchiladas med kjøttdeig\n8  Pizza di Parma     Helstekt svinefilet med grønnsaksform\n9  Pizza di Parma                                   Bacalao",
      "text/html": "<div>\n<style scoped>\n    .dataframe tbody tr th:only-of-type {\n        vertical-align: middle;\n    }\n\n    .dataframe tbody tr th {\n        vertical-align: top;\n    }\n\n    .dataframe thead th {\n        text-align: right;\n    }\n</style>\n<table border=\"1\" class=\"dataframe\">\n  <thead>\n    <tr style=\"text-align: right;\">\n      <th></th>\n      <th>r.title</th>\n      <th>r1.title</th>\n    </tr>\n  </thead>\n  <tbody>\n    <tr>\n      <th>0</th>\n      <td>Pizza di Parma</td>\n      <td>Stroganoff med pølse</td>\n    </tr>\n    <tr>\n      <th>1</th>\n      <td>Pizza di Parma</td>\n      <td>Kremet fiskesuppe med blåskjell og reker</td>\n    </tr>\n    <tr>\n      <th>2</th>\n      <td>Pizza di Parma</td>\n      <td>Ovnsbakt middelhavskylling</td>\n    </tr>\n    <tr>\n      <th>3</th>\n      <td>Pizza di Parma</td>\n      <td>Tradisjonell fårikål</td>\n    </tr>\n    <tr>\n      <th>4</th>\n      <td>Pizza di Parma</td>\n      <td>Vegetarpølser med godt tilbehør</td>\n    </tr>\n    <tr>\n      <th>5</th>\n      <td>Pizza di Parma</td>\n      <td>Innbakt nøttestek</td>\n    </tr>\n    <tr>\n      <th>6</th>\n      <td>Pizza di Parma</td>\n      <td>Nakkekoteletter med rødkål</td>\n    </tr>\n    <tr>\n      <th>7</th>\n      <td>Pizza di Parma</td>\n      <td>Enchiladas med kjøttdeig</td>\n    </tr>\n    <tr>\n      <th>8</th>\n      <td>Pizza di Parma</td>\n      <td>Helstekt svinefilet med grønnsaksform</td>\n    </tr>\n    <tr>\n      <th>9</th>\n      <td>Pizza di Parma</td>\n      <td>Bacalao</td>\n    </tr>\n  </tbody>\n</table>\n</div>"
     },
     "execution_count": 12,
     "metadata": {},
     "output_type": "execute_result"
    }
   ],
   "source": [
    "target_node = 38 # 19 # Lasagne \n",
    "k_closest = knn_stats_df[knn_stats_df[\"node1\"] == target_node][\"node2\"].values\n",
    "\n",
    "closest = gds.run_cypher(\"\"\"\n",
    "    MATCH (r:Recipe) \n",
    "    WHERE id(r) = $target_id\n",
    "    with r\n",
    "    MATCH (r1:Recipe) \n",
    "    WHERE id(r1) in $ids\n",
    "    RETURN r.title, r1.title\n",
    "\"\"\", params={\"target_id\": target_node, \"ids\": k_closest})\n",
    "closest"
   ],
   "metadata": {
    "collapsed": false,
    "ExecuteTime": {
     "end_time": "2023-10-16T13:11:00.122968400Z",
     "start_time": "2023-10-16T13:11:00.038306400Z"
    }
   },
   "id": "a1d181b6923547a7"
  },
  {
   "cell_type": "code",
   "execution_count": 35,
   "outputs": [
    {
     "data": {
      "text/plain": "r.title     10\nr1.title    10\ndtype: int64"
     },
     "execution_count": 35,
     "metadata": {},
     "output_type": "execute_result"
    }
   ],
   "source": [],
   "metadata": {
    "collapsed": false,
    "ExecuteTime": {
     "end_time": "2023-10-16T09:05:13.960568900Z",
     "start_time": "2023-10-16T09:05:13.912582600Z"
    }
   },
   "id": "4076dbb69a61133b"
  }
 ],
 "metadata": {
  "kernelspec": {
   "display_name": "Python 3",
   "language": "python",
   "name": "python3"
  },
  "language_info": {
   "codemirror_mode": {
    "name": "ipython",
    "version": 2
   },
   "file_extension": ".py",
   "mimetype": "text/x-python",
   "name": "python",
   "nbconvert_exporter": "python",
   "pygments_lexer": "ipython2",
   "version": "2.7.6"
  }
 },
 "nbformat": 4,
 "nbformat_minor": 5
}
