{
 "cells": [
  {
   "cell_type": "code",
   "execution_count": 1,
   "id": "initial_id",
   "metadata": {
    "collapsed": true,
    "ExecuteTime": {
     "end_time": "2023-10-22T19:31:29.918975100Z",
     "start_time": "2023-10-22T19:31:29.825212600Z"
    }
   },
   "outputs": [],
   "source": [
    "# Install necessary dependencies (takes a long time)\n",
    "!pip install torch torch_scatter torch_sparse torch_geometric graphdatascience"
   ]
  },
  {
   "cell_type": "code",
   "execution_count": 2,
   "outputs": [
    {
     "name": "stderr",
     "output_type": "stream",
     "text": [
      "C:\\Users\\Eirik\\Projects\\scripts\\lib\\site-packages\\torch_geometric\\typing.py:63: UserWarning: An issue occurred while importing 'torch-scatter'. Disabling its usage. Stacktrace: [WinError 127] Den angitte prosedyren ble ikke funnet\n",
      "  warnings.warn(f\"An issue occurred while importing 'torch-scatter'. \"\n",
      "C:\\Users\\Eirik\\Projects\\scripts\\lib\\site-packages\\torch_geometric\\typing.py:101: UserWarning: An issue occurred while importing 'torch-sparse'. Disabling its usage. Stacktrace: [WinError 127] Den angitte prosedyren ble ikke funnet\n",
      "  warnings.warn(f\"An issue occurred while importing 'torch-sparse'. \"\n"
     ]
    }
   ],
   "source": [
    "import os\n",
    "import pandas as pd\n",
    "from graphdatascience import GraphDataScience\n",
    "import torch\n",
    "from torch_geometric.data import Data\n",
    "import torch.nn.functional as F\n",
    "from torch_geometric.nn import GCNConv, RGCNConv\n",
    "from torch_geometric.transforms import RandomNodeSplit\n",
    "import random\n",
    "import numpy as np\n",
    "from sklearn.preprocessing import MultiLabelBinarizer\n"
   ],
   "metadata": {
    "collapsed": false,
    "ExecuteTime": {
     "end_time": "2023-10-22T19:31:43.986677400Z",
     "start_time": "2023-10-22T19:31:29.840851700Z"
    }
   },
   "id": "7433ca089de8e0b8"
  },
  {
   "cell_type": "code",
   "execution_count": 3,
   "outputs": [],
   "source": [
    "# Set seeds for consistent results\n",
    "random.seed(42)\n",
    "np.random.seed(42)\n",
    "torch.manual_seed(42)\n",
    "torch.cuda.manual_seed_all(42)"
   ],
   "metadata": {
    "collapsed": false,
    "ExecuteTime": {
     "end_time": "2023-10-22T19:31:44.017926100Z",
     "start_time": "2023-10-22T19:31:43.986677400Z"
    }
   },
   "id": "558506b8a770ba8c"
  },
  {
   "cell_type": "code",
   "execution_count": 4,
   "outputs": [
    {
     "data": {
      "text/plain": "HeteroData(\n  movie={\n    x=[4278, 3066],\n    y=[4278],\n    train_mask=[4278],\n    val_mask=[4278],\n    test_mask=[4278],\n  },\n  director={ x=[2081, 3066] },\n  actor={ x=[5257, 3066] },\n  (movie, to, director)={ edge_index=[2, 4278] },\n  (movie, to, actor)={ edge_index=[2, 12828] },\n  (director, to, movie)={ edge_index=[2, 4278] },\n  (actor, to, movie)={ edge_index=[2, 12828] }\n)"
     },
     "execution_count": 4,
     "metadata": {},
     "output_type": "execute_result"
    }
   ],
   "source": [
    "# Get Neo4j DB URI, credentials and name from environment if applicable\n",
    "NEO4J_URI = os.environ.get(\"NEO4J_URI\", \"bolt://localhost:7687\")\n",
    "NEO4J_DB = os.environ.get(\"NEO4J_DB\", \"neo4j\")\n",
    "NEO4J_AUTH = (\n",
    "    os.environ.get(\"NEO4J_USER\", \"neo4j\"),\n",
    "    os.environ.get(\"NEO4J_PASSWORD\", \"pleaseletmein\"),\n",
    ")\n",
    "\n",
    "gds = GraphDataScience(NEO4J_URI, auth=NEO4J_AUTH, database=NEO4J_DB)"
   ],
   "metadata": {
    "collapsed": false,
    "ExecuteTime": {
     "end_time": "2023-10-22T19:31:44.571961600Z",
     "start_time": "2023-10-22T19:31:44.017926100Z"
    }
   },
   "id": "ddd8d22b7a587458"
  },
  {
   "cell_type": "code",
   "execution_count": 5,
   "outputs": [],
   "source": [
    "def fetch_data(query):\n",
    "    return gds.run_cypher(query)"
   ],
   "metadata": {
    "collapsed": false,
    "ExecuteTime": {
     "end_time": "2023-10-22T19:31:44.634475100Z",
     "start_time": "2023-10-22T19:31:44.571961600Z"
    }
   },
   "id": "d6939e21a13c7fa2"
  },
  {
   "cell_type": "code",
   "execution_count": 5,
   "outputs": [],
   "source": [
    "def load_node(cypher, index_col, encoders=None, **kwargs):\n",
    "    # Execute the cypher query and retrieve data from Neo4j\n",
    "    df = fetch_data(cypher)\n",
    "    df.set_index(index_col, inplace=True)\n",
    "    # Define node mapping\n",
    "    mapping = {index: i for i, index in enumerate(df.index.unique())}\n",
    "    # Define node features\n",
    "    x = None\n",
    "    if encoders is not None:\n",
    "        xs = [encoder(df[col]) for col, encoder in encoders.items()]\n",
    "        x = torch.cat(xs, dim=-1)\n",
    "\n",
    "    return x, mapping"
   ],
   "metadata": {
    "collapsed": false,
    "ExecuteTime": {
     "end_time": "2023-10-22T19:31:44.645196900Z",
     "start_time": "2023-10-22T19:31:44.587600800Z"
    }
   },
   "id": "82393231c3d732ab"
  },
  {
   "cell_type": "code",
   "execution_count": 7,
   "outputs": [
    {
     "ename": "ImportError",
     "evalue": "'SparseTensor' requires 'torch-sparse'",
     "output_type": "error",
     "traceback": [
      "\u001B[1;31m---------------------------------------------------------------------------\u001B[0m",
      "\u001B[1;31mImportError\u001B[0m                               Traceback (most recent call last)",
      "Cell \u001B[1;32mIn[7], line 13\u001B[0m\n\u001B[0;32m      3\u001B[0m \u001B[38;5;66;03m# metapaths = [\u001B[39;00m\n\u001B[0;32m      4\u001B[0m \u001B[38;5;66;03m#     [('recipe', 'menu'), ('menu', 'recipe')],  # MAM\u001B[39;00m\n\u001B[0;32m      5\u001B[0m \u001B[38;5;66;03m#     [('recipe', 'ingredient'), ('ingredient', 'recipe')],  # MDM\u001B[39;00m\n\u001B[0;32m      6\u001B[0m \u001B[38;5;66;03m# ]\u001B[39;00m\n\u001B[0;32m      7\u001B[0m \u001B[38;5;66;03m# data = T.AddMetaPaths(metapaths, drop_orig_edge_types=True)(data)\u001B[39;00m\n\u001B[0;32m      9\u001B[0m metapaths \u001B[38;5;241m=\u001B[39m [\n\u001B[0;32m     10\u001B[0m     [(\u001B[38;5;124m'\u001B[39m\u001B[38;5;124mmovie\u001B[39m\u001B[38;5;124m'\u001B[39m, \u001B[38;5;124m'\u001B[39m\u001B[38;5;124mactor\u001B[39m\u001B[38;5;124m'\u001B[39m), (\u001B[38;5;124m'\u001B[39m\u001B[38;5;124mactor\u001B[39m\u001B[38;5;124m'\u001B[39m, \u001B[38;5;124m'\u001B[39m\u001B[38;5;124mmovie\u001B[39m\u001B[38;5;124m'\u001B[39m)],  \u001B[38;5;66;03m# MAM\u001B[39;00m\n\u001B[0;32m     11\u001B[0m     [(\u001B[38;5;124m'\u001B[39m\u001B[38;5;124mmovie\u001B[39m\u001B[38;5;124m'\u001B[39m, \u001B[38;5;124m'\u001B[39m\u001B[38;5;124mdirector\u001B[39m\u001B[38;5;124m'\u001B[39m), (\u001B[38;5;124m'\u001B[39m\u001B[38;5;124mdirector\u001B[39m\u001B[38;5;124m'\u001B[39m, \u001B[38;5;124m'\u001B[39m\u001B[38;5;124mmovie\u001B[39m\u001B[38;5;124m'\u001B[39m)],  \u001B[38;5;66;03m# MDM\u001B[39;00m\n\u001B[0;32m     12\u001B[0m ]\n\u001B[1;32m---> 13\u001B[0m data \u001B[38;5;241m=\u001B[39m \u001B[43mT\u001B[49m\u001B[38;5;241;43m.\u001B[39;49m\u001B[43mAddMetaPaths\u001B[49m\u001B[43m(\u001B[49m\u001B[43mmetapaths\u001B[49m\u001B[43m,\u001B[49m\u001B[43m \u001B[49m\u001B[43mdrop_orig_edge_types\u001B[49m\u001B[38;5;241;43m=\u001B[39;49m\u001B[38;5;28;43;01mTrue\u001B[39;49;00m\u001B[43m)\u001B[49m\u001B[43m(\u001B[49m\u001B[43mdataset\u001B[49m\u001B[43m[\u001B[49m\u001B[38;5;241;43m0\u001B[39;49m\u001B[43m]\u001B[49m\u001B[43m)\u001B[49m\n",
      "File \u001B[1;32m~\\Projects\\scripts\\lib\\site-packages\\torch_geometric\\transforms\\base_transform.py:32\u001B[0m, in \u001B[0;36mBaseTransform.__call__\u001B[1;34m(self, data)\u001B[0m\n\u001B[0;32m     30\u001B[0m \u001B[38;5;28;01mdef\u001B[39;00m \u001B[38;5;21m__call__\u001B[39m(\u001B[38;5;28mself\u001B[39m, data: Any) \u001B[38;5;241m-\u001B[39m\u001B[38;5;241m>\u001B[39m Any:\n\u001B[0;32m     31\u001B[0m     \u001B[38;5;66;03m# Shallow-copy the data so that we prevent in-place data modification.\u001B[39;00m\n\u001B[1;32m---> 32\u001B[0m     \u001B[38;5;28;01mreturn\u001B[39;00m \u001B[38;5;28;43mself\u001B[39;49m\u001B[38;5;241;43m.\u001B[39;49m\u001B[43mforward\u001B[49m\u001B[43m(\u001B[49m\u001B[43mcopy\u001B[49m\u001B[38;5;241;43m.\u001B[39;49m\u001B[43mcopy\u001B[49m\u001B[43m(\u001B[49m\u001B[43mdata\u001B[49m\u001B[43m)\u001B[49m\u001B[43m)\u001B[49m\n",
      "File \u001B[1;32m~\\Projects\\scripts\\lib\\site-packages\\torch_geometric\\transforms\\add_metapaths.py:143\u001B[0m, in \u001B[0;36mAddMetaPaths.forward\u001B[1;34m(self, data)\u001B[0m\n\u001B[0;32m    141\u001B[0m edge_type \u001B[38;5;241m=\u001B[39m metapath[\u001B[38;5;241m0\u001B[39m]\n\u001B[0;32m    142\u001B[0m edge_weight \u001B[38;5;241m=\u001B[39m \u001B[38;5;28mself\u001B[39m\u001B[38;5;241m.\u001B[39m_get_edge_weight(data, edge_type)\n\u001B[1;32m--> 143\u001B[0m adj1 \u001B[38;5;241m=\u001B[39m \u001B[43mSparseTensor\u001B[49m\u001B[38;5;241;43m.\u001B[39;49m\u001B[43mfrom_edge_index\u001B[49m\u001B[43m(\u001B[49m\n\u001B[0;32m    144\u001B[0m \u001B[43m    \u001B[49m\u001B[43medge_index\u001B[49m\u001B[38;5;241;43m=\u001B[39;49m\u001B[43mdata\u001B[49m\u001B[43m[\u001B[49m\u001B[43medge_type\u001B[49m\u001B[43m]\u001B[49m\u001B[38;5;241;43m.\u001B[39;49m\u001B[43medge_index\u001B[49m\u001B[43m,\u001B[49m\n\u001B[0;32m    145\u001B[0m \u001B[43m    \u001B[49m\u001B[43msparse_sizes\u001B[49m\u001B[38;5;241;43m=\u001B[39;49m\u001B[43mdata\u001B[49m\u001B[43m[\u001B[49m\u001B[43medge_type\u001B[49m\u001B[43m]\u001B[49m\u001B[38;5;241;43m.\u001B[39;49m\u001B[43msize\u001B[49m\u001B[43m(\u001B[49m\u001B[43m)\u001B[49m\u001B[43m,\u001B[49m\u001B[43m \u001B[49m\u001B[43medge_attr\u001B[49m\u001B[38;5;241;43m=\u001B[39;49m\u001B[43medge_weight\u001B[49m\u001B[43m)\u001B[49m\n\u001B[0;32m    147\u001B[0m \u001B[38;5;28;01mif\u001B[39;00m \u001B[38;5;28mself\u001B[39m\u001B[38;5;241m.\u001B[39mmax_sample \u001B[38;5;129;01mis\u001B[39;00m \u001B[38;5;129;01mnot\u001B[39;00m \u001B[38;5;28;01mNone\u001B[39;00m:\n\u001B[0;32m    148\u001B[0m     adj1 \u001B[38;5;241m=\u001B[39m \u001B[38;5;28mself\u001B[39m\u001B[38;5;241m.\u001B[39msample_adj(adj1)\n",
      "File \u001B[1;32m~\\Projects\\scripts\\lib\\site-packages\\torch_geometric\\typing.py:145\u001B[0m, in \u001B[0;36mSparseTensor.from_edge_index\u001B[1;34m(self, edge_index, edge_attr, sparse_sizes, is_sorted, trust_data)\u001B[0m\n\u001B[0;32m    136\u001B[0m \u001B[38;5;129m@classmethod\u001B[39m\n\u001B[0;32m    137\u001B[0m \u001B[38;5;28;01mdef\u001B[39;00m \u001B[38;5;21mfrom_edge_index\u001B[39m(\n\u001B[0;32m    138\u001B[0m     \u001B[38;5;28mself\u001B[39m,\n\u001B[1;32m   (...)\u001B[0m\n\u001B[0;32m    143\u001B[0m     trust_data: \u001B[38;5;28mbool\u001B[39m \u001B[38;5;241m=\u001B[39m \u001B[38;5;28;01mFalse\u001B[39;00m,\n\u001B[0;32m    144\u001B[0m ) \u001B[38;5;241m-\u001B[39m\u001B[38;5;241m>\u001B[39m \u001B[38;5;124m'\u001B[39m\u001B[38;5;124mSparseTensor\u001B[39m\u001B[38;5;124m'\u001B[39m:\n\u001B[1;32m--> 145\u001B[0m     \u001B[38;5;28;01mraise\u001B[39;00m \u001B[38;5;167;01mImportError\u001B[39;00m(\u001B[38;5;124m\"\u001B[39m\u001B[38;5;124m'\u001B[39m\u001B[38;5;124mSparseTensor\u001B[39m\u001B[38;5;124m'\u001B[39m\u001B[38;5;124m requires \u001B[39m\u001B[38;5;124m'\u001B[39m\u001B[38;5;124mtorch-sparse\u001B[39m\u001B[38;5;124m'\u001B[39m\u001B[38;5;124m\"\u001B[39m)\n",
      "\u001B[1;31mImportError\u001B[0m: 'SparseTensor' requires 'torch-sparse'"
     ]
    }
   ],
   "source": [
    "def load_edge(cypher, src_index_col, src_mapping, dst_index_col, dst_mapping,\n",
    "                  encoders=None, **kwargs):\n",
    "    # Execute the cypher query and retrieve data from Neo4j\n",
    "    df = fetch_data(cypher)\n",
    "    # Define edge index\n",
    "    src = [src_mapping[index] for index in df[src_index_col]]\n",
    "    dst = [dst_mapping[index] for index in df[dst_index_col]]\n",
    "    edge_index = torch.tensor([src, dst])\n",
    "    # Define edge features\n",
    "    edge_attr = None\n",
    "    if encoders is not None:\n",
    "        edge_attrs = [encoder(df[col]) for col, encoder in encoders.items()]\n",
    "        edge_attr = torch.cat(edge_attrs, dim=-1)\n",
    "\n",
    "    return edge_index, edge_attr"
   ],
   "metadata": {
    "collapsed": false,
    "ExecuteTime": {
     "end_time": "2023-10-22T19:32:01.045321Z",
     "start_time": "2023-10-22T19:32:00.877520800Z"
    }
   },
   "id": "c4859dd21eecc362"
  },
  {
   "cell_type": "code",
   "execution_count": 8,
   "outputs": [],
   "source": [
    "from sentence_transformers import SentenceTransformer\n",
    "\n",
    "class SequenceEncoder:\n",
    "    def __init__(self, model_name='all-MiniLM-L6-v2', device=None):\n",
    "        self.device = device\n",
    "        self.model = SentenceTransformer(model_name, device=device)\n",
    "\n",
    "    @torch.no_grad()\n",
    "    def __call__(self, df):\n",
    "        x = self.model.encode(df.values, show_progress_bar=True,\n",
    "                              convert_to_tensor=True, device=self.device)\n",
    "        return x.cpu()\n",
    "    \n",
    "class WeekdayEncoder:\n",
    "    def __init__(self, sep='|'):\n",
    "        self.sep = sep\n",
    "\n",
    "    def __call__(self, df):\n",
    "        genres = set(col for col in df.values)\n",
    "        mapping = {genre: i for i, genre in enumerate(genres)}\n",
    "\n",
    "        x = torch.zeros(len(df), len(mapping))\n",
    "        for i, col in enumerate(df.values):\n",
    "            for genre in col.split(self.sep):\n",
    "                x[i, mapping[genre]] = 1\n",
    "        return x"
   ],
   "metadata": {
    "collapsed": false,
    "ExecuteTime": {
     "end_time": "2023-10-22T19:32:05.163440900Z",
     "start_time": "2023-10-22T19:32:05.085299100Z"
    }
   },
   "id": "5f2d78ebb62a77eb"
  },
  {
   "cell_type": "code",
   "execution_count": 9,
   "outputs": [],
   "source": [
    "recipe_query = \"\"\"\n",
    "MATCH (a:Recipe)\n",
    "RETURN a.recipieId as recipeId,\n",
    "       a.openaiEmbeddings as embedding\n",
    "\"\"\"\n",
    "\n",
    "recipe_x, recipe_mapping = load_node(\n",
    "    recipe_query, \n",
    "    index_col='recipeId', \n",
    "    encoders={\n",
    "        \"embedding\": lambda x: torch.Tensor(x)\n",
    "    }\n",
    ")"
   ],
   "metadata": {
    "collapsed": false,
    "ExecuteTime": {
     "end_time": "2023-10-22T19:32:05.163440900Z",
     "start_time": "2023-10-22T19:32:05.116563200Z"
    }
   },
   "id": "e9e1f14a0cc1da20"
  },
  {
   "cell_type": "code",
   "execution_count": 10,
   "outputs": [],
   "source": [
    "recipe_x.shape, len(recipe_mapping)"
   ],
   "metadata": {
    "collapsed": false,
    "ExecuteTime": {
     "end_time": "2023-10-22T19:32:05.232467900Z",
     "start_time": "2023-10-22T19:32:05.132192300Z"
    }
   },
   "id": "7a8f888fdda9137f"
  },
  {
   "cell_type": "code",
   "execution_count": 11,
   "outputs": [],
   "source": [
    "ingredient_query = \"\"\"\n",
    "MATCH (i:Ingredient)\n",
    "RETURN DISTINCT ID(i) as ingredientId, i.title as title\n",
    "\"\"\"\n",
    "ingredient_x, ingredient_mapping = load_node(\n",
    "    ingredient_query, \n",
    "    index_col='ingredientId', \n",
    "    encoders={\n",
    "        'title': SequenceEncoder()\n",
    "    }\n",
    ")"
   ],
   "metadata": {
    "collapsed": false,
    "ExecuteTime": {
     "end_time": "2023-10-22T19:32:05.254522500Z",
     "start_time": "2023-10-22T19:32:05.232467900Z"
    }
   },
   "id": "d6fdcf042951fc0"
  },
  {
   "cell_type": "code",
   "execution_count": 12,
   "outputs": [
    {
     "name": "stdout",
     "output_type": "stream",
     "text": [
      "dict_values([tensor([[   0,    1,    2,  ..., 4275, 4276, 4277],\n",
      "        [ 789,  680, 1757,  ..., 1781,  166,  399]]), tensor([[   0,    0,    0,  ..., 4277, 4277, 4277],\n",
      "        [ 674, 2394, 5129,  ...,  100, 1078, 1439]]), tensor([[   0,    1,    2,  ..., 2078, 2079, 2080],\n",
      "        [3972, 3751, 3090,  ..., 3246, 3652, 4143]]), tensor([[   0,    0,    0,  ..., 5256, 5256, 5256],\n",
      "        [ 555,  703, 1147,  ..., 1765, 2086, 2540]])])\n"
     ]
    },
    {
     "ename": "RuntimeError",
     "evalue": "index 5129 is out of bounds for dimension 0 with size 4278",
     "output_type": "error",
     "traceback": [
      "\u001B[1;31m---------------------------------------------------------------------------\u001B[0m",
      "\u001B[1;31mRuntimeError\u001B[0m                              Traceback (most recent call last)",
      "Cell \u001B[1;32mIn[12], line 2\u001B[0m\n\u001B[0;32m      1\u001B[0m \u001B[38;5;28;01mfor\u001B[39;00m epoch \u001B[38;5;129;01min\u001B[39;00m \u001B[38;5;28mrange\u001B[39m(\u001B[38;5;241m1\u001B[39m, \u001B[38;5;241m1001\u001B[39m):\n\u001B[1;32m----> 2\u001B[0m     loss \u001B[38;5;241m=\u001B[39m \u001B[43mtrain\u001B[49m\u001B[43m(\u001B[49m\u001B[43m)\u001B[49m\n\u001B[0;32m      3\u001B[0m     \u001B[38;5;28mprint\u001B[39m(\u001B[38;5;124mf\u001B[39m\u001B[38;5;124m'\u001B[39m\u001B[38;5;124mEpoch: \u001B[39m\u001B[38;5;132;01m{\u001B[39;00mepoch\u001B[38;5;132;01m:\u001B[39;00m\u001B[38;5;124m03d\u001B[39m\u001B[38;5;132;01m}\u001B[39;00m\u001B[38;5;124m, Loss: \u001B[39m\u001B[38;5;132;01m{\u001B[39;00mloss\u001B[38;5;132;01m:\u001B[39;00m\u001B[38;5;124m.4f\u001B[39m\u001B[38;5;132;01m}\u001B[39;00m\u001B[38;5;124m'\u001B[39m)\n\u001B[0;32m      4\u001B[0m     \u001B[38;5;66;03m# if epoch % 50 == 0:\u001B[39;00m\n\u001B[0;32m      5\u001B[0m     \u001B[38;5;66;03m#     val_acc, test_acc = test()\u001B[39;00m\n\u001B[0;32m      6\u001B[0m     \u001B[38;5;66;03m#     print(f'Epoch: {epoch:03d}, Loss: {loss:.4f}, '\u001B[39;00m\n\u001B[0;32m      7\u001B[0m     \u001B[38;5;66;03m#           f'Val: {val_acc:.4f}, Test: {test_acc:.4f}')\u001B[39;00m\n",
      "Cell \u001B[1;32mIn[11], line 7\u001B[0m, in \u001B[0;36mtrain\u001B[1;34m()\u001B[0m\n\u001B[0;32m      5\u001B[0m edge_indices \u001B[38;5;241m=\u001B[39m data\u001B[38;5;241m.\u001B[39medge_index_dict\u001B[38;5;241m.\u001B[39mvalues()\n\u001B[0;32m      6\u001B[0m \u001B[38;5;28mprint\u001B[39m(edge_indices)\n\u001B[1;32m----> 7\u001B[0m pos_hs, neg_hs, summaries \u001B[38;5;241m=\u001B[39m \u001B[43mmodel\u001B[49m\u001B[43m(\u001B[49m\u001B[43mx\u001B[49m\u001B[43m,\u001B[49m\u001B[43m \u001B[49m\u001B[43medge_indices\u001B[49m\u001B[43m)\u001B[49m\n\u001B[0;32m      8\u001B[0m loss \u001B[38;5;241m=\u001B[39m model\u001B[38;5;241m.\u001B[39mloss(pos_hs, neg_hs, summaries)\n\u001B[0;32m      9\u001B[0m loss\u001B[38;5;241m.\u001B[39mbackward()\n",
      "File \u001B[1;32m~\\Projects\\scripts\\lib\\site-packages\\torch\\nn\\modules\\module.py:1518\u001B[0m, in \u001B[0;36mModule._wrapped_call_impl\u001B[1;34m(self, *args, **kwargs)\u001B[0m\n\u001B[0;32m   1516\u001B[0m     \u001B[38;5;28;01mreturn\u001B[39;00m \u001B[38;5;28mself\u001B[39m\u001B[38;5;241m.\u001B[39m_compiled_call_impl(\u001B[38;5;241m*\u001B[39margs, \u001B[38;5;241m*\u001B[39m\u001B[38;5;241m*\u001B[39mkwargs)  \u001B[38;5;66;03m# type: ignore[misc]\u001B[39;00m\n\u001B[0;32m   1517\u001B[0m \u001B[38;5;28;01melse\u001B[39;00m:\n\u001B[1;32m-> 1518\u001B[0m     \u001B[38;5;28;01mreturn\u001B[39;00m \u001B[38;5;28mself\u001B[39m\u001B[38;5;241m.\u001B[39m_call_impl(\u001B[38;5;241m*\u001B[39margs, \u001B[38;5;241m*\u001B[39m\u001B[38;5;241m*\u001B[39mkwargs)\n",
      "File \u001B[1;32m~\\Projects\\scripts\\lib\\site-packages\\torch\\nn\\modules\\module.py:1527\u001B[0m, in \u001B[0;36mModule._call_impl\u001B[1;34m(self, *args, **kwargs)\u001B[0m\n\u001B[0;32m   1522\u001B[0m \u001B[38;5;66;03m# If we don't have any hooks, we want to skip the rest of the logic in\u001B[39;00m\n\u001B[0;32m   1523\u001B[0m \u001B[38;5;66;03m# this function, and just call forward.\u001B[39;00m\n\u001B[0;32m   1524\u001B[0m \u001B[38;5;28;01mif\u001B[39;00m \u001B[38;5;129;01mnot\u001B[39;00m (\u001B[38;5;28mself\u001B[39m\u001B[38;5;241m.\u001B[39m_backward_hooks \u001B[38;5;129;01mor\u001B[39;00m \u001B[38;5;28mself\u001B[39m\u001B[38;5;241m.\u001B[39m_backward_pre_hooks \u001B[38;5;129;01mor\u001B[39;00m \u001B[38;5;28mself\u001B[39m\u001B[38;5;241m.\u001B[39m_forward_hooks \u001B[38;5;129;01mor\u001B[39;00m \u001B[38;5;28mself\u001B[39m\u001B[38;5;241m.\u001B[39m_forward_pre_hooks\n\u001B[0;32m   1525\u001B[0m         \u001B[38;5;129;01mor\u001B[39;00m _global_backward_pre_hooks \u001B[38;5;129;01mor\u001B[39;00m _global_backward_hooks\n\u001B[0;32m   1526\u001B[0m         \u001B[38;5;129;01mor\u001B[39;00m _global_forward_hooks \u001B[38;5;129;01mor\u001B[39;00m _global_forward_pre_hooks):\n\u001B[1;32m-> 1527\u001B[0m     \u001B[38;5;28;01mreturn\u001B[39;00m forward_call(\u001B[38;5;241m*\u001B[39margs, \u001B[38;5;241m*\u001B[39m\u001B[38;5;241m*\u001B[39mkwargs)\n\u001B[0;32m   1529\u001B[0m \u001B[38;5;28;01mtry\u001B[39;00m:\n\u001B[0;32m   1530\u001B[0m     result \u001B[38;5;241m=\u001B[39m \u001B[38;5;28;01mNone\u001B[39;00m\n",
      "Cell \u001B[1;32mIn[9], line 21\u001B[0m, in \u001B[0;36mDMGI.forward\u001B[1;34m(self, x, edge_indices)\u001B[0m\n\u001B[0;32m     19\u001B[0m \u001B[38;5;28;01mfor\u001B[39;00m conv, edge_index \u001B[38;5;129;01min\u001B[39;00m \u001B[38;5;28mzip\u001B[39m(\u001B[38;5;28mself\u001B[39m\u001B[38;5;241m.\u001B[39mconvs, edge_indices):\n\u001B[0;32m     20\u001B[0m     pos_h \u001B[38;5;241m=\u001B[39m F\u001B[38;5;241m.\u001B[39mdropout(x, p\u001B[38;5;241m=\u001B[39m\u001B[38;5;241m0.5\u001B[39m, training\u001B[38;5;241m=\u001B[39m\u001B[38;5;28mself\u001B[39m\u001B[38;5;241m.\u001B[39mtraining)\n\u001B[1;32m---> 21\u001B[0m     pos_h \u001B[38;5;241m=\u001B[39m \u001B[43mconv\u001B[49m\u001B[43m(\u001B[49m\u001B[43mpos_h\u001B[49m\u001B[43m,\u001B[49m\u001B[43m \u001B[49m\u001B[43medge_index\u001B[49m\u001B[43m)\u001B[49m\u001B[38;5;241m.\u001B[39mrelu()\n\u001B[0;32m     22\u001B[0m     pos_hs\u001B[38;5;241m.\u001B[39mappend(pos_h)\n\u001B[0;32m     24\u001B[0m     neg_h \u001B[38;5;241m=\u001B[39m F\u001B[38;5;241m.\u001B[39mdropout(x, p\u001B[38;5;241m=\u001B[39m\u001B[38;5;241m0.5\u001B[39m, training\u001B[38;5;241m=\u001B[39m\u001B[38;5;28mself\u001B[39m\u001B[38;5;241m.\u001B[39mtraining)\n",
      "File \u001B[1;32m~\\Projects\\scripts\\lib\\site-packages\\torch\\nn\\modules\\module.py:1518\u001B[0m, in \u001B[0;36mModule._wrapped_call_impl\u001B[1;34m(self, *args, **kwargs)\u001B[0m\n\u001B[0;32m   1516\u001B[0m     \u001B[38;5;28;01mreturn\u001B[39;00m \u001B[38;5;28mself\u001B[39m\u001B[38;5;241m.\u001B[39m_compiled_call_impl(\u001B[38;5;241m*\u001B[39margs, \u001B[38;5;241m*\u001B[39m\u001B[38;5;241m*\u001B[39mkwargs)  \u001B[38;5;66;03m# type: ignore[misc]\u001B[39;00m\n\u001B[0;32m   1517\u001B[0m \u001B[38;5;28;01melse\u001B[39;00m:\n\u001B[1;32m-> 1518\u001B[0m     \u001B[38;5;28;01mreturn\u001B[39;00m \u001B[38;5;28mself\u001B[39m\u001B[38;5;241m.\u001B[39m_call_impl(\u001B[38;5;241m*\u001B[39margs, \u001B[38;5;241m*\u001B[39m\u001B[38;5;241m*\u001B[39mkwargs)\n",
      "File \u001B[1;32m~\\Projects\\scripts\\lib\\site-packages\\torch\\nn\\modules\\module.py:1527\u001B[0m, in \u001B[0;36mModule._call_impl\u001B[1;34m(self, *args, **kwargs)\u001B[0m\n\u001B[0;32m   1522\u001B[0m \u001B[38;5;66;03m# If we don't have any hooks, we want to skip the rest of the logic in\u001B[39;00m\n\u001B[0;32m   1523\u001B[0m \u001B[38;5;66;03m# this function, and just call forward.\u001B[39;00m\n\u001B[0;32m   1524\u001B[0m \u001B[38;5;28;01mif\u001B[39;00m \u001B[38;5;129;01mnot\u001B[39;00m (\u001B[38;5;28mself\u001B[39m\u001B[38;5;241m.\u001B[39m_backward_hooks \u001B[38;5;129;01mor\u001B[39;00m \u001B[38;5;28mself\u001B[39m\u001B[38;5;241m.\u001B[39m_backward_pre_hooks \u001B[38;5;129;01mor\u001B[39;00m \u001B[38;5;28mself\u001B[39m\u001B[38;5;241m.\u001B[39m_forward_hooks \u001B[38;5;129;01mor\u001B[39;00m \u001B[38;5;28mself\u001B[39m\u001B[38;5;241m.\u001B[39m_forward_pre_hooks\n\u001B[0;32m   1525\u001B[0m         \u001B[38;5;129;01mor\u001B[39;00m _global_backward_pre_hooks \u001B[38;5;129;01mor\u001B[39;00m _global_backward_hooks\n\u001B[0;32m   1526\u001B[0m         \u001B[38;5;129;01mor\u001B[39;00m _global_forward_hooks \u001B[38;5;129;01mor\u001B[39;00m _global_forward_pre_hooks):\n\u001B[1;32m-> 1527\u001B[0m     \u001B[38;5;28;01mreturn\u001B[39;00m forward_call(\u001B[38;5;241m*\u001B[39margs, \u001B[38;5;241m*\u001B[39m\u001B[38;5;241m*\u001B[39mkwargs)\n\u001B[0;32m   1529\u001B[0m \u001B[38;5;28;01mtry\u001B[39;00m:\n\u001B[0;32m   1530\u001B[0m     result \u001B[38;5;241m=\u001B[39m \u001B[38;5;28;01mNone\u001B[39;00m\n",
      "File \u001B[1;32m~\\Projects\\scripts\\lib\\site-packages\\torch_geometric\\nn\\conv\\gcn_conv.py:222\u001B[0m, in \u001B[0;36mGCNConv.forward\u001B[1;34m(self, x, edge_index, edge_weight)\u001B[0m\n\u001B[0;32m    220\u001B[0m cache \u001B[38;5;241m=\u001B[39m \u001B[38;5;28mself\u001B[39m\u001B[38;5;241m.\u001B[39m_cached_edge_index\n\u001B[0;32m    221\u001B[0m \u001B[38;5;28;01mif\u001B[39;00m cache \u001B[38;5;129;01mis\u001B[39;00m \u001B[38;5;28;01mNone\u001B[39;00m:\n\u001B[1;32m--> 222\u001B[0m     edge_index, edge_weight \u001B[38;5;241m=\u001B[39m \u001B[43mgcn_norm\u001B[49m\u001B[43m(\u001B[49m\u001B[43m  \u001B[49m\u001B[38;5;66;43;03m# yapf: disable\u001B[39;49;00m\n\u001B[0;32m    223\u001B[0m \u001B[43m        \u001B[49m\u001B[43medge_index\u001B[49m\u001B[43m,\u001B[49m\u001B[43m \u001B[49m\u001B[43medge_weight\u001B[49m\u001B[43m,\u001B[49m\u001B[43m \u001B[49m\u001B[43mx\u001B[49m\u001B[38;5;241;43m.\u001B[39;49m\u001B[43msize\u001B[49m\u001B[43m(\u001B[49m\u001B[38;5;28;43mself\u001B[39;49m\u001B[38;5;241;43m.\u001B[39;49m\u001B[43mnode_dim\u001B[49m\u001B[43m)\u001B[49m\u001B[43m,\u001B[49m\n\u001B[0;32m    224\u001B[0m \u001B[43m        \u001B[49m\u001B[38;5;28;43mself\u001B[39;49m\u001B[38;5;241;43m.\u001B[39;49m\u001B[43mimproved\u001B[49m\u001B[43m,\u001B[49m\u001B[43m \u001B[49m\u001B[38;5;28;43mself\u001B[39;49m\u001B[38;5;241;43m.\u001B[39;49m\u001B[43madd_self_loops\u001B[49m\u001B[43m,\u001B[49m\u001B[43m \u001B[49m\u001B[38;5;28;43mself\u001B[39;49m\u001B[38;5;241;43m.\u001B[39;49m\u001B[43mflow\u001B[49m\u001B[43m,\u001B[49m\u001B[43m \u001B[49m\u001B[43mx\u001B[49m\u001B[38;5;241;43m.\u001B[39;49m\u001B[43mdtype\u001B[49m\u001B[43m)\u001B[49m\n\u001B[0;32m    225\u001B[0m     \u001B[38;5;28;01mif\u001B[39;00m \u001B[38;5;28mself\u001B[39m\u001B[38;5;241m.\u001B[39mcached:\n\u001B[0;32m    226\u001B[0m         \u001B[38;5;28mself\u001B[39m\u001B[38;5;241m.\u001B[39m_cached_edge_index \u001B[38;5;241m=\u001B[39m (edge_index, edge_weight)\n",
      "File \u001B[1;32m~\\Projects\\scripts\\lib\\site-packages\\torch_geometric\\nn\\conv\\gcn_conv.py:100\u001B[0m, in \u001B[0;36mgcn_norm\u001B[1;34m(edge_index, edge_weight, num_nodes, improved, add_self_loops, flow, dtype)\u001B[0m\n\u001B[0;32m     98\u001B[0m row, col \u001B[38;5;241m=\u001B[39m edge_index[\u001B[38;5;241m0\u001B[39m], edge_index[\u001B[38;5;241m1\u001B[39m]\n\u001B[0;32m     99\u001B[0m idx \u001B[38;5;241m=\u001B[39m col \u001B[38;5;28;01mif\u001B[39;00m flow \u001B[38;5;241m==\u001B[39m \u001B[38;5;124m'\u001B[39m\u001B[38;5;124msource_to_target\u001B[39m\u001B[38;5;124m'\u001B[39m \u001B[38;5;28;01melse\u001B[39;00m row\n\u001B[1;32m--> 100\u001B[0m deg \u001B[38;5;241m=\u001B[39m \u001B[43mscatter\u001B[49m\u001B[43m(\u001B[49m\u001B[43medge_weight\u001B[49m\u001B[43m,\u001B[49m\u001B[43m \u001B[49m\u001B[43midx\u001B[49m\u001B[43m,\u001B[49m\u001B[43m \u001B[49m\u001B[43mdim\u001B[49m\u001B[38;5;241;43m=\u001B[39;49m\u001B[38;5;241;43m0\u001B[39;49m\u001B[43m,\u001B[49m\u001B[43m \u001B[49m\u001B[43mdim_size\u001B[49m\u001B[38;5;241;43m=\u001B[39;49m\u001B[43mnum_nodes\u001B[49m\u001B[43m,\u001B[49m\u001B[43m \u001B[49m\u001B[43mreduce\u001B[49m\u001B[38;5;241;43m=\u001B[39;49m\u001B[38;5;124;43m'\u001B[39;49m\u001B[38;5;124;43msum\u001B[39;49m\u001B[38;5;124;43m'\u001B[39;49m\u001B[43m)\u001B[49m\n\u001B[0;32m    101\u001B[0m deg_inv_sqrt \u001B[38;5;241m=\u001B[39m deg\u001B[38;5;241m.\u001B[39mpow_(\u001B[38;5;241m-\u001B[39m\u001B[38;5;241m0.5\u001B[39m)\n\u001B[0;32m    102\u001B[0m deg_inv_sqrt\u001B[38;5;241m.\u001B[39mmasked_fill_(deg_inv_sqrt \u001B[38;5;241m==\u001B[39m \u001B[38;5;28mfloat\u001B[39m(\u001B[38;5;124m'\u001B[39m\u001B[38;5;124minf\u001B[39m\u001B[38;5;124m'\u001B[39m), \u001B[38;5;241m0\u001B[39m)\n",
      "File \u001B[1;32m~\\Projects\\scripts\\lib\\site-packages\\torch_geometric\\utils\\scatter.py:70\u001B[0m, in \u001B[0;36mscatter\u001B[1;34m(src, index, dim, dim_size, reduce)\u001B[0m\n\u001B[0;32m     68\u001B[0m \u001B[38;5;28;01mif\u001B[39;00m reduce \u001B[38;5;241m==\u001B[39m \u001B[38;5;124m'\u001B[39m\u001B[38;5;124msum\u001B[39m\u001B[38;5;124m'\u001B[39m \u001B[38;5;129;01mor\u001B[39;00m reduce \u001B[38;5;241m==\u001B[39m \u001B[38;5;124m'\u001B[39m\u001B[38;5;124madd\u001B[39m\u001B[38;5;124m'\u001B[39m:\n\u001B[0;32m     69\u001B[0m     index \u001B[38;5;241m=\u001B[39m broadcast(index, src, dim)\n\u001B[1;32m---> 70\u001B[0m     \u001B[38;5;28;01mreturn\u001B[39;00m \u001B[43msrc\u001B[49m\u001B[38;5;241;43m.\u001B[39;49m\u001B[43mnew_zeros\u001B[49m\u001B[43m(\u001B[49m\u001B[43msize\u001B[49m\u001B[43m)\u001B[49m\u001B[38;5;241;43m.\u001B[39;49m\u001B[43mscatter_add_\u001B[49m\u001B[43m(\u001B[49m\u001B[43mdim\u001B[49m\u001B[43m,\u001B[49m\u001B[43m \u001B[49m\u001B[43mindex\u001B[49m\u001B[43m,\u001B[49m\u001B[43m \u001B[49m\u001B[43msrc\u001B[49m\u001B[43m)\u001B[49m\n\u001B[0;32m     72\u001B[0m \u001B[38;5;28;01mif\u001B[39;00m reduce \u001B[38;5;241m==\u001B[39m \u001B[38;5;124m'\u001B[39m\u001B[38;5;124mmean\u001B[39m\u001B[38;5;124m'\u001B[39m:\n\u001B[0;32m     73\u001B[0m     count \u001B[38;5;241m=\u001B[39m src\u001B[38;5;241m.\u001B[39mnew_zeros(dim_size)\n",
      "\u001B[1;31mRuntimeError\u001B[0m: index 5129 is out of bounds for dimension 0 with size 4278"
     ]
    }
   ],
   "source": [
    "ingredient_x.shape, len(ingredient_mapping)"
   ],
   "metadata": {
    "collapsed": false,
    "ExecuteTime": {
     "end_time": "2023-10-22T19:32:07.703508300Z",
     "start_time": "2023-10-22T19:32:05.254522500Z"
    }
   },
   "id": "6dd3de1c20740129"
  },
  {
   "cell_type": "code",
   "execution_count": 16,
   "outputs": [],
   "source": [
    "menu_query = \"\"\"\n",
    "MATCH (m:Menu)\n",
    "RETURN ID(m) as menuId, m.year as year, m.week as week\n",
    "\"\"\"\n",
    "\n",
    "\n",
    "def encode_cyclical_week(week_series):\n",
    "    week_sin = np.sin(2 * np.pi * week_series / 52.0)\n",
    "    week_cos = np.cos(2 * np.pi * week_series / 52.0)\n",
    "    week_tensor = torch.Tensor(list(zip(week_sin, week_cos)))\n",
    "    return week_tensor\n",
    "\n",
    "\n",
    "menu_x, menu_mapping = load_node(\n",
    "    menu_query, \n",
    "    index_col='menuId',\n",
    "    encoders={\n",
    "        \"year\": lambda x: torch.Tensor(x.tolist()).view(-1, 1),\n",
    "        \"week\": encode_cyclical_week\n",
    "    }\n",
    ")"
   ],
   "metadata": {
    "collapsed": false,
    "ExecuteTime": {
     "end_time": "2023-10-22T14:16:42.379563500Z",
     "start_time": "2023-10-22T14:16:42.053228400Z"
    }
   },
   "id": "101ad49116b3994f"
  },
  {
   "cell_type": "code",
   "execution_count": 17,
   "outputs": [
    {
     "data": {
      "text/plain": "(torch.Size([142, 3]), 142)"
     },
     "execution_count": 17,
     "metadata": {},
     "output_type": "execute_result"
    }
   ],
   "source": [
    "menu_x.shape, len(menu_mapping)"
   ],
   "metadata": {
    "collapsed": false,
    "ExecuteTime": {
     "end_time": "2023-10-22T14:16:42.513242Z",
     "start_time": "2023-10-22T14:16:42.379563500Z"
    }
   },
   "id": "40da01b9dfcfad8d"
  },
  {
   "cell_type": "code",
   "execution_count": 18,
   "outputs": [],
   "source": [
    "recipe_menu_query = \"\"\"\n",
    "MATCH (n:Recipe)-[r:IS_PART_OF_MENU]->(m:Menu)\n",
    "RETURN n.recipieId AS recipeId, ID(m) AS menuId, r.weekDay AS weekDay\n",
    "\"\"\"\n",
    "\n",
    "def encode_cyclical_weekday(weekday_series):\n",
    "    # Map weekdays to integers: Monday: 0, Tuesday: 1, ..., Sunday: 6\n",
    "    weekday_to_int = {\n",
    "        \"Monday\": 0, \"Tuesday\": 1, \"Wednesday\": 2, \"Thursday\": 3,\n",
    "        \"Friday\": 4, \"Saturday\": 5, \"Sunday\": 6\n",
    "    }\n",
    "    weekday_series_int = weekday_series.map(weekday_to_int)\n",
    "    \n",
    "    # Apply cyclical encoding\n",
    "    weekday_sin = np.sin(2 * np.pi * weekday_series_int / 7.0)\n",
    "    weekday_cos = np.cos(2 * np.pi * weekday_series_int / 7.0)\n",
    "    weekday_tensor = torch.Tensor(list(zip(weekday_sin, weekday_cos)))\n",
    "    \n",
    "    return weekday_tensor\n",
    "\n",
    "\n",
    "\n",
    "recipe_menu_edge_index, recipe_menu_edge_label = load_edge(\n",
    "    recipe_menu_query,\n",
    "    src_index_col='recipeId',\n",
    "    src_mapping=recipe_mapping,\n",
    "    dst_index_col='menuId',\n",
    "    dst_mapping=menu_mapping,\n",
    "    encoders={'weekDay': encode_cyclical_weekday},\n",
    ")"
   ],
   "metadata": {
    "collapsed": false,
    "ExecuteTime": {
     "end_time": "2023-10-22T14:16:43.413758400Z",
     "start_time": "2023-10-22T14:16:42.421600400Z"
    }
   },
   "id": "5b201cdc7df4b23f"
  },
  {
   "cell_type": "code",
   "execution_count": 19,
   "outputs": [
    {
     "data": {
      "text/plain": "(torch.Size([2, 993]), torch.Size([993, 2]))"
     },
     "execution_count": 19,
     "metadata": {},
     "output_type": "execute_result"
    }
   ],
   "source": [
    "recipe_menu_edge_index.shape, recipe_menu_edge_label.shape"
   ],
   "metadata": {
    "collapsed": false,
    "ExecuteTime": {
     "end_time": "2023-10-22T14:16:43.448933500Z",
     "start_time": "2023-10-22T14:16:43.417057200Z"
    }
   },
   "id": "b3a76f187ca70691"
  },
  {
   "cell_type": "code",
   "execution_count": 48,
   "outputs": [],
   "source": [
    "recipe_ingredient_query = \"\"\"\n",
    "MATCH (n:Recipe)-[r:HAS_INGREDIENT]->(i:Ingredient) \n",
    "RETURN n.recipieId AS recipeId, ID(i) AS ingredientId\n",
    "\"\"\"\n",
    "\n",
    "recipe_ingredient_edge_index, recipe_ingredient_edge_label = load_edge(\n",
    "    recipe_ingredient_query,\n",
    "    src_index_col='recipeId',\n",
    "    src_mapping=recipe_mapping,\n",
    "    dst_index_col='ingredientId',\n",
    "    dst_mapping=ingredient_mapping,\n",
    ")"
   ],
   "metadata": {
    "collapsed": false,
    "ExecuteTime": {
     "end_time": "2023-10-22T14:25:52.826120Z",
     "start_time": "2023-10-22T14:25:50.616028300Z"
    }
   },
   "id": "e63569124aef7cec"
  },
  {
   "cell_type": "code",
   "execution_count": 49,
   "outputs": [
    {
     "data": {
      "text/plain": "(torch.Size([2, 7907]), None)"
     },
     "execution_count": 49,
     "metadata": {},
     "output_type": "execute_result"
    }
   ],
   "source": [
    "recipe_ingredient_edge_index.shape, recipe_ingredient_edge_label"
   ],
   "metadata": {
    "collapsed": false,
    "ExecuteTime": {
     "end_time": "2023-10-22T14:25:54.660500300Z",
     "start_time": "2023-10-22T14:25:54.592352500Z"
    }
   },
   "id": "7bf086b1809709f5"
  },
  {
   "cell_type": "code",
   "execution_count": 74,
   "outputs": [
    {
     "data": {
      "text/plain": "(tensor(0), tensor(1792))"
     },
     "execution_count": 74,
     "metadata": {},
     "output_type": "execute_result"
    }
   ],
   "source": [
    "print(recipe_ingredient_edge_index[1].max(), len(ingredient_mapping))\n",
    "print(recipe_menu_edge_index[1].max(), len(menu_mapping))\n"
   ],
   "metadata": {
    "collapsed": false,
    "ExecuteTime": {
     "end_time": "2023-10-22T15:01:53.716314800Z",
     "start_time": "2023-10-22T15:01:53.669437900Z"
    }
   },
   "id": "dd3adbc928c62b57"
  },
  {
   "cell_type": "code",
   "execution_count": 23,
   "outputs": [],
   "source": [
    "if torch.cuda.is_available():\n",
    "    device = torch.device('cuda')\n",
    "elif hasattr(torch.backends, 'mps') and torch.backends.mps.is_available():\n",
    "    device = torch.device('mps')\n",
    "else:\n",
    "    device = torch.device('cpu')"
   ],
   "metadata": {
    "collapsed": false,
    "ExecuteTime": {
     "end_time": "2023-10-22T14:16:45.520680300Z",
     "start_time": "2023-10-22T14:16:45.317973200Z"
    }
   },
   "id": "ecf7709da6fb7a02"
  },
  {
   "cell_type": "code",
   "execution_count": 24,
   "outputs": [
    {
     "data": {
      "text/plain": "HeteroData(\n  num_relations=2,\n  num_nodes=2658,\n  recipe={ x=[723, 1536] },\n  menu={ x=[142, 3] },\n  ingredient={ x=[1793, 384] },\n  (recipe, has_ingredient, ingredient)={\n    edge_index=[2, 7907],\n    edge_attr=[7907, 1],\n  },\n  (recipe, is_part_of_menu, menu)={\n    edge_index=[2, 993],\n    edge_attr=[993, 2],\n  }\n)"
     },
     "execution_count": 24,
     "metadata": {},
     "output_type": "execute_result"
    }
   ],
   "source": [
    "from torch_geometric.data import HeteroData\n",
    "\n",
    "data = HeteroData()\n",
    "\n",
    "data['recipe'].x = recipe_x\n",
    "data[\"menu\"].x = menu_x\n",
    "data[\"ingredient\"].x = ingredient_x\n",
    "data[\"recipe\", \"has_ingredient\", \"ingredient\"].edge_index = recipe_ingredient_edge_index\n",
    "data[\"recipe\", \"has_ingredient\", \"ingredient\"].edge_attr = torch.ones((recipe_ingredient_edge_index.size(1), 1)) * 1\n",
    "data[\"recipe\", \"is_part_of_menu\", \"menu\"].edge_index = recipe_menu_edge_index\n",
    "data[\"recipe\", \"is_part_of_menu\", \"menu\"].edge_attr = recipe_menu_edge_label\n",
    "data.num_relations = 2\n",
    "data.num_nodes = len(recipe_mapping) + len(ingredient_mapping) + len(menu_mapping)\n",
    "\n",
    "data.to(device)\n",
    "data"
   ],
   "metadata": {
    "collapsed": false,
    "ExecuteTime": {
     "end_time": "2023-10-22T14:16:45.607646300Z",
     "start_time": "2023-10-22T14:16:45.347746100Z"
    }
   },
   "id": "7ed42e63f442ae0f"
  },
  {
   "cell_type": "code",
   "execution_count": null,
   "outputs": [],
   "source": [
    "torch.save(data, \"data.pt\")"
   ],
   "metadata": {
    "collapsed": false
   },
   "id": "11d23748ec21cc27"
  },
  {
   "cell_type": "code",
   "execution_count": 25,
   "outputs": [
    {
     "data": {
      "text/plain": "HeteroData(\n  num_relations=2,\n  num_nodes=2658,\n  recipe={ x=[723, 1536] },\n  menu={ x=[142, 3] },\n  ingredient={ x=[1793, 384] },\n  (recipe, has_ingredient, ingredient)={\n    edge_index=[2, 7907],\n    edge_attr=[7907, 1],\n  },\n  (recipe, is_part_of_menu, menu)={\n    edge_index=[2, 993],\n    edge_attr=[993, 2],\n  },\n  (ingredient, rev_has_ingredient, recipe)={\n    edge_index=[2, 7907],\n    edge_attr=[7907, 1],\n  },\n  (menu, rev_is_part_of_menu, recipe)={\n    edge_index=[2, 993],\n    edge_attr=[993, 2],\n  }\n)"
     },
     "execution_count": 25,
     "metadata": {},
     "output_type": "execute_result"
    }
   ],
   "source": [
    "from torch_geometric.transforms import ToUndirected\n",
    "\n",
    "data = ToUndirected()(data)\n",
    "data"
   ],
   "metadata": {
    "collapsed": false,
    "ExecuteTime": {
     "end_time": "2023-10-22T14:16:45.634623300Z",
     "start_time": "2023-10-22T14:16:45.416174400Z"
    }
   },
   "id": "b92685477f3427aa"
  },
  {
   "cell_type": "code",
   "execution_count": 31,
   "outputs": [
    {
     "ename": "ImportError",
     "evalue": "'SparseTensor' requires 'torch-sparse'",
     "output_type": "error",
     "traceback": [
      "\u001B[1;31m---------------------------------------------------------------------------\u001B[0m",
      "\u001B[1;31mImportError\u001B[0m                               Traceback (most recent call last)",
      "Cell \u001B[1;32mIn[31], line 7\u001B[0m\n\u001B[0;32m      1\u001B[0m \u001B[38;5;28;01mimport\u001B[39;00m \u001B[38;5;21;01mtorch_geometric\u001B[39;00m\u001B[38;5;21;01m.\u001B[39;00m\u001B[38;5;21;01mtransforms\u001B[39;00m \u001B[38;5;28;01mas\u001B[39;00m \u001B[38;5;21;01mT\u001B[39;00m\n\u001B[0;32m      3\u001B[0m metapaths \u001B[38;5;241m=\u001B[39m [\n\u001B[0;32m      4\u001B[0m     [(\u001B[38;5;124m'\u001B[39m\u001B[38;5;124mrecipe\u001B[39m\u001B[38;5;124m'\u001B[39m, \u001B[38;5;124m'\u001B[39m\u001B[38;5;124mmenu\u001B[39m\u001B[38;5;124m'\u001B[39m), (\u001B[38;5;124m'\u001B[39m\u001B[38;5;124mmenu\u001B[39m\u001B[38;5;124m'\u001B[39m, \u001B[38;5;124m'\u001B[39m\u001B[38;5;124mrecipe\u001B[39m\u001B[38;5;124m'\u001B[39m)],  \u001B[38;5;66;03m# MAM\u001B[39;00m\n\u001B[0;32m      5\u001B[0m     [(\u001B[38;5;124m'\u001B[39m\u001B[38;5;124mrecipe\u001B[39m\u001B[38;5;124m'\u001B[39m, \u001B[38;5;124m'\u001B[39m\u001B[38;5;124mingredient\u001B[39m\u001B[38;5;124m'\u001B[39m), (\u001B[38;5;124m'\u001B[39m\u001B[38;5;124mingredient\u001B[39m\u001B[38;5;124m'\u001B[39m, \u001B[38;5;124m'\u001B[39m\u001B[38;5;124mrecipe\u001B[39m\u001B[38;5;124m'\u001B[39m)],  \u001B[38;5;66;03m# MDM\u001B[39;00m\n\u001B[0;32m      6\u001B[0m ]\n\u001B[1;32m----> 7\u001B[0m data \u001B[38;5;241m=\u001B[39m \u001B[43mT\u001B[49m\u001B[38;5;241;43m.\u001B[39;49m\u001B[43mAddMetaPaths\u001B[49m\u001B[43m(\u001B[49m\u001B[43mmetapaths\u001B[49m\u001B[43m,\u001B[49m\u001B[43m \u001B[49m\u001B[43mdrop_orig_edge_types\u001B[49m\u001B[38;5;241;43m=\u001B[39;49m\u001B[38;5;28;43;01mTrue\u001B[39;49;00m\u001B[43m)\u001B[49m\u001B[43m(\u001B[49m\u001B[43mdata\u001B[49m\u001B[43m)\u001B[49m\n",
      "File \u001B[1;32m~\\Projects\\scripts\\lib\\site-packages\\torch_geometric\\transforms\\base_transform.py:32\u001B[0m, in \u001B[0;36mBaseTransform.__call__\u001B[1;34m(self, data)\u001B[0m\n\u001B[0;32m     30\u001B[0m \u001B[38;5;28;01mdef\u001B[39;00m \u001B[38;5;21m__call__\u001B[39m(\u001B[38;5;28mself\u001B[39m, data: Any) \u001B[38;5;241m-\u001B[39m\u001B[38;5;241m>\u001B[39m Any:\n\u001B[0;32m     31\u001B[0m     \u001B[38;5;66;03m# Shallow-copy the data so that we prevent in-place data modification.\u001B[39;00m\n\u001B[1;32m---> 32\u001B[0m     \u001B[38;5;28;01mreturn\u001B[39;00m \u001B[38;5;28;43mself\u001B[39;49m\u001B[38;5;241;43m.\u001B[39;49m\u001B[43mforward\u001B[49m\u001B[43m(\u001B[49m\u001B[43mcopy\u001B[49m\u001B[38;5;241;43m.\u001B[39;49m\u001B[43mcopy\u001B[49m\u001B[43m(\u001B[49m\u001B[43mdata\u001B[49m\u001B[43m)\u001B[49m\u001B[43m)\u001B[49m\n",
      "File \u001B[1;32m~\\Projects\\scripts\\lib\\site-packages\\torch_geometric\\transforms\\add_metapaths.py:143\u001B[0m, in \u001B[0;36mAddMetaPaths.forward\u001B[1;34m(self, data)\u001B[0m\n\u001B[0;32m    141\u001B[0m edge_type \u001B[38;5;241m=\u001B[39m metapath[\u001B[38;5;241m0\u001B[39m]\n\u001B[0;32m    142\u001B[0m edge_weight \u001B[38;5;241m=\u001B[39m \u001B[38;5;28mself\u001B[39m\u001B[38;5;241m.\u001B[39m_get_edge_weight(data, edge_type)\n\u001B[1;32m--> 143\u001B[0m adj1 \u001B[38;5;241m=\u001B[39m \u001B[43mSparseTensor\u001B[49m\u001B[38;5;241;43m.\u001B[39;49m\u001B[43mfrom_edge_index\u001B[49m\u001B[43m(\u001B[49m\n\u001B[0;32m    144\u001B[0m \u001B[43m    \u001B[49m\u001B[43medge_index\u001B[49m\u001B[38;5;241;43m=\u001B[39;49m\u001B[43mdata\u001B[49m\u001B[43m[\u001B[49m\u001B[43medge_type\u001B[49m\u001B[43m]\u001B[49m\u001B[38;5;241;43m.\u001B[39;49m\u001B[43medge_index\u001B[49m\u001B[43m,\u001B[49m\n\u001B[0;32m    145\u001B[0m \u001B[43m    \u001B[49m\u001B[43msparse_sizes\u001B[49m\u001B[38;5;241;43m=\u001B[39;49m\u001B[43mdata\u001B[49m\u001B[43m[\u001B[49m\u001B[43medge_type\u001B[49m\u001B[43m]\u001B[49m\u001B[38;5;241;43m.\u001B[39;49m\u001B[43msize\u001B[49m\u001B[43m(\u001B[49m\u001B[43m)\u001B[49m\u001B[43m,\u001B[49m\u001B[43m \u001B[49m\u001B[43medge_attr\u001B[49m\u001B[38;5;241;43m=\u001B[39;49m\u001B[43medge_weight\u001B[49m\u001B[43m)\u001B[49m\n\u001B[0;32m    147\u001B[0m \u001B[38;5;28;01mif\u001B[39;00m \u001B[38;5;28mself\u001B[39m\u001B[38;5;241m.\u001B[39mmax_sample \u001B[38;5;129;01mis\u001B[39;00m \u001B[38;5;129;01mnot\u001B[39;00m \u001B[38;5;28;01mNone\u001B[39;00m:\n\u001B[0;32m    148\u001B[0m     adj1 \u001B[38;5;241m=\u001B[39m \u001B[38;5;28mself\u001B[39m\u001B[38;5;241m.\u001B[39msample_adj(adj1)\n",
      "File \u001B[1;32m~\\Projects\\scripts\\lib\\site-packages\\torch_geometric\\typing.py:145\u001B[0m, in \u001B[0;36mSparseTensor.from_edge_index\u001B[1;34m(self, edge_index, edge_attr, sparse_sizes, is_sorted, trust_data)\u001B[0m\n\u001B[0;32m    136\u001B[0m \u001B[38;5;129m@classmethod\u001B[39m\n\u001B[0;32m    137\u001B[0m \u001B[38;5;28;01mdef\u001B[39;00m \u001B[38;5;21mfrom_edge_index\u001B[39m(\n\u001B[0;32m    138\u001B[0m     \u001B[38;5;28mself\u001B[39m,\n\u001B[1;32m   (...)\u001B[0m\n\u001B[0;32m    143\u001B[0m     trust_data: \u001B[38;5;28mbool\u001B[39m \u001B[38;5;241m=\u001B[39m \u001B[38;5;28;01mFalse\u001B[39;00m,\n\u001B[0;32m    144\u001B[0m ) \u001B[38;5;241m-\u001B[39m\u001B[38;5;241m>\u001B[39m \u001B[38;5;124m'\u001B[39m\u001B[38;5;124mSparseTensor\u001B[39m\u001B[38;5;124m'\u001B[39m:\n\u001B[1;32m--> 145\u001B[0m     \u001B[38;5;28;01mraise\u001B[39;00m \u001B[38;5;167;01mImportError\u001B[39;00m(\u001B[38;5;124m\"\u001B[39m\u001B[38;5;124m'\u001B[39m\u001B[38;5;124mSparseTensor\u001B[39m\u001B[38;5;124m'\u001B[39m\u001B[38;5;124m requires \u001B[39m\u001B[38;5;124m'\u001B[39m\u001B[38;5;124mtorch-sparse\u001B[39m\u001B[38;5;124m'\u001B[39m\u001B[38;5;124m\"\u001B[39m)\n",
      "\u001B[1;31mImportError\u001B[0m: 'SparseTensor' requires 'torch-sparse'"
     ]
    }
   ],
   "source": [
    "# import torch_geometric.transforms as T\n",
    "# \n",
    "# metapaths = [\n",
    "#     [('recipe', 'menu'), ('menu', 'recipe')],  # MAM\n",
    "#     [('recipe', 'ingredient'), ('ingredient', 'recipe')],  # MDM\n",
    "# ]\n",
    "# data = T.AddMetaPaths(metapaths, drop_orig_edge_types=True)(data)"
   ],
   "metadata": {
    "collapsed": false,
    "ExecuteTime": {
     "end_time": "2023-10-22T14:20:20.811445800Z",
     "start_time": "2023-10-22T14:20:20.679464600Z"
    }
   },
   "id": "8836c9a3ced6efb6"
  },
  {
   "cell_type": "code",
   "execution_count": 99,
   "outputs": [],
   "source": [
    "from torch_geometric.transforms import RandomLinkSplit\n",
    "\n",
    "# 2. Perform a link-level split into training, validation, and test edges.\n",
    "transform = RandomLinkSplit(\n",
    "    num_val=0.1,\n",
    "    num_test=0.1,\n",
    "    neg_sampling_ratio=0.0,\n",
    "    edge_types=[(\"recipe\", \"is_part_of_menu\", \"menu\"), (\"recipe\", \"has_ingredient\", \"ingredient\")],\n",
    "    is_undirected=True,\n",
    "    split_labels=True, \n",
    "    add_negative_train_samples=True,\n",
    ")\n",
    "train_data, val_data, test_data = transform(data)"
   ],
   "metadata": {
    "collapsed": false,
    "ExecuteTime": {
     "end_time": "2023-10-22T15:28:32.456679100Z",
     "start_time": "2023-10-22T15:28:32.299676800Z"
    }
   },
   "id": "40fbc3b48bf3660d"
  },
  {
   "cell_type": "code",
   "execution_count": 63,
   "outputs": [
    {
     "data": {
      "text/plain": "HeteroData(\n  num_relations=2,\n  num_nodes=2658,\n  recipe={ x=[723, 1536] },\n  menu={ x=[142, 3] },\n  ingredient={ x=[1793, 384] },\n  (recipe, has_ingredient, ingredient)={\n    edge_index=[2, 6327],\n    edge_attr=[6327, 1],\n    pos_edge_label=[6327],\n    pos_edge_label_index=[2, 6327],\n  },\n  (recipe, is_part_of_menu, menu)={\n    edge_index=[2, 795],\n    edge_attr=[795, 2],\n    pos_edge_label=[795],\n    pos_edge_label_index=[2, 795],\n  },\n  (ingredient, rev_has_ingredient, recipe)={\n    edge_index=[2, 6327],\n    edge_attr=[6327, 1],\n  },\n  (menu, rev_is_part_of_menu, recipe)={\n    edge_index=[2, 795],\n    edge_attr=[795, 2],\n  }\n)"
     },
     "execution_count": 63,
     "metadata": {},
     "output_type": "execute_result"
    }
   ],
   "source": [
    "train_data"
   ],
   "metadata": {
    "collapsed": false,
    "ExecuteTime": {
     "end_time": "2023-10-22T14:31:34.660034Z",
     "start_time": "2023-10-22T14:31:34.604720500Z"
    }
   },
   "id": "27ca4cc406072ed3"
  },
  {
   "cell_type": "code",
   "execution_count": 109,
   "outputs": [],
   "source": [
    "from torch_geometric.nn import GCNConv\n",
    "\n",
    "class HGNN(torch.nn.Module):\n",
    "    def __init__(self, in_channels_recipe, in_channels_menu, in_channels_ingredient, out_channels):\n",
    "        super(HGNN, self).__init__()\n",
    "        self.conv_recipe_menu = GCNConv(in_channels_recipe, out_channels)\n",
    "        self.conv_recipe_ingredient = GCNConv(in_channels_recipe, out_channels)\n",
    "\n",
    "    def forward(self, data):\n",
    "        x_recipe = data['recipe'].x\n",
    "        x_menu = data['menu'].x\n",
    "        x_ingredient = data['ingredient'].x\n",
    "\n",
    "        edge_index_rm = data['recipe', 'is_part_of_menu', 'menu'].edge_index\n",
    "        edge_index_ri = data['recipe', 'has_ingredient', 'ingredient'].edge_index\n",
    "\n",
    "        x_recipe_menu = self.conv_recipe_menu(x_recipe, edge_index_rm)\n",
    "        x_recipe_ingredient = self.conv_recipe_ingredient(x_recipe, edge_index_ri)\n",
    "\n",
    "        return F.relu(x_recipe_menu), F.relu(x_menu), F.relu(x_recipe_ingredient)\n"
   ],
   "metadata": {
    "collapsed": false,
    "ExecuteTime": {
     "end_time": "2023-10-22T15:39:00.256272200Z",
     "start_time": "2023-10-22T15:39:00.162501700Z"
    }
   },
   "id": "3aa6fd54bef8a3ef"
  },
  {
   "cell_type": "code",
   "execution_count": 84,
   "outputs": [],
   "source": [
    "len(data.edge_types)"
   ],
   "metadata": {
    "collapsed": false
   },
   "id": "c10429c3fef8df4c"
  },
  {
   "cell_type": "code",
   "execution_count": 110,
   "outputs": [],
   "source": [
    "model = HGNN(\n",
    "    in_channels_recipe=data['recipe'].x.size(1),\n",
    "    in_channels_menu=data['menu'].x.size(1),\n",
    "    in_channels_ingredient=data['ingredient'].x.size(1),\n",
    "    out_channels=64\n",
    ")\n",
    "optimizer = torch.optim.Adam(model.parameters(), lr=0.01)"
   ],
   "metadata": {
    "collapsed": false,
    "ExecuteTime": {
     "end_time": "2023-10-22T15:39:14.343635900Z",
     "start_time": "2023-10-22T15:39:14.296749Z"
    }
   },
   "id": "4882d5703529724"
  },
  {
   "cell_type": "code",
   "execution_count": 103,
   "outputs": [],
   "source": [
    "# with torch.no_grad():  # Initialize lazy modules.\n",
    "#     out = model(data.x_dict, data.edge_index_dict)"
   ],
   "metadata": {
    "collapsed": false,
    "ExecuteTime": {
     "end_time": "2023-10-22T15:32:29.863166Z",
     "start_time": "2023-10-22T15:32:29.758371300Z"
    }
   },
   "id": "aba7bf64991e9636"
  },
  {
   "cell_type": "code",
   "execution_count": 104,
   "outputs": [],
   "source": [
    "def mask_nodes(x, mask_rate=0.15):\n",
    "    num_nodes, num_features = x.size()\n",
    "    mask = torch.rand(num_nodes, num_features) < mask_rate\n",
    "    x_masked = x.clone()\n",
    "    x_masked[mask] = 0\n",
    "    return x_masked, mask\n"
   ],
   "metadata": {
    "collapsed": false,
    "ExecuteTime": {
     "end_time": "2023-10-22T15:32:53.717619200Z",
     "start_time": "2023-10-22T15:32:53.655114600Z"
    }
   },
   "id": "99ade3e35982999c"
  },
  {
   "cell_type": "code",
   "execution_count": 111,
   "outputs": [
    {
     "ename": "RuntimeError",
     "evalue": "index 723 is out of bounds for dimension 0 with size 723",
     "output_type": "error",
     "traceback": [
      "\u001B[1;31m---------------------------------------------------------------------------\u001B[0m",
      "\u001B[1;31mRuntimeError\u001B[0m                              Traceback (most recent call last)",
      "Cell \u001B[1;32mIn[111], line 14\u001B[0m\n\u001B[0;32m     11\u001B[0m data[\u001B[38;5;124m'\u001B[39m\u001B[38;5;124mmenu\u001B[39m\u001B[38;5;124m'\u001B[39m]\u001B[38;5;241m.\u001B[39mx \u001B[38;5;241m=\u001B[39m x_menu_masked\n\u001B[0;32m     12\u001B[0m data[\u001B[38;5;124m'\u001B[39m\u001B[38;5;124mingredient\u001B[39m\u001B[38;5;124m'\u001B[39m]\u001B[38;5;241m.\u001B[39mx \u001B[38;5;241m=\u001B[39m x_ingredient_masked\n\u001B[1;32m---> 14\u001B[0m out_recipe_menu, out_menu, out_recipe_ingredient \u001B[38;5;241m=\u001B[39m \u001B[43mmodel\u001B[49m\u001B[43m(\u001B[49m\u001B[43mdata\u001B[49m\u001B[43m)\u001B[49m\n\u001B[0;32m     16\u001B[0m \u001B[38;5;66;03m# Reconstruction loss\u001B[39;00m\n\u001B[0;32m     17\u001B[0m loss_recipe \u001B[38;5;241m=\u001B[39m F\u001B[38;5;241m.\u001B[39mmse_loss(out_recipe_menu[mask_recipe], data[\u001B[38;5;124m'\u001B[39m\u001B[38;5;124mrecipe\u001B[39m\u001B[38;5;124m'\u001B[39m]\u001B[38;5;241m.\u001B[39mx[mask_recipe])\n",
      "File \u001B[1;32m~\\Projects\\scripts\\lib\\site-packages\\torch\\nn\\modules\\module.py:1518\u001B[0m, in \u001B[0;36mModule._wrapped_call_impl\u001B[1;34m(self, *args, **kwargs)\u001B[0m\n\u001B[0;32m   1516\u001B[0m     \u001B[38;5;28;01mreturn\u001B[39;00m \u001B[38;5;28mself\u001B[39m\u001B[38;5;241m.\u001B[39m_compiled_call_impl(\u001B[38;5;241m*\u001B[39margs, \u001B[38;5;241m*\u001B[39m\u001B[38;5;241m*\u001B[39mkwargs)  \u001B[38;5;66;03m# type: ignore[misc]\u001B[39;00m\n\u001B[0;32m   1517\u001B[0m \u001B[38;5;28;01melse\u001B[39;00m:\n\u001B[1;32m-> 1518\u001B[0m     \u001B[38;5;28;01mreturn\u001B[39;00m \u001B[38;5;28mself\u001B[39m\u001B[38;5;241m.\u001B[39m_call_impl(\u001B[38;5;241m*\u001B[39margs, \u001B[38;5;241m*\u001B[39m\u001B[38;5;241m*\u001B[39mkwargs)\n",
      "File \u001B[1;32m~\\Projects\\scripts\\lib\\site-packages\\torch\\nn\\modules\\module.py:1527\u001B[0m, in \u001B[0;36mModule._call_impl\u001B[1;34m(self, *args, **kwargs)\u001B[0m\n\u001B[0;32m   1522\u001B[0m \u001B[38;5;66;03m# If we don't have any hooks, we want to skip the rest of the logic in\u001B[39;00m\n\u001B[0;32m   1523\u001B[0m \u001B[38;5;66;03m# this function, and just call forward.\u001B[39;00m\n\u001B[0;32m   1524\u001B[0m \u001B[38;5;28;01mif\u001B[39;00m \u001B[38;5;129;01mnot\u001B[39;00m (\u001B[38;5;28mself\u001B[39m\u001B[38;5;241m.\u001B[39m_backward_hooks \u001B[38;5;129;01mor\u001B[39;00m \u001B[38;5;28mself\u001B[39m\u001B[38;5;241m.\u001B[39m_backward_pre_hooks \u001B[38;5;129;01mor\u001B[39;00m \u001B[38;5;28mself\u001B[39m\u001B[38;5;241m.\u001B[39m_forward_hooks \u001B[38;5;129;01mor\u001B[39;00m \u001B[38;5;28mself\u001B[39m\u001B[38;5;241m.\u001B[39m_forward_pre_hooks\n\u001B[0;32m   1525\u001B[0m         \u001B[38;5;129;01mor\u001B[39;00m _global_backward_pre_hooks \u001B[38;5;129;01mor\u001B[39;00m _global_backward_hooks\n\u001B[0;32m   1526\u001B[0m         \u001B[38;5;129;01mor\u001B[39;00m _global_forward_hooks \u001B[38;5;129;01mor\u001B[39;00m _global_forward_pre_hooks):\n\u001B[1;32m-> 1527\u001B[0m     \u001B[38;5;28;01mreturn\u001B[39;00m forward_call(\u001B[38;5;241m*\u001B[39margs, \u001B[38;5;241m*\u001B[39m\u001B[38;5;241m*\u001B[39mkwargs)\n\u001B[0;32m   1529\u001B[0m \u001B[38;5;28;01mtry\u001B[39;00m:\n\u001B[0;32m   1530\u001B[0m     result \u001B[38;5;241m=\u001B[39m \u001B[38;5;28;01mNone\u001B[39;00m\n",
      "Cell \u001B[1;32mIn[109], line 18\u001B[0m, in \u001B[0;36mHGNN.forward\u001B[1;34m(self, data)\u001B[0m\n\u001B[0;32m     15\u001B[0m edge_index_ri \u001B[38;5;241m=\u001B[39m data[\u001B[38;5;124m'\u001B[39m\u001B[38;5;124mrecipe\u001B[39m\u001B[38;5;124m'\u001B[39m, \u001B[38;5;124m'\u001B[39m\u001B[38;5;124mhas_ingredient\u001B[39m\u001B[38;5;124m'\u001B[39m, \u001B[38;5;124m'\u001B[39m\u001B[38;5;124mingredient\u001B[39m\u001B[38;5;124m'\u001B[39m]\u001B[38;5;241m.\u001B[39medge_index\n\u001B[0;32m     17\u001B[0m x_recipe_menu \u001B[38;5;241m=\u001B[39m \u001B[38;5;28mself\u001B[39m\u001B[38;5;241m.\u001B[39mconv_recipe_menu(x_recipe, edge_index_rm)\n\u001B[1;32m---> 18\u001B[0m x_recipe_ingredient \u001B[38;5;241m=\u001B[39m \u001B[38;5;28;43mself\u001B[39;49m\u001B[38;5;241;43m.\u001B[39;49m\u001B[43mconv_recipe_ingredient\u001B[49m\u001B[43m(\u001B[49m\u001B[43mx_recipe\u001B[49m\u001B[43m,\u001B[49m\u001B[43m \u001B[49m\u001B[43medge_index_ri\u001B[49m\u001B[43m)\u001B[49m\n\u001B[0;32m     20\u001B[0m \u001B[38;5;28;01mreturn\u001B[39;00m F\u001B[38;5;241m.\u001B[39mrelu(x_recipe_menu), F\u001B[38;5;241m.\u001B[39mrelu(x_menu), F\u001B[38;5;241m.\u001B[39mrelu(x_recipe_ingredient)\n",
      "File \u001B[1;32m~\\Projects\\scripts\\lib\\site-packages\\torch\\nn\\modules\\module.py:1518\u001B[0m, in \u001B[0;36mModule._wrapped_call_impl\u001B[1;34m(self, *args, **kwargs)\u001B[0m\n\u001B[0;32m   1516\u001B[0m     \u001B[38;5;28;01mreturn\u001B[39;00m \u001B[38;5;28mself\u001B[39m\u001B[38;5;241m.\u001B[39m_compiled_call_impl(\u001B[38;5;241m*\u001B[39margs, \u001B[38;5;241m*\u001B[39m\u001B[38;5;241m*\u001B[39mkwargs)  \u001B[38;5;66;03m# type: ignore[misc]\u001B[39;00m\n\u001B[0;32m   1517\u001B[0m \u001B[38;5;28;01melse\u001B[39;00m:\n\u001B[1;32m-> 1518\u001B[0m     \u001B[38;5;28;01mreturn\u001B[39;00m \u001B[38;5;28mself\u001B[39m\u001B[38;5;241m.\u001B[39m_call_impl(\u001B[38;5;241m*\u001B[39margs, \u001B[38;5;241m*\u001B[39m\u001B[38;5;241m*\u001B[39mkwargs)\n",
      "File \u001B[1;32m~\\Projects\\scripts\\lib\\site-packages\\torch\\nn\\modules\\module.py:1527\u001B[0m, in \u001B[0;36mModule._call_impl\u001B[1;34m(self, *args, **kwargs)\u001B[0m\n\u001B[0;32m   1522\u001B[0m \u001B[38;5;66;03m# If we don't have any hooks, we want to skip the rest of the logic in\u001B[39;00m\n\u001B[0;32m   1523\u001B[0m \u001B[38;5;66;03m# this function, and just call forward.\u001B[39;00m\n\u001B[0;32m   1524\u001B[0m \u001B[38;5;28;01mif\u001B[39;00m \u001B[38;5;129;01mnot\u001B[39;00m (\u001B[38;5;28mself\u001B[39m\u001B[38;5;241m.\u001B[39m_backward_hooks \u001B[38;5;129;01mor\u001B[39;00m \u001B[38;5;28mself\u001B[39m\u001B[38;5;241m.\u001B[39m_backward_pre_hooks \u001B[38;5;129;01mor\u001B[39;00m \u001B[38;5;28mself\u001B[39m\u001B[38;5;241m.\u001B[39m_forward_hooks \u001B[38;5;129;01mor\u001B[39;00m \u001B[38;5;28mself\u001B[39m\u001B[38;5;241m.\u001B[39m_forward_pre_hooks\n\u001B[0;32m   1525\u001B[0m         \u001B[38;5;129;01mor\u001B[39;00m _global_backward_pre_hooks \u001B[38;5;129;01mor\u001B[39;00m _global_backward_hooks\n\u001B[0;32m   1526\u001B[0m         \u001B[38;5;129;01mor\u001B[39;00m _global_forward_hooks \u001B[38;5;129;01mor\u001B[39;00m _global_forward_pre_hooks):\n\u001B[1;32m-> 1527\u001B[0m     \u001B[38;5;28;01mreturn\u001B[39;00m forward_call(\u001B[38;5;241m*\u001B[39margs, \u001B[38;5;241m*\u001B[39m\u001B[38;5;241m*\u001B[39mkwargs)\n\u001B[0;32m   1529\u001B[0m \u001B[38;5;28;01mtry\u001B[39;00m:\n\u001B[0;32m   1530\u001B[0m     result \u001B[38;5;241m=\u001B[39m \u001B[38;5;28;01mNone\u001B[39;00m\n",
      "File \u001B[1;32m~\\Projects\\scripts\\lib\\site-packages\\torch_geometric\\nn\\conv\\gcn_conv.py:222\u001B[0m, in \u001B[0;36mGCNConv.forward\u001B[1;34m(self, x, edge_index, edge_weight)\u001B[0m\n\u001B[0;32m    220\u001B[0m cache \u001B[38;5;241m=\u001B[39m \u001B[38;5;28mself\u001B[39m\u001B[38;5;241m.\u001B[39m_cached_edge_index\n\u001B[0;32m    221\u001B[0m \u001B[38;5;28;01mif\u001B[39;00m cache \u001B[38;5;129;01mis\u001B[39;00m \u001B[38;5;28;01mNone\u001B[39;00m:\n\u001B[1;32m--> 222\u001B[0m     edge_index, edge_weight \u001B[38;5;241m=\u001B[39m \u001B[43mgcn_norm\u001B[49m\u001B[43m(\u001B[49m\u001B[43m  \u001B[49m\u001B[38;5;66;43;03m# yapf: disable\u001B[39;49;00m\n\u001B[0;32m    223\u001B[0m \u001B[43m        \u001B[49m\u001B[43medge_index\u001B[49m\u001B[43m,\u001B[49m\u001B[43m \u001B[49m\u001B[43medge_weight\u001B[49m\u001B[43m,\u001B[49m\u001B[43m \u001B[49m\u001B[43mx\u001B[49m\u001B[38;5;241;43m.\u001B[39;49m\u001B[43msize\u001B[49m\u001B[43m(\u001B[49m\u001B[38;5;28;43mself\u001B[39;49m\u001B[38;5;241;43m.\u001B[39;49m\u001B[43mnode_dim\u001B[49m\u001B[43m)\u001B[49m\u001B[43m,\u001B[49m\n\u001B[0;32m    224\u001B[0m \u001B[43m        \u001B[49m\u001B[38;5;28;43mself\u001B[39;49m\u001B[38;5;241;43m.\u001B[39;49m\u001B[43mimproved\u001B[49m\u001B[43m,\u001B[49m\u001B[43m \u001B[49m\u001B[38;5;28;43mself\u001B[39;49m\u001B[38;5;241;43m.\u001B[39;49m\u001B[43madd_self_loops\u001B[49m\u001B[43m,\u001B[49m\u001B[43m \u001B[49m\u001B[38;5;28;43mself\u001B[39;49m\u001B[38;5;241;43m.\u001B[39;49m\u001B[43mflow\u001B[49m\u001B[43m,\u001B[49m\u001B[43m \u001B[49m\u001B[43mx\u001B[49m\u001B[38;5;241;43m.\u001B[39;49m\u001B[43mdtype\u001B[49m\u001B[43m)\u001B[49m\n\u001B[0;32m    225\u001B[0m     \u001B[38;5;28;01mif\u001B[39;00m \u001B[38;5;28mself\u001B[39m\u001B[38;5;241m.\u001B[39mcached:\n\u001B[0;32m    226\u001B[0m         \u001B[38;5;28mself\u001B[39m\u001B[38;5;241m.\u001B[39m_cached_edge_index \u001B[38;5;241m=\u001B[39m (edge_index, edge_weight)\n",
      "File \u001B[1;32m~\\Projects\\scripts\\lib\\site-packages\\torch_geometric\\nn\\conv\\gcn_conv.py:100\u001B[0m, in \u001B[0;36mgcn_norm\u001B[1;34m(edge_index, edge_weight, num_nodes, improved, add_self_loops, flow, dtype)\u001B[0m\n\u001B[0;32m     98\u001B[0m row, col \u001B[38;5;241m=\u001B[39m edge_index[\u001B[38;5;241m0\u001B[39m], edge_index[\u001B[38;5;241m1\u001B[39m]\n\u001B[0;32m     99\u001B[0m idx \u001B[38;5;241m=\u001B[39m col \u001B[38;5;28;01mif\u001B[39;00m flow \u001B[38;5;241m==\u001B[39m \u001B[38;5;124m'\u001B[39m\u001B[38;5;124msource_to_target\u001B[39m\u001B[38;5;124m'\u001B[39m \u001B[38;5;28;01melse\u001B[39;00m row\n\u001B[1;32m--> 100\u001B[0m deg \u001B[38;5;241m=\u001B[39m \u001B[43mscatter\u001B[49m\u001B[43m(\u001B[49m\u001B[43medge_weight\u001B[49m\u001B[43m,\u001B[49m\u001B[43m \u001B[49m\u001B[43midx\u001B[49m\u001B[43m,\u001B[49m\u001B[43m \u001B[49m\u001B[43mdim\u001B[49m\u001B[38;5;241;43m=\u001B[39;49m\u001B[38;5;241;43m0\u001B[39;49m\u001B[43m,\u001B[49m\u001B[43m \u001B[49m\u001B[43mdim_size\u001B[49m\u001B[38;5;241;43m=\u001B[39;49m\u001B[43mnum_nodes\u001B[49m\u001B[43m,\u001B[49m\u001B[43m \u001B[49m\u001B[43mreduce\u001B[49m\u001B[38;5;241;43m=\u001B[39;49m\u001B[38;5;124;43m'\u001B[39;49m\u001B[38;5;124;43msum\u001B[39;49m\u001B[38;5;124;43m'\u001B[39;49m\u001B[43m)\u001B[49m\n\u001B[0;32m    101\u001B[0m deg_inv_sqrt \u001B[38;5;241m=\u001B[39m deg\u001B[38;5;241m.\u001B[39mpow_(\u001B[38;5;241m-\u001B[39m\u001B[38;5;241m0.5\u001B[39m)\n\u001B[0;32m    102\u001B[0m deg_inv_sqrt\u001B[38;5;241m.\u001B[39mmasked_fill_(deg_inv_sqrt \u001B[38;5;241m==\u001B[39m \u001B[38;5;28mfloat\u001B[39m(\u001B[38;5;124m'\u001B[39m\u001B[38;5;124minf\u001B[39m\u001B[38;5;124m'\u001B[39m), \u001B[38;5;241m0\u001B[39m)\n",
      "File \u001B[1;32m~\\Projects\\scripts\\lib\\site-packages\\torch_geometric\\utils\\scatter.py:70\u001B[0m, in \u001B[0;36mscatter\u001B[1;34m(src, index, dim, dim_size, reduce)\u001B[0m\n\u001B[0;32m     68\u001B[0m \u001B[38;5;28;01mif\u001B[39;00m reduce \u001B[38;5;241m==\u001B[39m \u001B[38;5;124m'\u001B[39m\u001B[38;5;124msum\u001B[39m\u001B[38;5;124m'\u001B[39m \u001B[38;5;129;01mor\u001B[39;00m reduce \u001B[38;5;241m==\u001B[39m \u001B[38;5;124m'\u001B[39m\u001B[38;5;124madd\u001B[39m\u001B[38;5;124m'\u001B[39m:\n\u001B[0;32m     69\u001B[0m     index \u001B[38;5;241m=\u001B[39m broadcast(index, src, dim)\n\u001B[1;32m---> 70\u001B[0m     \u001B[38;5;28;01mreturn\u001B[39;00m \u001B[43msrc\u001B[49m\u001B[38;5;241;43m.\u001B[39;49m\u001B[43mnew_zeros\u001B[49m\u001B[43m(\u001B[49m\u001B[43msize\u001B[49m\u001B[43m)\u001B[49m\u001B[38;5;241;43m.\u001B[39;49m\u001B[43mscatter_add_\u001B[49m\u001B[43m(\u001B[49m\u001B[43mdim\u001B[49m\u001B[43m,\u001B[49m\u001B[43m \u001B[49m\u001B[43mindex\u001B[49m\u001B[43m,\u001B[49m\u001B[43m \u001B[49m\u001B[43msrc\u001B[49m\u001B[43m)\u001B[49m\n\u001B[0;32m     72\u001B[0m \u001B[38;5;28;01mif\u001B[39;00m reduce \u001B[38;5;241m==\u001B[39m \u001B[38;5;124m'\u001B[39m\u001B[38;5;124mmean\u001B[39m\u001B[38;5;124m'\u001B[39m:\n\u001B[0;32m     73\u001B[0m     count \u001B[38;5;241m=\u001B[39m src\u001B[38;5;241m.\u001B[39mnew_zeros(dim_size)\n",
      "\u001B[1;31mRuntimeError\u001B[0m: index 723 is out of bounds for dimension 0 with size 723"
     ]
    }
   ],
   "source": [
    "\n",
    "for epoch in range(100):\n",
    "    model.train()\n",
    "    optimizer.zero_grad()\n",
    "\n",
    "    # Mask a fraction of node attributes\n",
    "    x_recipe_masked, mask_recipe = mask_nodes(data['recipe'].x)\n",
    "    x_menu_masked, mask_menu = mask_nodes(data['menu'].x)\n",
    "    x_ingredient_masked, mask_ingredient = mask_nodes(data['ingredient'].x)\n",
    "\n",
    "    data['recipe'].x = x_recipe_masked\n",
    "    data['menu'].x = x_menu_masked\n",
    "    data['ingredient'].x = x_ingredient_masked\n",
    "\n",
    "    out_recipe_menu, out_menu, out_recipe_ingredient = model(data)\n",
    "\n",
    "    # Reconstruction loss\n",
    "    loss_recipe = F.mse_loss(out_recipe_menu[mask_recipe], data['recipe'].x[mask_recipe])\n",
    "    loss_menu = F.mse_loss(out_menu[mask_menu], data['menu'].x[mask_menu])\n",
    "    loss_ingredient = F.mse_loss(out_recipe_ingredient[mask_ingredient], data['ingredient'].x[mask_ingredient])\n",
    "    \n",
    "    loss = loss_recipe + loss_menu + loss_ingredient\n",
    "\n",
    "    loss.backward()\n",
    "    optimizer.step()\n",
    "\n",
    "    print(f\"Epoch {epoch+1}, Loss: {loss.item()}\")"
   ],
   "metadata": {
    "collapsed": false,
    "ExecuteTime": {
     "end_time": "2023-10-22T15:39:29.216665300Z",
     "start_time": "2023-10-22T15:39:28.158654600Z"
    }
   },
   "id": "887039b8df14d594"
  },
  {
   "cell_type": "code",
   "execution_count": 93,
   "outputs": [
    {
     "data": {
      "text/plain": "tensor([[-10.2415,   0.5008,  -7.4603,  ...,  -6.9207,  -1.3326,  -3.3603],\n        [-10.2391,   0.5022,  -7.4600,  ...,  -6.9198,  -1.3326,  -3.3601],\n        [-10.2387,   0.5019,  -7.4575,  ...,  -6.9208,  -1.3332,  -3.3580],\n        ...,\n        [-10.2428,   0.5010,  -7.4602,  ...,  -6.9220,  -1.3324,  -3.3581],\n        [-10.2353,   0.5031,  -7.4569,  ...,  -6.9189,  -1.3329,  -3.3591],\n        [-10.2309,   0.5029,  -7.4524,  ...,  -6.9160,  -1.3320,  -3.3554]],\n       grad_fn=<AddmmBackward0>)"
     },
     "execution_count": 93,
     "metadata": {},
     "output_type": "execute_result"
    }
   ],
   "source": [
    "model.encode(train_data.x_dict, train_data.edge_index_dict)"
   ],
   "metadata": {
    "collapsed": false,
    "ExecuteTime": {
     "end_time": "2023-10-22T15:18:48.075586200Z",
     "start_time": "2023-10-22T15:18:47.969585800Z"
    }
   },
   "id": "60aaf9c8b9f794dd"
  }
 ],
 "metadata": {
  "kernelspec": {
   "display_name": "Python 3",
   "language": "python",
   "name": "python3"
  },
  "language_info": {
   "codemirror_mode": {
    "name": "ipython",
    "version": 2
   },
   "file_extension": ".py",
   "mimetype": "text/x-python",
   "name": "python",
   "nbconvert_exporter": "python",
   "pygments_lexer": "ipython2",
   "version": "2.7.6"
  }
 },
 "nbformat": 4,
 "nbformat_minor": 5
}
